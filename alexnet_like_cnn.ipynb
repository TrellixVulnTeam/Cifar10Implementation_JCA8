{
 "cells": [
  {
   "cell_type": "markdown",
   "metadata": {},
   "source": [
    "## imports"
   ]
  },
  {
   "cell_type": "code",
   "execution_count": 1,
   "metadata": {},
   "outputs": [],
   "source": [
    "%matplotlib inline\n",
    "import matplotlib.pyplot as plt\n",
    "import tensorflow as tf\n",
    "import numpy as np\n",
    "from sklearn.metrics import confusion_matrix\n",
    "import time\n",
    "from datetime import timedelta\n",
    "import datetime\n",
    "import math\n",
    "import os\n",
    "from scipy import ndimage"
   ]
  },
  {
   "cell_type": "code",
   "execution_count": 22,
   "metadata": {},
   "outputs": [],
   "source": [
    "learning_rate = 0.001\n",
    "training_iters =  300\n",
    "batch_size = 64\n",
    "display_step = 100\n",
    "# Network Parameters\n",
    "n_input = 784 # MNIST data input (img shape: 28*28)\n",
    "n_classes = 10 # MNIST total classes (0-9 digits)\n",
    "dropout = 0.8 # Dropout, probability to keep units"
   ]
  },
  {
   "cell_type": "markdown",
   "metadata": {},
   "source": [
    "## load data"
   ]
  },
  {
   "cell_type": "code",
   "execution_count": 23,
   "metadata": {},
   "outputs": [
    {
     "name": "stdout",
     "output_type": "stream",
     "text": [
      "Extracting data/MNIST/train-images-idx3-ubyte.gz\n",
      "Extracting data/MNIST/train-labels-idx1-ubyte.gz\n",
      "Extracting data/MNIST/t10k-images-idx3-ubyte.gz\n",
      "Extracting data/MNIST/t10k-labels-idx1-ubyte.gz\n"
     ]
    }
   ],
   "source": [
    "import tensorflow as tf\n",
    "from tensorflow.examples.tutorials.mnist import input_data\n",
    "mnist = input_data.read_data_sets('data/MNIST/', one_hot=True)\n",
    "data = mnist"
   ]
  },
  {
   "cell_type": "code",
   "execution_count": 24,
   "metadata": {},
   "outputs": [
    {
     "name": "stdout",
     "output_type": "stream",
     "text": [
      "Size of:\n",
      "- Training-set:\t\t55000\n",
      "- Test-set:\t\t10000\n",
      "- Validation-set:\t5000\n"
     ]
    }
   ],
   "source": [
    "from tensorflow.examples.tutorials.mnist import input_data\n",
    "print(\"Size of:\")\n",
    "print(\"- Training-set:\\t\\t{}\".format(len(data.train.labels)))\n",
    "print(\"- Test-set:\\t\\t{}\".format(len(data.test.labels)))\n",
    "print(\"- Validation-set:\\t{}\".format(len(data.validation.labels)))"
   ]
  },
  {
   "cell_type": "code",
   "execution_count": 25,
   "metadata": {},
   "outputs": [],
   "source": [
    "data.test.cls = np.argmax(data.test.labels, axis=1)"
   ]
  },
  {
   "cell_type": "markdown",
   "metadata": {},
   "source": [
    "## helper funcions for creating new variables"
   ]
  },
  {
   "cell_type": "code",
   "execution_count": 26,
   "metadata": {},
   "outputs": [],
   "source": [
    "def new_weights(shape):\n",
    "    return tf.Variable(tf.truncated_normal(shape, stddev=0.05))\n",
    "\n",
    "def new_biases(length):\n",
    "    return tf.Variable(tf.constant(0.05, shape=[length]))"
   ]
  },
  {
   "cell_type": "markdown",
   "metadata": {},
   "source": [
    "## new convolution layer"
   ]
  },
  {
   "cell_type": "code",
   "execution_count": 27,
   "metadata": {},
   "outputs": [],
   "source": [
    "def new_conv_layer(input,              # The previous layer.\n",
    "                   num_input_channels, # Num. channels in prev. layer.\n",
    "                   filter_size,        # Width and height of each filter.\n",
    "                   num_filters,):  # Use 2x2 max-pooling.\n",
    "\n",
    "    # Shape of the filter-weights for the convolution.\n",
    "    # This format is determined by the TensorFlow API.\n",
    "    shape = [filter_size, filter_size, num_input_channels, num_filters]\n",
    "\n",
    "    # Create new weights aka. filters with the given shape.\n",
    "    weights = new_weights(shape=shape)\n",
    "\n",
    "    # Create new biases, one for each filter.\n",
    "    biases = new_biases(length=num_filters)\n",
    "\n",
    "    # Create the TensorFlow operation for convolution.\n",
    "    # Note the strides are set to 1 in all dimensions.\n",
    "    # The first and last stride must always be 1,\n",
    "    # because the first is for the image-number and\n",
    "    # the last is for the input-channel.\n",
    "    # But e.g. strides=[1, 2, 2, 1] would mean that the filter\n",
    "    # is moved 2 pixels across the x- and y-axis of the image.\n",
    "    # The padding is set to 'SAME' which means the input image\n",
    "    # is padded with zeroes so the size of the output is the same.\n",
    "    layer = tf.nn.conv2d(input=input,\n",
    "                         filter=weights,\n",
    "                         strides=[1, 1, 1, 1],\n",
    "                         padding='SAME')\n",
    "    #layerConvOut = layer\n",
    "\n",
    "    # Add the biases to the results of the convolution.\n",
    "    # A bias-value is added to each filter-channel.\n",
    "    #layer += biases\n",
    "\n",
    "    return layer, weights, biases"
   ]
  },
  {
   "cell_type": "code",
   "execution_count": 28,
   "metadata": {},
   "outputs": [],
   "source": [
    "def pooling_relu(input,              # The previous layer.\n",
    "                  use_pooling=True):  # Use 2x2 max-pooling.\n",
    "\n",
    "\n",
    "    # Use pooling to down-sample the image resolution?\n",
    "    if use_pooling:\n",
    "        # This is 2x2 max-pooling, which means that we\n",
    "        # consider 2x2 windows and select the largest value\n",
    "        # in each window. Then we move 2 pixels to the next window.\n",
    "        layer = tf.nn.max_pool(value=input,\n",
    "                               ksize=[1, 2, 2, 1],\n",
    "                               strides=[1, 2, 2, 1],\n",
    "                               padding='SAME')\n",
    "\n",
    "    # Rectified Linear Unit (ReLU).\n",
    "    # It calculates max(x, 0) for each input pixel x.\n",
    "    # This adds some non-linearity to the formula and allows us\n",
    "    # to learn more complicated functions.\n",
    "    layer = tf.nn.relu(layer)\n",
    "\n",
    "    # Note that ReLU is normally executed before the pooling,\n",
    "    # but since relu(max_pool(x)) == max_pool(relu(x)) we can\n",
    "    # save 75% of the relu-operations by max-pooling first.\n",
    "\n",
    "    # We return both the resulting layer and the filter-weights\n",
    "    # because we will plot the weights later.\n",
    "    return layer"
   ]
  },
  {
   "cell_type": "code",
   "execution_count": 29,
   "metadata": {},
   "outputs": [],
   "source": [
    "def flatten_layer(layer):\n",
    "    # Get the shape of the input layer.\n",
    "    layer_shape = layer.get_shape()\n",
    "\n",
    "    # The shape of the input layer is assumed to be:\n",
    "    # layer_shape == [num_images, img_height, img_width, num_channels]\n",
    "\n",
    "    # The number of features is: img_height * img_width * num_channels\n",
    "    # We can use a function from TensorFlow to calculate this.\n",
    "    num_features = layer_shape[1:4].num_elements()\n",
    "    \n",
    "    # Reshape the layer to [num_images, num_features].\n",
    "    # Note that we just set the size of the second dimension\n",
    "    # to num_features and the size of the first dimension to -1\n",
    "    # which means the size in that dimension is calculated\n",
    "    # so the total size of the tensor is unchanged from the reshaping.\n",
    "    layer_flat = tf.reshape(layer, [-1, num_features])\n",
    "\n",
    "    # The shape of the flattened layer is now:\n",
    "    # [num_images, img_height * img_width * num_channels]\n",
    "\n",
    "    # Return both the flattened layer and the number of features.\n",
    "    return layer_flat, num_features"
   ]
  },
  {
   "cell_type": "markdown",
   "metadata": {},
   "source": [
    "## helper function for fully connected layer"
   ]
  },
  {
   "cell_type": "code",
   "execution_count": 30,
   "metadata": {},
   "outputs": [],
   "source": [
    "def new_fc_layer(input,          # The previous layer.\n",
    "                 num_inputs,     # Num. inputs from prev. layer.\n",
    "                 num_outputs,    # Num. outputs.\n",
    "                 use_relu=True): # Use Rectified Linear Unit (ReLU)?\n",
    "\n",
    "    # Create new weights and biases.\n",
    "    weights = new_weights(shape=[num_inputs, num_outputs])\n",
    "    biases = new_biases(length=num_outputs)\n",
    "\n",
    "    # Calculate the layer as the matrix multiplication of\n",
    "    # the input and weights, and then add the bias-values.\n",
    "    layer = tf.matmul(input, weights) + biases\n",
    "\n",
    "    # Use ReLU?\n",
    "    if use_relu:\n",
    "        layer = tf.nn.relu(layer)\n",
    "\n",
    "    return layer,weights"
   ]
  },
  {
   "cell_type": "code",
   "execution_count": 33,
   "metadata": {},
   "outputs": [
    {
     "ename": "ValueError",
     "evalue": "No variables to save",
     "output_type": "error",
     "traceback": [
      "\u001b[0;31m---------------------------------------------------------------------------\u001b[0m",
      "\u001b[0;31mValueError\u001b[0m                                Traceback (most recent call last)",
      "\u001b[0;32m<ipython-input-33-6b3d66a5d17d>\u001b[0m in \u001b[0;36m<module>\u001b[0;34m()\u001b[0m\n\u001b[1;32m      1\u001b[0m \u001b[0;32mimport\u001b[0m \u001b[0mos\u001b[0m\u001b[0;34m\u001b[0m\u001b[0m\n\u001b[1;32m      2\u001b[0m \u001b[0msession\u001b[0m \u001b[0;34m=\u001b[0m \u001b[0mtf\u001b[0m\u001b[0;34m.\u001b[0m\u001b[0mSession\u001b[0m\u001b[0;34m(\u001b[0m\u001b[0;34m)\u001b[0m\u001b[0;34m\u001b[0m\u001b[0m\n\u001b[0;32m----> 3\u001b[0;31m \u001b[0msaver\u001b[0m \u001b[0;34m=\u001b[0m \u001b[0mtf\u001b[0m\u001b[0;34m.\u001b[0m\u001b[0mtrain\u001b[0m\u001b[0;34m.\u001b[0m\u001b[0mSaver\u001b[0m\u001b[0;34m(\u001b[0m\u001b[0;34m)\u001b[0m\u001b[0;34m\u001b[0m\u001b[0m\n\u001b[0m\u001b[1;32m      4\u001b[0m \u001b[0msave_dir\u001b[0m \u001b[0;34m=\u001b[0m \u001b[0;34m'checkpoint'\u001b[0m\u001b[0;34m\u001b[0m\u001b[0m\n\u001b[1;32m      5\u001b[0m \u001b[0;32mif\u001b[0m \u001b[0;32mnot\u001b[0m \u001b[0mos\u001b[0m\u001b[0;34m.\u001b[0m\u001b[0mpath\u001b[0m\u001b[0;34m.\u001b[0m\u001b[0mexists\u001b[0m\u001b[0;34m(\u001b[0m\u001b[0msave_dir\u001b[0m\u001b[0;34m)\u001b[0m\u001b[0;34m:\u001b[0m\u001b[0;34m\u001b[0m\u001b[0m\n",
      "\u001b[0;32m~/anaconda3/lib/python3.7/site-packages/tensorflow/python/training/saver.py\u001b[0m in \u001b[0;36m__init__\u001b[0;34m(self, var_list, reshape, sharded, max_to_keep, keep_checkpoint_every_n_hours, name, restore_sequentially, saver_def, builder, defer_build, allow_empty, write_version, pad_step_number)\u001b[0m\n\u001b[1;32m    998\u001b[0m     \u001b[0mself\u001b[0m\u001b[0;34m.\u001b[0m\u001b[0m_pad_step_number\u001b[0m \u001b[0;34m=\u001b[0m \u001b[0mpad_step_number\u001b[0m\u001b[0;34m\u001b[0m\u001b[0m\n\u001b[1;32m    999\u001b[0m     \u001b[0;32mif\u001b[0m \u001b[0;32mnot\u001b[0m \u001b[0mdefer_build\u001b[0m\u001b[0;34m:\u001b[0m\u001b[0;34m\u001b[0m\u001b[0m\n\u001b[0;32m-> 1000\u001b[0;31m       \u001b[0mself\u001b[0m\u001b[0;34m.\u001b[0m\u001b[0mbuild\u001b[0m\u001b[0;34m(\u001b[0m\u001b[0;34m)\u001b[0m\u001b[0;34m\u001b[0m\u001b[0m\n\u001b[0m\u001b[1;32m   1001\u001b[0m     \u001b[0;32mif\u001b[0m \u001b[0mself\u001b[0m\u001b[0;34m.\u001b[0m\u001b[0msaver_def\u001b[0m\u001b[0;34m:\u001b[0m\u001b[0;34m\u001b[0m\u001b[0m\n\u001b[1;32m   1002\u001b[0m       \u001b[0mself\u001b[0m\u001b[0;34m.\u001b[0m\u001b[0m_check_saver_def\u001b[0m\u001b[0;34m(\u001b[0m\u001b[0;34m)\u001b[0m\u001b[0;34m\u001b[0m\u001b[0m\n",
      "\u001b[0;32m~/anaconda3/lib/python3.7/site-packages/tensorflow/python/training/saver.py\u001b[0m in \u001b[0;36mbuild\u001b[0;34m(self)\u001b[0m\n\u001b[1;32m   1019\u001b[0m           \u001b[0;32mreturn\u001b[0m\u001b[0;34m\u001b[0m\u001b[0m\n\u001b[1;32m   1020\u001b[0m         \u001b[0;32melse\u001b[0m\u001b[0;34m:\u001b[0m\u001b[0;34m\u001b[0m\u001b[0m\n\u001b[0;32m-> 1021\u001b[0;31m           \u001b[0;32mraise\u001b[0m \u001b[0mValueError\u001b[0m\u001b[0;34m(\u001b[0m\u001b[0;34m\"No variables to save\"\u001b[0m\u001b[0;34m)\u001b[0m\u001b[0;34m\u001b[0m\u001b[0m\n\u001b[0m\u001b[1;32m   1022\u001b[0m       \u001b[0mself\u001b[0m\u001b[0;34m.\u001b[0m\u001b[0m_is_empty\u001b[0m \u001b[0;34m=\u001b[0m \u001b[0;32mFalse\u001b[0m\u001b[0;34m\u001b[0m\u001b[0m\n\u001b[1;32m   1023\u001b[0m       self.saver_def = self._builder.build(\n",
      "\u001b[0;31mValueError\u001b[0m: No variables to save"
     ]
    }
   ],
   "source": [
    "import os\n",
    "session = tf.Session()\n",
    "saver = tf.train.Saver()\n",
    "save_dir = 'checkpoint'\n",
    "if not os.path.exists(save_dir):\n",
    "    os.makedirs(save_dir)\n",
    "save_path = os.path.join(save_dir, 'best_validation')\n",
    "init = tf.global_variables_initializer()\n",
    "session.run(init)\n",
    "\n",
    "try:\n",
    "    print(\"trying to restore last checkpoint\")\n",
    "    last_chk_path = tf.train.latest_checkpoint(checkpoint_dir=save_dir)\n",
    "\n",
    "    # Try and load the data in the checkpoint.\n",
    "    saver.restore(session, save_path=last_chk_path)\n",
    "\n",
    "    # If we get to this point, the checkpoint was successfully loaded.\n",
    "    print(\"Restored checkpoint from:\", last_chk_path)\n",
    "except:\n",
    "    # If the above failed for some reason, simply\n",
    "    # initialize all the variables for the TensorFlow graph.\n",
    "    print(\"Failed to restore checkpoint. Initializing variables instead.\")\n",
    "    session.run(tf.global_variables_initializer())"
   ]
  },
  {
   "cell_type": "code",
   "execution_count": 32,
   "metadata": {},
   "outputs": [],
   "source": [
    "a = tf.placeholder(tf.float32, (100,28,28,1))\n",
    "x_image = tf.reshape(a,[-1,28,28,1])\n",
    "y = tf.placeholder(tf.int32, (None))\n",
    "one_hot_y = tf.one_hot(y, 10)\n",
    "keep_prob = tf.placeholder(tf.float32)\n",
    "session.run(tf.global_variables_initializer())"
   ]
  },
  {
   "cell_type": "code",
   "execution_count": 35,
   "metadata": {},
   "outputs": [],
   "source": [
    "num_channels = 1\n",
    "img_size = 28\n",
    "img_size_flat = img_size * img_size\n",
    "img_shape = (img_size, img_size)\n",
    "num_classes = 10\n",
    "\n",
    "# convolution layer1\n",
    "filter_size1 = 3\n",
    "num_filters1 = 64\n",
    "\n",
    "# convolution layer2\n",
    "filter_size2 = 3\n",
    "num_filters2 = 128\n",
    "\n",
    "#convolution layer3\n",
    "filter_size3 = 3\n",
    "num_filters3 = 256\n",
    "\n",
    "\n",
    "fc_size1 = 1024\n",
    "fc_size2 = 1024\n",
    "fc_size3 = 10"
   ]
  },
  {
   "cell_type": "code",
   "execution_count": 39,
   "metadata": {},
   "outputs": [],
   "source": [
    "def max_pool(name, l_input, k):\n",
    "    return tf.nn.max_pool(l_input, ksize=[1, k, k, 1], strides=[1, k, k, 1], \n",
    "                          padding='SAME', name=name)\n",
    "\n",
    "def norm(name, l_input, lsize=4):\n",
    "    return tf.nn.lrn(l_input, lsize, bias=1.0, alpha=0.001 / 9.0, beta=0.75, name=name)\n"
   ]
  },
  {
   "cell_type": "markdown",
   "metadata": {},
   "source": [
    "### This is alexnet initialized "
   ]
  },
  {
   "cell_type": "markdown",
   "metadata": {},
   "source": [
    "## convolution layer 1"
   ]
  },
  {
   "cell_type": "code",
   "execution_count": 36,
   "metadata": {},
   "outputs": [],
   "source": [
    "layer_conv1, weights_conv1,biases_conv1 = \\\n",
    "    new_conv_layer(input=x_image,\n",
    "                   num_input_channels=num_channels,\n",
    "                   filter_size=filter_size1,\n",
    "                   num_filters=num_filters1)\n",
    "\n"
   ]
  },
  {
   "cell_type": "code",
   "execution_count": 37,
   "metadata": {},
   "outputs": [],
   "source": [
    "layer_conv1_biases = layer_conv1 + biases_conv1"
   ]
  },
  {
   "cell_type": "code",
   "execution_count": 43,
   "metadata": {},
   "outputs": [],
   "source": [
    "pool1 = max_pool('pool1', layer_conv1_biases, k=2)\n",
    "norm1 = norm('norm1', pool1, lsize=4)\n",
    "_dropout = keep_prob\n",
    "norm1 = tf.nn.dropout(norm1, _dropout)"
   ]
  },
  {
   "cell_type": "markdown",
   "metadata": {},
   "source": [
    "## convolution layer 2"
   ]
  },
  {
   "cell_type": "code",
   "execution_count": 44,
   "metadata": {},
   "outputs": [],
   "source": [
    "layer_conv2, weights_conv2,biases_conv2 = \\\n",
    "    new_conv_layer(input=norm1,\n",
    "                   num_input_channels=num_filters1,\n",
    "                   filter_size=filter_size2,\n",
    "                   num_filters=num_filters2)"
   ]
  },
  {
   "cell_type": "code",
   "execution_count": 45,
   "metadata": {},
   "outputs": [],
   "source": [
    "layer_conv2_biases = layer_conv2 + biases_conv2"
   ]
  },
  {
   "cell_type": "code",
   "execution_count": 46,
   "metadata": {},
   "outputs": [],
   "source": [
    "pool2 = max_pool('pool2', layer_conv2_biases, k=2)\n",
    "    # Apply Normalization\n",
    "norm2 = norm('norm2', pool2, lsize=4)\n",
    "    # Apply Dropout\n",
    "norm2 = tf.nn.dropout(norm2, _dropout)"
   ]
  },
  {
   "cell_type": "markdown",
   "metadata": {},
   "source": [
    "## convolution layer 3"
   ]
  },
  {
   "cell_type": "code",
   "execution_count": 47,
   "metadata": {},
   "outputs": [],
   "source": [
    "layer_conv3, weights_conv3,biases_conv3 = \\\n",
    "    new_conv_layer(input=norm2,\n",
    "                   num_input_channels=num_filters2,\n",
    "                   filter_size=filter_size3,\n",
    "                   num_filters=num_filters3)"
   ]
  },
  {
   "cell_type": "code",
   "execution_count": 48,
   "metadata": {},
   "outputs": [],
   "source": [
    "layer_conv3_biases = layer_conv3 + biases_conv3"
   ]
  },
  {
   "cell_type": "code",
   "execution_count": 49,
   "metadata": {},
   "outputs": [
    {
     "data": {
      "text/plain": [
       "<tf.Tensor 'Conv2D_2:0' shape=(100, 7, 7, 256) dtype=float32>"
      ]
     },
     "execution_count": 49,
     "metadata": {},
     "output_type": "execute_result"
    }
   ],
   "source": [
    "layer_conv3"
   ]
  },
  {
   "cell_type": "code",
   "execution_count": 50,
   "metadata": {},
   "outputs": [],
   "source": [
    "pool3 = max_pool('pool3', layer_conv3, k=2)\n",
    "    # Apply Normalization\n",
    "norm3 = norm('norm3', pool3, lsize=4)\n",
    "    # Apply Dropout\n",
    "norm3 = tf.nn.dropout(norm3, _dropout)\n"
   ]
  },
  {
   "cell_type": "code",
   "execution_count": 52,
   "metadata": {},
   "outputs": [],
   "source": [
    "layer_flat, num_features = flatten_layer(norm3)"
   ]
  },
  {
   "cell_type": "code",
   "execution_count": 53,
   "metadata": {},
   "outputs": [
    {
     "data": {
      "text/plain": [
       "4096"
      ]
     },
     "execution_count": 53,
     "metadata": {},
     "output_type": "execute_result"
    }
   ],
   "source": [
    "num_features"
   ]
  },
  {
   "cell_type": "code",
   "execution_count": null,
   "metadata": {},
   "outputs": [],
   "source": []
  },
  {
   "cell_type": "markdown",
   "metadata": {},
   "source": [
    "## fully connected layer 1"
   ]
  },
  {
   "cell_type": "code",
   "execution_count": 55,
   "metadata": {},
   "outputs": [],
   "source": [
    "layer_fc1,weights_fc1 = new_fc_layer(input=layer_flat,\n",
    "                         num_inputs=num_features,\n",
    "                         num_outputs=fc_size1,\n",
    "                         use_relu=True)"
   ]
  },
  {
   "cell_type": "code",
   "execution_count": 56,
   "metadata": {},
   "outputs": [],
   "source": [
    "layer_flat1, num_features1 = flatten_layer(layer_fc1)"
   ]
  },
  {
   "cell_type": "code",
   "execution_count": 58,
   "metadata": {},
   "outputs": [
    {
     "data": {
      "text/plain": [
       "1024"
      ]
     },
     "execution_count": 58,
     "metadata": {},
     "output_type": "execute_result"
    }
   ],
   "source": [
    "num_features1"
   ]
  },
  {
   "cell_type": "markdown",
   "metadata": {},
   "source": [
    "## fully connected layer 2"
   ]
  },
  {
   "cell_type": "code",
   "execution_count": 59,
   "metadata": {},
   "outputs": [],
   "source": [
    "layer_fc2,weights_fc2 = new_fc_layer(input=layer_flat1,\n",
    "                         num_inputs=num_features1,\n",
    "                         num_outputs=fc_size2,\n",
    "                         use_relu=True)"
   ]
  },
  {
   "cell_type": "code",
   "execution_count": 60,
   "metadata": {},
   "outputs": [],
   "source": [
    "layer_flat2, num_features2 = flatten_layer(layer_fc2)"
   ]
  },
  {
   "cell_type": "code",
   "execution_count": 61,
   "metadata": {},
   "outputs": [
    {
     "data": {
      "text/plain": [
       "1024"
      ]
     },
     "execution_count": 61,
     "metadata": {},
     "output_type": "execute_result"
    }
   ],
   "source": [
    "num_features2"
   ]
  },
  {
   "cell_type": "markdown",
   "metadata": {},
   "source": [
    "## fully connected layer 3"
   ]
  },
  {
   "cell_type": "code",
   "execution_count": 62,
   "metadata": {},
   "outputs": [],
   "source": [
    "layer_fc3,weights_fc3 = new_fc_layer(input=layer_flat2,\n",
    "                         num_inputs=num_features2,\n",
    "                         num_outputs=fc_size3,\n",
    "                         use_relu=True)"
   ]
  },
  {
   "cell_type": "markdown",
   "metadata": {},
   "source": [
    "### predicted class"
   ]
  },
  {
   "cell_type": "code",
   "execution_count": 63,
   "metadata": {},
   "outputs": [],
   "source": [
    "y_pred = tf.nn.softmax(layer_fc3)"
   ]
  },
  {
   "cell_type": "code",
   "execution_count": 64,
   "metadata": {},
   "outputs": [
    {
     "name": "stdout",
     "output_type": "stream",
     "text": [
      "Tensor(\"Softmax:0\", shape=(100, 10), dtype=float32)\n"
     ]
    }
   ],
   "source": [
    "print(y_pred)"
   ]
  },
  {
   "cell_type": "code",
   "execution_count": 65,
   "metadata": {},
   "outputs": [],
   "source": [
    "y_pred_cls = tf.argmax(y_pred, axis=1)"
   ]
  },
  {
   "cell_type": "code",
   "execution_count": 66,
   "metadata": {},
   "outputs": [
    {
     "ename": "NameError",
     "evalue": "name 'y_true' is not defined",
     "output_type": "error",
     "traceback": [
      "\u001b[0;31m---------------------------------------------------------------------------\u001b[0m",
      "\u001b[0;31mNameError\u001b[0m                                 Traceback (most recent call last)",
      "\u001b[0;32m<ipython-input-66-4999f4fab974>\u001b[0m in \u001b[0;36m<module>\u001b[0;34m()\u001b[0m\n\u001b[1;32m      1\u001b[0m cross_entropy = tf.nn.softmax_cross_entropy_with_logits(logits=layer_fc3,\n\u001b[0;32m----> 2\u001b[0;31m                                                         labels=y_true)\n\u001b[0m",
      "\u001b[0;31mNameError\u001b[0m: name 'y_true' is not defined"
     ]
    }
   ],
   "source": [
    "#cross_entropy = tf.nn.softmax_cross_entropy_with_logits(logits=layer_fc3,\n",
    " #                                                       labels=y_true)\n"
   ]
  },
  {
   "cell_type": "markdown",
   "metadata": {},
   "source": [
    "## tensorflow run"
   ]
  },
  {
   "cell_type": "code",
   "execution_count": 67,
   "metadata": {},
   "outputs": [],
   "source": [
    "session.run(tf.global_variables_initializer())"
   ]
  },
  {
   "cell_type": "code",
   "execution_count": 68,
   "metadata": {},
   "outputs": [],
   "source": [
    "train_batch_size = 64\n"
   ]
  },
  {
   "cell_type": "markdown",
   "metadata": {},
   "source": [
    "## store the original weights"
   ]
  },
  {
   "cell_type": "code",
   "execution_count": 69,
   "metadata": {},
   "outputs": [],
   "source": [
    "w_conv1_original = session.run(weights_conv1)\n",
    "w_conv2_original = session.run(weights_conv2)\n",
    "w_conv3_original = session.run(weights_conv3)\n",
    "\n",
    "w_fc1_original = session.run(weights_fc1)\n",
    "w_fc2_original = session.run(weights_fc2)\n",
    "w_fc3_original = session.run(weights_fc3)"
   ]
  },
  {
   "cell_type": "code",
   "execution_count": 70,
   "metadata": {},
   "outputs": [],
   "source": [
    "wOrigConv = [w_conv1_original,w_conv2_original, w_conv3_original]\n",
    "wOrigFc = [w_fc1_original, w_fc2_original, w_fc3_original]"
   ]
  },
  {
   "cell_type": "markdown",
   "metadata": {},
   "source": [
    "## restore weights"
   ]
  },
  {
   "cell_type": "code",
   "execution_count": 71,
   "metadata": {},
   "outputs": [],
   "source": [
    "def restoreWeights():\n",
    "    for wIdx in range(0,len(weightsConvMat)):\n",
    "            assign_op = weightsConvMat[wIdx].assign(wOrigConv[wIdx])\n",
    "            session.run(assign_op)\n",
    "\n",
    "    for wIdx in range(0,len(weightsFcMat)):\n",
    "            assign_op = weightsFcMat[wIdx].assign(wOrigFc[wIdx])\n",
    "            session.run(assign_op)"
   ]
  },
  {
   "cell_type": "code",
   "execution_count": 72,
   "metadata": {},
   "outputs": [],
   "source": [
    "#restoreWeights()"
   ]
  },
  {
   "cell_type": "code",
   "execution_count": 73,
   "metadata": {},
   "outputs": [],
   "source": [
    "weightsConvMat = [weights_conv1,weights_conv2, weights_conv3]\n",
    "weightsFcMat = [weights_fc1, weights_fc2, weights_fc3]\n",
    "\n",
    "wConv1 = session.run(weights_conv1)\n",
    "wConv2 = session.run(weights_conv2)\n",
    "wConv3 = session.run(weights_conv3)\n",
    "wFc1 = session.run(weights_fc1)\n",
    "wFc2 = session.run(weights_fc2)\n",
    "wFc3 = session.run(weights_fc3)\n",
    "wConv = [wConv1,wConv2, wConv3]\n",
    "wFc = [wFc1,wFc2, wFc3]"
   ]
  },
  {
   "cell_type": "markdown",
   "metadata": {},
   "source": [
    "## container to hold filter difference"
   ]
  },
  {
   "cell_type": "code",
   "execution_count": 74,
   "metadata": {},
   "outputs": [],
   "source": [
    "wDiffConv = [] + wOrigConv\n",
    "wDiffFc = [] + wOrigFc"
   ]
  },
  {
   "cell_type": "code",
   "execution_count": 75,
   "metadata": {},
   "outputs": [],
   "source": [
    "def centroidFilter(wtListConv,wtListFc):\n",
    "    num = len(wtListConv)\n",
    "    \n",
    "    for wtMat in wtListConv:\n",
    "        shape = wtMat.shape\n",
    "        xlen = shape[0]\n",
    "        ylen = shape[1]\n",
    "        numChnls = shape[2]\n",
    "        numFilters = shape[3]\n",
    "\n",
    "        for c in range(0,numChnls):\n",
    "            for i in range(0,numFilters):\n",
    "                for j in range(0,xlen,2):\n",
    "                    for k in range(0,ylen,2):\n",
    "                        first = wtMat[j,k,c,i]\n",
    "                        if j+1 < xlen:\n",
    "                            second = wtMat[j+1,k,c,i]\n",
    "                        else:\n",
    "                            second = 0\n",
    "                        if k+1 < xlen:\n",
    "                            third = wtMat[j,k+1,c,i]\n",
    "                        else:\n",
    "                            third = 0\n",
    "                        if j+1 < xlen and k+1 < ylen:\n",
    "                            forth = wtMat[j+1,k+1,c,i]\n",
    "                        else:\n",
    "                            forth = 0\n",
    "                        total = 0.0\n",
    "                        total = float(first + second + third + forth)\n",
    "                        total /= 4\n",
    "                        wtMat[j,k,c,i] = total\n",
    "                        if j+1 < xlen:\n",
    "                            wtMat[j+1,k,c,i] = total\n",
    "                        if k+1 < xlen:\n",
    "                            wtMat[j,k+1,c,i] = total\n",
    "                        if j+1 < xlen and k+1 < ylen:\n",
    "                            wtMat[j+1,k+1,c,i] = total\n",
    "                        #if wtMat[j,k,0,i] < 0:\n",
    "                        #    wtMat[j,k,0,i] = 0#float('%.5f'%(w[j,k,0,i]))\n",
    "                        \n",
    "    for wtMat in wtListFc:\n",
    "        shape = wtMat.shape\n",
    "        xlen = shape[0]\n",
    "        ylen = shape[1]\n",
    "        \n",
    "        for i in range(0,xlen):\n",
    "            j=0\n",
    "            while j<ylen:\n",
    "                first = wtMat[i,j] \n",
    "                second = wtMat[i,j+1]\n",
    "                avg = (first+second)/2\n",
    "                wtMat[i,j] = avg\n",
    "                wtMat[i,j+1] = avg\n",
    "                j = j+2\n",
    "            \n",
    "\n",
    "\n",
    "#centroidFilter(w)"
   ]
  },
  {
   "cell_type": "code",
   "execution_count": 76,
   "metadata": {},
   "outputs": [],
   "source": [
    "centroidFilter(wConv, wFc)\n"
   ]
  },
  {
   "cell_type": "code",
   "execution_count": 77,
   "metadata": {},
   "outputs": [
    {
     "data": {
      "text/plain": [
       "[array([[[[ 0.01478282, -0.03276125, -0.01851684, -0.02386874,\n",
       "            0.01611305, -0.00457453,  0.05772327, -0.00769999,\n",
       "           -0.02414214,  0.00696575,  0.02072655,  0.02327207,\n",
       "           -0.00445792, -0.01020251, -0.02367336, -0.00415211,\n",
       "           -0.03084346, -0.01918014,  0.00473223,  0.0096523 ,\n",
       "           -0.00578261,  0.02733059, -0.01006114,  0.00349164,\n",
       "            0.0091895 ,  0.01808626, -0.01049114,  0.01100361,\n",
       "            0.02077818,  0.02152729, -0.01861141, -0.01262931,\n",
       "            0.00377811,  0.02169904, -0.01484762,  0.00328806,\n",
       "            0.00193597,  0.00915238, -0.01533231,  0.00098336,\n",
       "           -0.03836326, -0.02163901, -0.03561185, -0.02383481,\n",
       "           -0.00931001, -0.0223197 , -0.02331083, -0.0060171 ,\n",
       "            0.0286327 ,  0.00712646, -0.0101131 , -0.00718595,\n",
       "           -0.01670801,  0.02372835,  0.0253727 , -0.0075345 ,\n",
       "            0.01509467,  0.01702988,  0.02525476,  0.01805252,\n",
       "           -0.02402025,  0.00968019,  0.00477793,  0.02309863]],\n",
       " \n",
       "         [[ 0.01478282, -0.03276125, -0.01851684, -0.02386874,\n",
       "            0.01611305, -0.00457453,  0.05772327, -0.00769999,\n",
       "           -0.02414214,  0.00696575,  0.02072655,  0.02327207,\n",
       "           -0.00445792, -0.01020251, -0.02367336, -0.00415211,\n",
       "           -0.03084346, -0.01918014,  0.00473223,  0.0096523 ,\n",
       "           -0.00578261,  0.02733059, -0.01006114,  0.00349164,\n",
       "            0.0091895 ,  0.01808626, -0.01049114,  0.01100361,\n",
       "            0.02077818,  0.02152729, -0.01861141, -0.01262931,\n",
       "            0.00377811,  0.02169904, -0.01484762,  0.00328806,\n",
       "            0.00193597,  0.00915238, -0.01533231,  0.00098336,\n",
       "           -0.03836326, -0.02163901, -0.03561185, -0.02383481,\n",
       "           -0.00931001, -0.0223197 , -0.02331083, -0.0060171 ,\n",
       "            0.0286327 ,  0.00712646, -0.0101131 , -0.00718595,\n",
       "           -0.01670801,  0.02372835,  0.0253727 , -0.0075345 ,\n",
       "            0.01509467,  0.01702988,  0.02525476,  0.01805252,\n",
       "           -0.02402025,  0.00968019,  0.00477793,  0.02309863]],\n",
       " \n",
       "         [[ 0.00381667,  0.01475665,  0.00500025, -0.01851797,\n",
       "           -0.02499014, -0.03564391,  0.00192276,  0.00045964,\n",
       "           -0.00522021,  0.01072943,  0.00425977, -0.0289711 ,\n",
       "            0.01166177, -0.00424777, -0.01865005, -0.00888265,\n",
       "           -0.02545068,  0.00279148,  0.00120379,  0.01710494,\n",
       "            0.02664562,  0.01043038, -0.01293856,  0.00933709,\n",
       "           -0.03167699, -0.00758985,  0.02360904,  0.01747535,\n",
       "            0.01544519,  0.00112766, -0.04873525,  0.01018704,\n",
       "           -0.00682835,  0.01889081,  0.03390026, -0.00149891,\n",
       "            0.0025371 , -0.00595648, -0.00086164, -0.03920976,\n",
       "            0.01027031, -0.00462381, -0.03293908,  0.03409242,\n",
       "            0.00200515, -0.00373625, -0.00823479,  0.01448097,\n",
       "           -0.03852215, -0.0133001 , -0.00017255, -0.00929036,\n",
       "           -0.0075687 ,  0.01040673,  0.00535744, -0.02587146,\n",
       "            0.01376587,  0.01164557, -0.00862506, -0.03091913,\n",
       "            0.01123055,  0.00744982, -0.00340936, -0.00192758]]],\n",
       " \n",
       " \n",
       "        [[[ 0.01478282, -0.03276125, -0.01851684, -0.02386874,\n",
       "            0.01611305, -0.00457453,  0.05772327, -0.00769999,\n",
       "           -0.02414214,  0.00696575,  0.02072655,  0.02327207,\n",
       "           -0.00445792, -0.01020251, -0.02367336, -0.00415211,\n",
       "           -0.03084346, -0.01918014,  0.00473223,  0.0096523 ,\n",
       "           -0.00578261,  0.02733059, -0.01006114,  0.00349164,\n",
       "            0.0091895 ,  0.01808626, -0.01049114,  0.01100361,\n",
       "            0.02077818,  0.02152729, -0.01861141, -0.01262931,\n",
       "            0.00377811,  0.02169904, -0.01484762,  0.00328806,\n",
       "            0.00193597,  0.00915238, -0.01533231,  0.00098336,\n",
       "           -0.03836326, -0.02163901, -0.03561185, -0.02383481,\n",
       "           -0.00931001, -0.0223197 , -0.02331083, -0.0060171 ,\n",
       "            0.0286327 ,  0.00712646, -0.0101131 , -0.00718595,\n",
       "           -0.01670801,  0.02372835,  0.0253727 , -0.0075345 ,\n",
       "            0.01509467,  0.01702988,  0.02525476,  0.01805252,\n",
       "           -0.02402025,  0.00968019,  0.00477793,  0.02309863]],\n",
       " \n",
       "         [[ 0.01478282, -0.03276125, -0.01851684, -0.02386874,\n",
       "            0.01611305, -0.00457453,  0.05772327, -0.00769999,\n",
       "           -0.02414214,  0.00696575,  0.02072655,  0.02327207,\n",
       "           -0.00445792, -0.01020251, -0.02367336, -0.00415211,\n",
       "           -0.03084346, -0.01918014,  0.00473223,  0.0096523 ,\n",
       "           -0.00578261,  0.02733059, -0.01006114,  0.00349164,\n",
       "            0.0091895 ,  0.01808626, -0.01049114,  0.01100361,\n",
       "            0.02077818,  0.02152729, -0.01861141, -0.01262931,\n",
       "            0.00377811,  0.02169904, -0.01484762,  0.00328806,\n",
       "            0.00193597,  0.00915238, -0.01533231,  0.00098336,\n",
       "           -0.03836326, -0.02163901, -0.03561185, -0.02383481,\n",
       "           -0.00931001, -0.0223197 , -0.02331083, -0.0060171 ,\n",
       "            0.0286327 ,  0.00712646, -0.0101131 , -0.00718595,\n",
       "           -0.01670801,  0.02372835,  0.0253727 , -0.0075345 ,\n",
       "            0.01509467,  0.01702988,  0.02525476,  0.01805252,\n",
       "           -0.02402025,  0.00968019,  0.00477793,  0.02309863]],\n",
       " \n",
       "         [[ 0.00381667,  0.01475665,  0.00500025, -0.01851797,\n",
       "           -0.02499014, -0.03564391,  0.00192276,  0.00045964,\n",
       "           -0.00522021,  0.01072943,  0.00425977, -0.0289711 ,\n",
       "            0.01166177, -0.00424777, -0.01865005, -0.00888265,\n",
       "           -0.02545068,  0.00279148,  0.00120379,  0.01710494,\n",
       "            0.02664562,  0.01043038, -0.01293856,  0.00933709,\n",
       "           -0.03167699, -0.00758985,  0.02360904,  0.01747535,\n",
       "            0.01544519,  0.00112766, -0.04873525,  0.01018704,\n",
       "           -0.00682835,  0.01889081,  0.03390026, -0.00149891,\n",
       "            0.0025371 , -0.00595648, -0.00086164, -0.03920976,\n",
       "            0.01027031, -0.00462381, -0.03293908,  0.03409242,\n",
       "            0.00200515, -0.00373625, -0.00823479,  0.01448097,\n",
       "           -0.03852215, -0.0133001 , -0.00017255, -0.00929036,\n",
       "           -0.0075687 ,  0.01040673,  0.00535744, -0.02587146,\n",
       "            0.01376587,  0.01164557, -0.00862506, -0.03091913,\n",
       "            0.01123055,  0.00744982, -0.00340936, -0.00192758]]],\n",
       " \n",
       " \n",
       "        [[[ 0.00737386,  0.02199852,  0.01116757,  0.0013123 ,\n",
       "           -0.00388595,  0.01634157, -0.0313492 ,  0.00313396,\n",
       "           -0.01494276,  0.01169136, -0.00753926,  0.00924802,\n",
       "            0.01086936, -0.00719829, -0.0135243 ,  0.02964617,\n",
       "            0.00262287, -0.01397013, -0.00485884,  0.00888749,\n",
       "           -0.02926748, -0.00299352,  0.00175719,  0.01434448,\n",
       "           -0.00309143, -0.01093289, -0.01029952,  0.00590409,\n",
       "            0.01478593, -0.00811922,  0.02165068,  0.00359779,\n",
       "           -0.01422356, -0.02415434,  0.02226738,  0.02668868,\n",
       "           -0.01170984,  0.00228234, -0.00951496,  0.01326093,\n",
       "           -0.00103203,  0.01606462,  0.02805656,  0.02266533,\n",
       "           -0.00714264,  0.00461204,  0.01830574,  0.00864405,\n",
       "            0.01339118, -0.01977107,  0.01809139, -0.00956694,\n",
       "            0.01051725, -0.03292395, -0.0087006 ,  0.00533556,\n",
       "            0.01418327,  0.00449175,  0.02065714,  0.01106407,\n",
       "           -0.02696769, -0.01194545,  0.028695  ,  0.00229849]],\n",
       " \n",
       "         [[ 0.00737386,  0.02199852,  0.01116757,  0.0013123 ,\n",
       "           -0.00388595,  0.01634157, -0.0313492 ,  0.00313396,\n",
       "           -0.01494276,  0.01169136, -0.00753926,  0.00924802,\n",
       "            0.01086936, -0.00719829, -0.0135243 ,  0.02964617,\n",
       "            0.00262287, -0.01397013, -0.00485884,  0.00888749,\n",
       "           -0.02926748, -0.00299352,  0.00175719,  0.01434448,\n",
       "           -0.00309143, -0.01093289, -0.01029952,  0.00590409,\n",
       "            0.01478593, -0.00811922,  0.02165068,  0.00359779,\n",
       "           -0.01422356, -0.02415434,  0.02226738,  0.02668868,\n",
       "           -0.01170984,  0.00228234, -0.00951496,  0.01326093,\n",
       "           -0.00103203,  0.01606462,  0.02805656,  0.02266533,\n",
       "           -0.00714264,  0.00461204,  0.01830574,  0.00864405,\n",
       "            0.01339118, -0.01977107,  0.01809139, -0.00956694,\n",
       "            0.01051725, -0.03292395, -0.0087006 ,  0.00533556,\n",
       "            0.01418327,  0.00449175,  0.02065714,  0.01106407,\n",
       "           -0.02696769, -0.01194545,  0.028695  ,  0.00229849]],\n",
       " \n",
       "         [[ 0.01718626,  0.00411771,  0.00863171,  0.00707835,\n",
       "           -0.00520868,  0.00835595, -0.01248068,  0.01303147,\n",
       "           -0.00818106,  0.00029375, -0.00424318, -0.00567255,\n",
       "           -0.00666552,  0.00179847,  0.01775211,  0.01960195,\n",
       "           -0.00181148, -0.01356411,  0.00440156, -0.01443942,\n",
       "            0.01132482,  0.00099334,  0.0007465 , -0.00804984,\n",
       "           -0.00258958, -0.00808852, -0.0009624 , -0.00916076,\n",
       "           -0.01464035, -0.0008617 , -0.01246606,  0.00632792,\n",
       "           -0.01521792,  0.00631162, -0.01834384,  0.00422644,\n",
       "           -0.00089469, -0.022107  , -0.01023667,  0.00051972,\n",
       "            0.02121626, -0.00899769, -0.00605427, -0.00591214,\n",
       "           -0.00147918,  0.00562951, -0.00055654,  0.02039781,\n",
       "            0.01550482,  0.00459131, -0.01018242,  0.00666927,\n",
       "           -0.007518  , -0.01932569,  0.00285938,  0.01436083,\n",
       "            0.01080568,  0.01878952, -0.01073401,  0.00387467,\n",
       "            0.01488409, -0.00581889,  0.00734093,  0.01501249]]]],\n",
       "       dtype=float32),\n",
       " array([[[[ 0.013971  , -0.0238611 ,  0.02343535, ..., -0.01758595,\n",
       "            0.02576302,  0.03135002],\n",
       "          [ 0.00633333, -0.01597653,  0.01195298, ...,  0.01750411,\n",
       "            0.00161179,  0.00763365],\n",
       "          [-0.0226177 ,  0.02755273,  0.01683224, ...,  0.0224056 ,\n",
       "            0.00680518,  0.03337568],\n",
       "          ...,\n",
       "          [ 0.00302382,  0.00961185,  0.00342358, ...,  0.00079518,\n",
       "           -0.04910193, -0.02707073],\n",
       "          [-0.036196  , -0.0213149 ,  0.00623144, ...,  0.00834833,\n",
       "           -0.00222392,  0.00212626],\n",
       "          [-0.02506906, -0.00716541,  0.01055383, ...,  0.00980147,\n",
       "            0.02675661,  0.04978187]],\n",
       " \n",
       "         [[ 0.013971  , -0.0238611 ,  0.02343535, ..., -0.01758595,\n",
       "            0.02576302,  0.03135002],\n",
       "          [ 0.00633333, -0.01597653,  0.01195298, ...,  0.01750411,\n",
       "            0.00161179,  0.00763365],\n",
       "          [-0.0226177 ,  0.02755273,  0.01683224, ...,  0.0224056 ,\n",
       "            0.00680518,  0.03337568],\n",
       "          ...,\n",
       "          [ 0.00302382,  0.00961185,  0.00342358, ...,  0.00079518,\n",
       "           -0.04910193, -0.02707073],\n",
       "          [-0.036196  , -0.0213149 ,  0.00623144, ...,  0.00834833,\n",
       "           -0.00222392,  0.00212626],\n",
       "          [-0.02506906, -0.00716541,  0.01055383, ...,  0.00980147,\n",
       "            0.02675661,  0.04978187]],\n",
       " \n",
       "         [[-0.00427339,  0.03217352,  0.00866591, ...,  0.00378285,\n",
       "            0.00794921, -0.02834623],\n",
       "          [-0.004175  , -0.01936198, -0.00010559, ..., -0.03094193,\n",
       "            0.03195273, -0.02657719],\n",
       "          [ 0.00738117,  0.01143836,  0.00878879, ...,  0.01642343,\n",
       "           -0.00519954,  0.00080691],\n",
       "          ...,\n",
       "          [ 0.00019311, -0.02080657,  0.02284075, ..., -0.01085715,\n",
       "            0.00050333, -0.00592826],\n",
       "          [ 0.00577982,  0.01267253, -0.00835027, ...,  0.01845937,\n",
       "            0.00684401,  0.01120105],\n",
       "          [-0.02737015, -0.00977311,  0.0188622 , ...,  0.00819614,\n",
       "            0.01721104, -0.00347423]]],\n",
       " \n",
       " \n",
       "        [[[ 0.013971  , -0.0238611 ,  0.02343535, ..., -0.01758595,\n",
       "            0.02576302,  0.03135002],\n",
       "          [ 0.00633333, -0.01597653,  0.01195298, ...,  0.01750411,\n",
       "            0.00161179,  0.00763365],\n",
       "          [-0.0226177 ,  0.02755273,  0.01683224, ...,  0.0224056 ,\n",
       "            0.00680518,  0.03337568],\n",
       "          ...,\n",
       "          [ 0.00302382,  0.00961185,  0.00342358, ...,  0.00079518,\n",
       "           -0.04910193, -0.02707073],\n",
       "          [-0.036196  , -0.0213149 ,  0.00623144, ...,  0.00834833,\n",
       "           -0.00222392,  0.00212626],\n",
       "          [-0.02506906, -0.00716541,  0.01055383, ...,  0.00980147,\n",
       "            0.02675661,  0.04978187]],\n",
       " \n",
       "         [[ 0.013971  , -0.0238611 ,  0.02343535, ..., -0.01758595,\n",
       "            0.02576302,  0.03135002],\n",
       "          [ 0.00633333, -0.01597653,  0.01195298, ...,  0.01750411,\n",
       "            0.00161179,  0.00763365],\n",
       "          [-0.0226177 ,  0.02755273,  0.01683224, ...,  0.0224056 ,\n",
       "            0.00680518,  0.03337568],\n",
       "          ...,\n",
       "          [ 0.00302382,  0.00961185,  0.00342358, ...,  0.00079518,\n",
       "           -0.04910193, -0.02707073],\n",
       "          [-0.036196  , -0.0213149 ,  0.00623144, ...,  0.00834833,\n",
       "           -0.00222392,  0.00212626],\n",
       "          [-0.02506906, -0.00716541,  0.01055383, ...,  0.00980147,\n",
       "            0.02675661,  0.04978187]],\n",
       " \n",
       "         [[-0.00427339,  0.03217352,  0.00866591, ...,  0.00378285,\n",
       "            0.00794921, -0.02834623],\n",
       "          [-0.004175  , -0.01936198, -0.00010559, ..., -0.03094193,\n",
       "            0.03195273, -0.02657719],\n",
       "          [ 0.00738117,  0.01143836,  0.00878879, ...,  0.01642343,\n",
       "           -0.00519954,  0.00080691],\n",
       "          ...,\n",
       "          [ 0.00019311, -0.02080657,  0.02284075, ..., -0.01085715,\n",
       "            0.00050333, -0.00592826],\n",
       "          [ 0.00577982,  0.01267253, -0.00835027, ...,  0.01845937,\n",
       "            0.00684401,  0.01120105],\n",
       "          [-0.02737015, -0.00977311,  0.0188622 , ...,  0.00819614,\n",
       "            0.01721104, -0.00347423]]],\n",
       " \n",
       " \n",
       "        [[[ 0.01033906,  0.00212643, -0.00936113, ..., -0.00207242,\n",
       "           -0.0073127 ,  0.00466269],\n",
       "          [-0.03802514,  0.01468487, -0.00122436, ..., -0.00236564,\n",
       "           -0.00427706,  0.01412229],\n",
       "          [-0.02300667, -0.0283829 ,  0.00489004, ...,  0.02674926,\n",
       "           -0.01412349,  0.01361845],\n",
       "          ...,\n",
       "          [ 0.01236771, -0.01225558, -0.01503563, ..., -0.00403024,\n",
       "            0.01334064, -0.00040371],\n",
       "          [-0.00778907,  0.00316873, -0.02728865, ...,  0.00735961,\n",
       "           -0.03031738,  0.01971829],\n",
       "          [-0.00167088, -0.00878241,  0.00629541, ..., -0.00596331,\n",
       "           -0.00146397,  0.00424336]],\n",
       " \n",
       "         [[ 0.01033906,  0.00212643, -0.00936113, ..., -0.00207242,\n",
       "           -0.0073127 ,  0.00466269],\n",
       "          [-0.03802514,  0.01468487, -0.00122436, ..., -0.00236564,\n",
       "           -0.00427706,  0.01412229],\n",
       "          [-0.02300667, -0.0283829 ,  0.00489004, ...,  0.02674926,\n",
       "           -0.01412349,  0.01361845],\n",
       "          ...,\n",
       "          [ 0.01236771, -0.01225558, -0.01503563, ..., -0.00403024,\n",
       "            0.01334064, -0.00040371],\n",
       "          [-0.00778907,  0.00316873, -0.02728865, ...,  0.00735961,\n",
       "           -0.03031738,  0.01971829],\n",
       "          [-0.00167088, -0.00878241,  0.00629541, ..., -0.00596331,\n",
       "           -0.00146397,  0.00424336]],\n",
       " \n",
       "         [[ 0.00727671,  0.00562846,  0.00823532, ..., -0.00668608,\n",
       "           -0.00714047,  0.0104817 ],\n",
       "          [ 0.02257213, -0.00333615, -0.00776068, ..., -0.00464859,\n",
       "           -0.01572029, -0.02226382],\n",
       "          [-0.00509393,  0.01758667,  0.0039237 , ...,  0.00474871,\n",
       "            0.02084934, -0.01768448],\n",
       "          ...,\n",
       "          [ 0.00907352,  0.01094649,  0.00617623, ...,  0.00412084,\n",
       "           -0.01797628,  0.00563146],\n",
       "          [-0.00429687,  0.0087362 , -0.00397111, ...,  0.0041845 ,\n",
       "            0.01025917, -0.00031078],\n",
       "          [ 0.01160108,  0.0134787 , -0.01207413, ...,  0.00571051,\n",
       "            0.00882053,  0.01062079]]]], dtype=float32),\n",
       " array([[[[ 2.0813145e-02,  3.4645360e-02,  1.5176074e-02, ...,\n",
       "           -3.5347352e-03,  4.3482054e-02, -8.5447375e-03],\n",
       "          [-4.3429837e-02,  2.4583716e-02, -2.2930736e-02, ...,\n",
       "            3.3106096e-02,  3.8627729e-02, -2.8982092e-02],\n",
       "          [-3.8239032e-02,  3.4958869e-03,  3.3526034e-03, ...,\n",
       "           -2.5459804e-02, -2.3402199e-02, -6.4448710e-03],\n",
       "          ...,\n",
       "          [-1.1313671e-02,  1.7338114e-02,  3.1793781e-02, ...,\n",
       "           -2.1012302e-02,  2.2622757e-02,  3.3309378e-02],\n",
       "          [-1.6773708e-02, -4.1150127e-02,  4.5960933e-02, ...,\n",
       "           -1.5480179e-02,  2.5224511e-02, -4.4985092e-05],\n",
       "          [ 2.0448014e-02,  7.7280262e-04, -9.7072385e-03, ...,\n",
       "           -2.1290792e-02,  5.8797831e-03,  1.9794017e-02]],\n",
       " \n",
       "         [[ 2.0813145e-02,  3.4645360e-02,  1.5176074e-02, ...,\n",
       "           -3.5347352e-03,  4.3482054e-02, -8.5447375e-03],\n",
       "          [-4.3429837e-02,  2.4583716e-02, -2.2930736e-02, ...,\n",
       "            3.3106096e-02,  3.8627729e-02, -2.8982092e-02],\n",
       "          [-3.8239032e-02,  3.4958869e-03,  3.3526034e-03, ...,\n",
       "           -2.5459804e-02, -2.3402199e-02, -6.4448710e-03],\n",
       "          ...,\n",
       "          [-1.1313671e-02,  1.7338114e-02,  3.1793781e-02, ...,\n",
       "           -2.1012302e-02,  2.2622757e-02,  3.3309378e-02],\n",
       "          [-1.6773708e-02, -4.1150127e-02,  4.5960933e-02, ...,\n",
       "           -1.5480179e-02,  2.5224511e-02, -4.4985092e-05],\n",
       "          [ 2.0448014e-02,  7.7280262e-04, -9.7072385e-03, ...,\n",
       "           -2.1290792e-02,  5.8797831e-03,  1.9794017e-02]],\n",
       " \n",
       "         [[ 2.2734066e-02, -1.3810240e-02,  1.1301595e-03, ...,\n",
       "           -7.4009616e-03, -2.3672154e-02,  1.7922936e-02],\n",
       "          [-1.1383608e-02,  3.0108169e-03,  1.7540803e-03, ...,\n",
       "           -1.0718235e-02,  1.3734370e-02, -1.4095959e-02],\n",
       "          [ 2.3550451e-02, -2.7654481e-03, -1.6937500e-02, ...,\n",
       "           -6.7091649e-03, -2.5202478e-03, -2.5302060e-03],\n",
       "          ...,\n",
       "          [ 3.6761183e-03, -1.3614725e-02,  1.6304297e-02, ...,\n",
       "            2.2230626e-03, -1.3950056e-02,  9.2051169e-03],\n",
       "          [-1.2909808e-02, -1.2569328e-02, -1.4482347e-02, ...,\n",
       "           -2.4009246e-02,  8.6629968e-03, -1.9139038e-02],\n",
       "          [-8.0341715e-03, -3.5854902e-02, -2.7526333e-03, ...,\n",
       "           -3.1149352e-02, -3.2961480e-03, -1.6981214e-02]]],\n",
       " \n",
       " \n",
       "        [[[ 2.0813145e-02,  3.4645360e-02,  1.5176074e-02, ...,\n",
       "           -3.5347352e-03,  4.3482054e-02, -8.5447375e-03],\n",
       "          [-4.3429837e-02,  2.4583716e-02, -2.2930736e-02, ...,\n",
       "            3.3106096e-02,  3.8627729e-02, -2.8982092e-02],\n",
       "          [-3.8239032e-02,  3.4958869e-03,  3.3526034e-03, ...,\n",
       "           -2.5459804e-02, -2.3402199e-02, -6.4448710e-03],\n",
       "          ...,\n",
       "          [-1.1313671e-02,  1.7338114e-02,  3.1793781e-02, ...,\n",
       "           -2.1012302e-02,  2.2622757e-02,  3.3309378e-02],\n",
       "          [-1.6773708e-02, -4.1150127e-02,  4.5960933e-02, ...,\n",
       "           -1.5480179e-02,  2.5224511e-02, -4.4985092e-05],\n",
       "          [ 2.0448014e-02,  7.7280262e-04, -9.7072385e-03, ...,\n",
       "           -2.1290792e-02,  5.8797831e-03,  1.9794017e-02]],\n",
       " \n",
       "         [[ 2.0813145e-02,  3.4645360e-02,  1.5176074e-02, ...,\n",
       "           -3.5347352e-03,  4.3482054e-02, -8.5447375e-03],\n",
       "          [-4.3429837e-02,  2.4583716e-02, -2.2930736e-02, ...,\n",
       "            3.3106096e-02,  3.8627729e-02, -2.8982092e-02],\n",
       "          [-3.8239032e-02,  3.4958869e-03,  3.3526034e-03, ...,\n",
       "           -2.5459804e-02, -2.3402199e-02, -6.4448710e-03],\n",
       "          ...,\n",
       "          [-1.1313671e-02,  1.7338114e-02,  3.1793781e-02, ...,\n",
       "           -2.1012302e-02,  2.2622757e-02,  3.3309378e-02],\n",
       "          [-1.6773708e-02, -4.1150127e-02,  4.5960933e-02, ...,\n",
       "           -1.5480179e-02,  2.5224511e-02, -4.4985092e-05],\n",
       "          [ 2.0448014e-02,  7.7280262e-04, -9.7072385e-03, ...,\n",
       "           -2.1290792e-02,  5.8797831e-03,  1.9794017e-02]],\n",
       " \n",
       "         [[ 2.2734066e-02, -1.3810240e-02,  1.1301595e-03, ...,\n",
       "           -7.4009616e-03, -2.3672154e-02,  1.7922936e-02],\n",
       "          [-1.1383608e-02,  3.0108169e-03,  1.7540803e-03, ...,\n",
       "           -1.0718235e-02,  1.3734370e-02, -1.4095959e-02],\n",
       "          [ 2.3550451e-02, -2.7654481e-03, -1.6937500e-02, ...,\n",
       "           -6.7091649e-03, -2.5202478e-03, -2.5302060e-03],\n",
       "          ...,\n",
       "          [ 3.6761183e-03, -1.3614725e-02,  1.6304297e-02, ...,\n",
       "            2.2230626e-03, -1.3950056e-02,  9.2051169e-03],\n",
       "          [-1.2909808e-02, -1.2569328e-02, -1.4482347e-02, ...,\n",
       "           -2.4009246e-02,  8.6629968e-03, -1.9139038e-02],\n",
       "          [-8.0341715e-03, -3.5854902e-02, -2.7526333e-03, ...,\n",
       "           -3.1149352e-02, -3.2961480e-03, -1.6981214e-02]]],\n",
       " \n",
       " \n",
       "        [[[-1.0809611e-02,  2.4988931e-02, -2.1238811e-02, ...,\n",
       "            8.4766056e-03,  8.3086472e-03,  2.7523270e-02],\n",
       "          [ 2.4641464e-03,  1.6409682e-02,  1.9631296e-02, ...,\n",
       "            2.2312105e-02,  1.0276157e-02,  3.2013275e-02],\n",
       "          [-7.9669058e-03, -6.1297836e-04,  8.3575835e-03, ...,\n",
       "            1.4427343e-02, -6.5090116e-03, -8.3653275e-03],\n",
       "          ...,\n",
       "          [ 1.3175567e-02,  1.3718134e-03, -6.9970284e-03, ...,\n",
       "            2.5506904e-02,  2.8789504e-03, -4.7817626e-03],\n",
       "          [ 6.5479227e-03, -4.5688316e-04, -9.6012969e-03, ...,\n",
       "           -1.6511017e-02, -5.0886343e-03,  3.5254553e-02],\n",
       "          [-1.3184814e-02,  3.4942649e-02,  8.8205244e-03, ...,\n",
       "            3.5277098e-02, -4.7962097e-03,  1.1367774e-02]],\n",
       " \n",
       "         [[-1.0809611e-02,  2.4988931e-02, -2.1238811e-02, ...,\n",
       "            8.4766056e-03,  8.3086472e-03,  2.7523270e-02],\n",
       "          [ 2.4641464e-03,  1.6409682e-02,  1.9631296e-02, ...,\n",
       "            2.2312105e-02,  1.0276157e-02,  3.2013275e-02],\n",
       "          [-7.9669058e-03, -6.1297836e-04,  8.3575835e-03, ...,\n",
       "            1.4427343e-02, -6.5090116e-03, -8.3653275e-03],\n",
       "          ...,\n",
       "          [ 1.3175567e-02,  1.3718134e-03, -6.9970284e-03, ...,\n",
       "            2.5506904e-02,  2.8789504e-03, -4.7817626e-03],\n",
       "          [ 6.5479227e-03, -4.5688316e-04, -9.6012969e-03, ...,\n",
       "           -1.6511017e-02, -5.0886343e-03,  3.5254553e-02],\n",
       "          [-1.3184814e-02,  3.4942649e-02,  8.8205244e-03, ...,\n",
       "            3.5277098e-02, -4.7962097e-03,  1.1367774e-02]],\n",
       " \n",
       "         [[-4.9977857e-03, -3.1535642e-03, -1.7980134e-02, ...,\n",
       "            2.0917067e-02, -8.4262928e-03,  8.0028074e-03],\n",
       "          [-2.5081781e-03, -2.5879000e-03,  2.1137490e-03, ...,\n",
       "            7.5420784e-03, -2.9568605e-03, -3.0423240e-03],\n",
       "          [ 1.5716229e-02, -9.4399415e-03,  1.0956642e-02, ...,\n",
       "           -5.4587810e-03,  1.9141628e-03, -6.4710001e-03],\n",
       "          ...,\n",
       "          [ 3.2828946e-03,  6.4602308e-03,  3.0920019e-03, ...,\n",
       "           -1.0448155e-02, -1.6918568e-03, -5.2732220e-03],\n",
       "          [-5.7348041e-03,  1.6080340e-02, -1.9848250e-02, ...,\n",
       "           -4.6181115e-03, -1.7900186e-02, -1.6813157e-02],\n",
       "          [-8.5398285e-03, -7.9333680e-03,  1.7274668e-02, ...,\n",
       "           -2.4300243e-03,  3.2338102e-03,  4.7842550e-04]]]],\n",
       "       dtype=float32)]"
      ]
     },
     "execution_count": 77,
     "metadata": {},
     "output_type": "execute_result"
    }
   ],
   "source": [
    "wConv"
   ]
  },
  {
   "cell_type": "markdown",
   "metadata": {},
   "source": [
    "## assignFilters"
   ]
  },
  {
   "cell_type": "code",
   "execution_count": 78,
   "metadata": {},
   "outputs": [],
   "source": [
    "def assignFilters(wConv,wFc):\n",
    "    for wIdx in range(0,len(weightsConvMat)):\n",
    "        assign_op = weightsConvMat[wIdx].assign(wConv[wIdx])\n",
    "        session.run(assign_op)\n",
    "        \n",
    "    for wIdx in range(0,len(weightsFcMat)):\n",
    "        assign_op = weightsFcMat[wIdx].assign(wFc[wIdx])\n",
    "        session.run(assign_op)"
   ]
  },
  {
   "cell_type": "code",
   "execution_count": 79,
   "metadata": {},
   "outputs": [],
   "source": [
    "assignFilters(wConv,wFc)"
   ]
  },
  {
   "cell_type": "code",
   "execution_count": 102,
   "metadata": {},
   "outputs": [
    {
     "name": "stdout",
     "output_type": "stream",
     "text": [
      "Extracting MNIST_data/train-images-idx3-ubyte.gz\n",
      "Extracting MNIST_data/train-labels-idx1-ubyte.gz\n",
      "Extracting MNIST_data/t10k-images-idx3-ubyte.gz\n",
      "Extracting MNIST_data/t10k-labels-idx1-ubyte.gz\n"
     ]
    }
   ],
   "source": [
    "mnist = input_data.read_data_sets(\"MNIST_data/\", reshape=False)"
   ]
  },
  {
   "cell_type": "code",
   "execution_count": 124,
   "metadata": {},
   "outputs": [],
   "source": [
    "def loadValues(numImg):\n",
    "    \n",
    "    feed_dict = {a: imageTest, keep_prob:dropout}\n",
    "    values_conv1 = session.run(layer_conv1, feed_dict=feed_dict)\n",
    "    \n",
    "    values_conv2 = session.run(layer_conv2, feed_dict=feed_dict)\n",
    "    values_conv3 = session.run(layer_conv3, feed_dict = feed_dict)\n",
    "    values_fc1 = session.run(layer_fc1, feed_dict = feed_dict)\n",
    "    values_fc2 = session.run(layer_fc2, feed_dict = feed_dict)\n",
    "    values_fc3 = session.run(layer_fc3, feed_dict = feed_dict)\n",
    "    \n",
    "    valuesConvMat = [values_conv1, values_conv2, values_conv3]\n",
    "    valuesFcMat = [values_fc1, values_fc2, values_fc3]\n",
    "    \n",
    "    return valuesConvMat, valuesFcMat, numImg"
   ]
  },
  {
   "cell_type": "code",
   "execution_count": 125,
   "metadata": {},
   "outputs": [],
   "source": [
    "abc, defg, numImg = loadValues(100)"
   ]
  },
  {
   "cell_type": "code",
   "execution_count": 105,
   "metadata": {},
   "outputs": [
    {
     "name": "stdout",
     "output_type": "stream",
     "text": [
      "Extracting MNIST_data/train-images-idx3-ubyte.gz\n",
      "Extracting MNIST_data/train-labels-idx1-ubyte.gz\n",
      "Extracting MNIST_data/t10k-images-idx3-ubyte.gz\n",
      "Extracting MNIST_data/t10k-labels-idx1-ubyte.gz\n",
      "(100, 28, 28, 1)\n"
     ]
    }
   ],
   "source": [
    "dat = input_data.read_data_sets(\"MNIST_data/\", reshape=False)\n",
    "imageTest = dat.train.images[0:100]\n",
    "print(imageTest.shape)"
   ]
  },
  {
   "cell_type": "code",
   "execution_count": 108,
   "metadata": {},
   "outputs": [],
   "source": [
    "def calculateConvME(valuesMat):\n",
    "    shape = valuesMat.shape\n",
    "    valMat = valuesMat\n",
    "    numFilters = shape[3]\n",
    "   ## print(\"we are in the calculateConvME function\")\n",
    "   ## print(valMat)\n",
    "    means = np.zeros(numFilters)\n",
    "    meanSum = np.zeros(numFilters)\n",
    "    print(\"the number of filters are\")\n",
    "    print(numFilters)\n",
    "    for nImg in range(0,numImg):\n",
    "        meanSum = meanSum + means\n",
    "        for i in range(0,numFilters):\n",
    "            result = valMat[nImg,:,:,i]\n",
    "            result_sum = np.sum(result)\n",
    "            means[i] = result_sum\n",
    "\n",
    "    average = [x / numImg for x in meanSum]\n",
    "    averageSorted = np.sort(average)\n",
    "    return average, averageSorted"
   ]
  },
  {
   "cell_type": "code",
   "execution_count": 109,
   "metadata": {},
   "outputs": [],
   "source": [
    "def calculateFCME(valuesMat):\n",
    "    shape = valuesMat.shape\n",
    "    valMat = valuesMat\n",
    "    numFilters = shape[1]\n",
    "    ##print(\"we are in the fully connected layer function\")\n",
    "    ##print(valMat)\n",
    "    means = np.zeros(numFilters)\n",
    "    meanSum = np.zeros(numFilters)\n",
    "\n",
    "    for nImg in range(0,numImg):\n",
    "        meanSum = meanSum + means\n",
    "        for i in range(0,numFilters):\n",
    "            result = valMat[nImg,i]\n",
    "            result_sum = np.sum(result)\n",
    "            means[i] = result_sum\n",
    "\n",
    "    average = [x / numImg for x in meanSum]\n",
    "    averageSorted = np.sort(average)\n",
    "    return average, averageSorted"
   ]
  },
  {
   "cell_type": "code",
   "execution_count": 128,
   "metadata": {},
   "outputs": [],
   "source": [
    "def plotMEConvolution(ME1, ME2, ME3):\n",
    "    x1 = np.arange(len(ME1))\n",
    "    x2 = np.arange(len(ME2))\n",
    "    x3 = np.arange(len(ME3))\n",
    "    \n",
    "    plt.bar(x1, ME1, color = 'b', align = 'center')\n",
    "    d1=  len(ME1) + 1\n",
    "    plt.bar(x2+d1, ME2, color = 'g', align = 'center')\n",
    "    d2 = d1 + len(ME2) + 1\n",
    "    #location = x2 + len(ME1) \n",
    "    plt.bar(x3+d2, ME3, color = 'r', align = 'center')"
   ]
  },
  {
   "cell_type": "code",
   "execution_count": 131,
   "metadata": {},
   "outputs": [],
   "source": [
    "def plotMEFullyConnected(ME1, ME2, ME3):\n",
    "    x1 = np.arange(len(ME1))\n",
    "    x2 = np.arange(len(ME2))\n",
    "    x3 = np.arange(len(ME3))\n",
    "    \n",
    "    plt.bar(x1, ME1, color = 'b', align = 'center')\n",
    "    d1=  len(ME1) + 1\n",
    "    plt.bar(x2+d1, ME2, color = 'g', align = 'center')\n",
    "    d2 = d1 + len(ME2) + 1\n",
    "    #location = x2 + len(ME1) \n",
    "    plt.bar(x3+d2, ME3, color = 'r', align = 'center')"
   ]
  },
  {
   "cell_type": "markdown",
   "metadata": {},
   "source": [
    "## subtracting the two filters"
   ]
  },
  {
   "cell_type": "code",
   "execution_count": 112,
   "metadata": {},
   "outputs": [],
   "source": [
    "for i in range(len(wConv)):\n",
    "    wDiffConv[i] = np.absolute(wOrigConv[i] - wConv[i])\n",
    "for i in range(len(wFc)):\n",
    "#print(wOrigFc[1].shape)\n",
    "    wDiffFc[i] = np.absolute(wOrigFc[i] - wFc[i])"
   ]
  },
  {
   "cell_type": "code",
   "execution_count": 126,
   "metadata": {},
   "outputs": [
    {
     "name": "stdout",
     "output_type": "stream",
     "text": [
      "the number of filters are\n",
      "64\n",
      "the number of filters are\n",
      "128\n",
      "the number of filters are\n",
      "256\n",
      "[152.15688492 153.04320343 153.41526291 156.20338409 156.51002838\n",
      " 156.91231979 157.22238373 157.47518097 157.82412033 157.98984085\n",
      " 158.34188583 158.45703033 158.81998886 159.10587952 159.13249283\n",
      " 159.192491   159.69416641 159.80688385 159.85227005 159.96677032\n",
      " 160.19486938 160.34478775 161.04072617 161.04501328 161.05543671\n",
      " 161.07509445 161.37580551 161.51472534 161.99055481 162.37913086\n",
      " 162.40873947 162.43208008 162.68807907 162.82208298 163.12070877\n",
      " 163.21585648 163.32184586 163.32224945 163.44680847 163.4995163\n",
      " 163.612789   163.64057236 163.66480148 163.88926331 164.02470215\n",
      " 164.03829483 164.05236572 164.6400943  164.68405334 164.70353928\n",
      " 164.75433716 164.76576019 164.96336685 164.99081161 165.16464752\n",
      " 165.31329376 165.43550735 165.47810776 165.50008148 165.65833969\n",
      " 165.88065765 165.98089447 166.02779144 166.15477005 166.2498941\n",
      " 166.28443039 166.39646088 166.47949432 166.67685364 166.90297256\n",
      " 167.30022446 167.37444321 167.39391174 167.79039856 167.82483002\n",
      " 167.83954361 168.0520639  168.09502457 168.2234552  168.35178818\n",
      " 168.41229446 168.44570969 168.47447983 168.65230209 168.6711377\n",
      " 168.68373978 168.80334045 168.96570099 169.04753479 169.10697205\n",
      " 169.24807922 169.27029465 169.30927444 169.75950256 169.80546616\n",
      " 169.86971634 170.00645447 170.27822067 170.41899536 170.81240067\n",
      " 170.8362323  170.84328308 170.86407913 170.97818649 171.09589386\n",
      " 171.1807045  171.42718918 171.43152695 171.53110474 171.54939987\n",
      " 171.93458771 172.02335968 172.19715714 172.43980148 172.64940842\n",
      " 172.70045288 172.98119247 173.27696732 173.41911606 174.26752823\n",
      " 174.38646088 174.40214264 175.05418625 175.26181244 175.42739655\n",
      " 178.21191193 178.65996155 178.93092682]\n"
     ]
    }
   ],
   "source": [
    "assignFilters(wConv,wOrigFc)\n",
    "\n",
    "#------ this assign_op is only for assigning the first conv and first fc layer ------#\n",
    "\n",
    "assign_op = weightsFcMat[0].assign(wDiffFc[0])\n",
    "session.run(assign_op)\n",
    "assign_op = weightsConvMat[0].assign(wDiffConv[0])\n",
    "session.run(assign_op)\n",
    "\n",
    "valuesConvMat, valuesFcMat, numImg = loadValues(100)\n",
    "\n",
    "MEConv1,MEConv1Sorted = calculateConvME(valuesConvMat[0])\n",
    "\n",
    "MEFullyConnected1, MEFullyConnected1Sorted = calculateFCME(valuesFcMat[0])\n",
    "#MEFullyConnected2Sorted = calculateFCMEDynamic(valuesFcMat[1])\n",
    "assignFilters(wConv,wOrigFc)\n",
    "assign_op = weightsConvMat[1].assign(wDiffConv[1])\n",
    "session.run(assign_op)\n",
    "assign_op = weightsFcMat[1].assign(wDiffFc[1])\n",
    "session.run(assign_op)\n",
    "valuesConvMat,valuesFcMat,numImg = loadValues(100)\n",
    "\n",
    "#MEConv2,MEConv2Sorted = calculateConvME(valuesConvMat[1])\n",
    "\n",
    "MEConv2, MEConv2Sorted = calculateConvME(valuesConvMat[1])\n",
    "\n",
    "MEFullyConnected2, MEFullyConnected2Sorted = calculateFCME(valuesFcMat[1])\n",
    "#print(\"This is the ME for the convolution layer\")\n",
    "#print(MEConv2Sorted)\n",
    "\n",
    "assignFilters(wConv,wOrigFc)\n",
    "assign_op = weightsConvMat[2].assign(wDiffConv[2])\n",
    "session.run(assign_op)\n",
    "assign_op = weightsFcMat[2].assign(wDiffFc[2])\n",
    "session.run(assign_op)\n",
    "valuesConvMat,valuesFcMat,numImg = loadValues(100)\n",
    "\n",
    "\n",
    "MEConv3, MEConv3Sorted = calculateConvME(valuesConvMat[2])\n",
    "MEFullyConnected3, MEFullyConnected3Sorted = calculateFCME(valuesFcMat[2])\n",
    "\n",
    "\n",
    "MEConvMat = [MEConv1Sorted, MEConv2Sorted, MEConv3Sorted]\n",
    "#print(MEConv1Sorted)\n",
    "MEFullyConnectedMat = [MEFullyConnected1Sorted, MEFullyConnected2Sorted, MEFullyConnected3Sorted]\n",
    "#print(MEConv2Sorted)\n",
    "#print(\"the ME of Conv2 from the static approximation is\")\n",
    "print(MEConv2Sorted)"
   ]
  },
  {
   "cell_type": "code",
   "execution_count": 129,
   "metadata": {},
   "outputs": [
    {
     "data": {
      "image/png": "[encoded data removed]",
      "text/plain": [
       "<Figure size 432x288 with 1 Axes>"
      ]
     },
     "metadata": {
      "needs_background": "light"
     },
     "output_type": "display_data"
    }
   ],
   "source": [
    "plotMEConvolution(MEConvMat[0], MEConvMat[1], MEConvMat[2])"
   ]
  },
  {
   "cell_type": "code",
   "execution_count": 132,
   "metadata": {},
   "outputs": [
    {
     "data": {
      "image/png": "[encoded data removed]",
      "text/plain": [
       "<Figure size 432x288 with 1 Axes>"
      ]
     },
     "metadata": {
      "needs_background": "light"
     },
     "output_type": "display_data"
    }
   ],
   "source": [
    "plotMEFullyConnected(MEFullyConnectedMat[0], MEFullyConnectedMat[1], MEFullyConnectedMat[2])"
   ]
  },
  {
   "cell_type": "code",
   "execution_count": null,
   "metadata": {},
   "outputs": [],
   "source": []
  }
 ],
 "metadata": {
  "kernelspec": {
   "display_name": "cnn",
   "language": "python",
   "name": "cnn"
  },
  "language_info": {
   "codemirror_mode": {
    "name": "ipython",
    "version": 3
   },
   "file_extension": ".py",
   "mimetype": "text/x-python",
   "name": "python",
   "nbconvert_exporter": "python",
   "pygments_lexer": "ipython3",
   "version": "3.7.0"
  }
 },
 "nbformat": 4,
 "nbformat_minor": 2
}
