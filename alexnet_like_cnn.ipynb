{
 "cells": [
  {
   "cell_type": "markdown",
   "metadata": {},
   "source": [
    "## imports"
   ]
  },
  {
   "cell_type": "code",
   "execution_count": 2,
   "metadata": {},
   "outputs": [],
   "source": [
    "%matplotlib inline\n",
    "import matplotlib.pyplot as plt\n",
    "import tensorflow as tf\n",
    "import numpy as np\n",
    "from sklearn.metrics import confusion_matrix\n",
    "import time\n",
    "from datetime import timedelta\n",
    "import datetime\n",
    "import math\n",
    "import os\n",
    "from scipy import ndimage"
   ]
  },
  {
   "cell_type": "code",
   "execution_count": 3,
   "metadata": {},
   "outputs": [],
   "source": [
    "learning_rate = 0.001\n",
    "training_iters =  300\n",
    "batch_size = 64\n",
    "display_step = 100\n",
    "# Network Parameters\n",
    "n_input = 784 # MNIST data input (img shape: 28*28)\n",
    "n_classes = 10 # MNIST total classes (0-9 digits)\n",
    "dropout = 0.8 # Dropout, probability to keep units"
   ]
  },
  {
   "cell_type": "markdown",
   "metadata": {},
   "source": [
    "## load data"
   ]
  },
  {
   "cell_type": "code",
   "execution_count": 4,
   "metadata": {},
   "outputs": [
    {
     "name": "stdout",
     "output_type": "stream",
     "text": [
      "Extracting data/MNIST/train-images-idx3-ubyte.gz\n",
      "Extracting data/MNIST/train-labels-idx1-ubyte.gz\n",
      "Extracting data/MNIST/t10k-images-idx3-ubyte.gz\n",
      "Extracting data/MNIST/t10k-labels-idx1-ubyte.gz\n"
     ]
    }
   ],
   "source": [
    "import tensorflow as tf\n",
    "from tensorflow.examples.tutorials.mnist import input_data\n",
    "mnist = input_data.read_data_sets('data/MNIST/', one_hot=True)\n",
    "data = mnist"
   ]
  },
  {
   "cell_type": "code",
   "execution_count": 5,
   "metadata": {},
   "outputs": [
    {
     "name": "stdout",
     "output_type": "stream",
     "text": [
      "Size of:\n",
      "- Training-set:\t\t55000\n",
      "- Test-set:\t\t10000\n",
      "- Validation-set:\t5000\n"
     ]
    }
   ],
   "source": [
    "from tensorflow.examples.tutorials.mnist import input_data\n",
    "print(\"Size of:\")\n",
    "print(\"- Training-set:\\t\\t{}\".format(len(data.train.labels)))\n",
    "print(\"- Test-set:\\t\\t{}\".format(len(data.test.labels)))\n",
    "print(\"- Validation-set:\\t{}\".format(len(data.validation.labels)))"
   ]
  },
  {
   "cell_type": "code",
   "execution_count": 6,
   "metadata": {},
   "outputs": [],
   "source": [
    "data.test.cls = np.argmax(data.test.labels, axis=1)"
   ]
  },
  {
   "cell_type": "markdown",
   "metadata": {},
   "source": [
    "## helper funcions for creating new variables"
   ]
  },
  {
   "cell_type": "code",
   "execution_count": 7,
   "metadata": {},
   "outputs": [],
   "source": [
    "def new_weights(shape):\n",
    "    return tf.Variable(tf.truncated_normal(shape, stddev=0.05))\n",
    "\n",
    "def new_biases(length):\n",
    "    return tf.Variable(tf.constant(0.05, shape=[length]))"
   ]
  },
  {
   "cell_type": "markdown",
   "metadata": {},
   "source": [
    "## new convolution layer"
   ]
  },
  {
   "cell_type": "code",
   "execution_count": 8,
   "metadata": {},
   "outputs": [],
   "source": [
    "def new_conv_layer(input,              # The previous layer.\n",
    "                   num_input_channels, # Num. channels in prev. layer.\n",
    "                   filter_size,        # Width and height of each filter.\n",
    "                   num_filters,):  # Use 2x2 max-pooling.\n",
    "\n",
    "    # Shape of the filter-weights for the convolution.\n",
    "    # This format is determined by the TensorFlow API.\n",
    "    shape = [filter_size, filter_size, num_input_channels, num_filters]\n",
    "\n",
    "    # Create new weights aka. filters with the given shape.\n",
    "    weights = new_weights(shape=shape)\n",
    "\n",
    "    # Create new biases, one for each filter.\n",
    "    biases = new_biases(length=num_filters)\n",
    "\n",
    "    # Create the TensorFlow operation for convolution.\n",
    "    # Note the strides are set to 1 in all dimensions.\n",
    "    # The first and last stride must always be 1,\n",
    "    # because the first is for the image-number and\n",
    "    # the last is for the input-channel.\n",
    "    # But e.g. strides=[1, 2, 2, 1] would mean that the filter\n",
    "    # is moved 2 pixels across the x- and y-axis of the image.\n",
    "    # The padding is set to 'SAME' which means the input image\n",
    "    # is padded with zeroes so the size of the output is the same.\n",
    "    layer = tf.nn.conv2d(input=input,\n",
    "                         filter=weights,\n",
    "                         strides=[1, 1, 1, 1],\n",
    "                         padding='SAME')\n",
    "    #layerConvOut = layer\n",
    "\n",
    "    # Add the biases to the results of the convolution.\n",
    "    # A bias-value is added to each filter-channel.\n",
    "    #layer += biases\n",
    "\n",
    "    return layer, weights, biases"
   ]
  },
  {
   "cell_type": "code",
   "execution_count": 9,
   "metadata": {},
   "outputs": [],
   "source": [
    "def pooling_relu(input,              # The previous layer.\n",
    "                  use_pooling=True):  # Use 2x2 max-pooling.\n",
    "\n",
    "\n",
    "    # Use pooling to down-sample the image resolution?\n",
    "    if use_pooling:\n",
    "        # This is 2x2 max-pooling, which means that we\n",
    "        # consider 2x2 windows and select the largest value\n",
    "        # in each window. Then we move 2 pixels to the next window.\n",
    "        layer = tf.nn.max_pool(value=input,\n",
    "                               ksize=[1, 2, 2, 1],\n",
    "                               strides=[1, 2, 2, 1],\n",
    "                               padding='SAME')\n",
    "\n",
    "    # Rectified Linear Unit (ReLU).\n",
    "    # It calculates max(x, 0) for each input pixel x.\n",
    "    # This adds some non-linearity to the formula and allows us\n",
    "    # to learn more complicated functions.\n",
    "    layer = tf.nn.relu(layer)\n",
    "\n",
    "    # Note that ReLU is normally executed before the pooling,\n",
    "    # but since relu(max_pool(x)) == max_pool(relu(x)) we can\n",
    "    # save 75% of the relu-operations by max-pooling first.\n",
    "\n",
    "    # We return both the resulting layer and the filter-weights\n",
    "    # because we will plot the weights later.\n",
    "    return layer"
   ]
  },
  {
   "cell_type": "code",
   "execution_count": 10,
   "metadata": {},
   "outputs": [],
   "source": [
    "def flatten_layer(layer):\n",
    "    # Get the shape of the input layer.\n",
    "    layer_shape = layer.get_shape()\n",
    "\n",
    "    # The shape of the input layer is assumed to be:\n",
    "    # layer_shape == [num_images, img_height, img_width, num_channels]\n",
    "\n",
    "    # The number of features is: img_height * img_width * num_channels\n",
    "    # We can use a function from TensorFlow to calculate this.\n",
    "    num_features = layer_shape[1:4].num_elements()\n",
    "    \n",
    "    # Reshape the layer to [num_images, num_features].\n",
    "    # Note that we just set the size of the second dimension\n",
    "    # to num_features and the size of the first dimension to -1\n",
    "    # which means the size in that dimension is calculated\n",
    "    # so the total size of the tensor is unchanged from the reshaping.\n",
    "    layer_flat = tf.reshape(layer, [-1, num_features])\n",
    "\n",
    "    # The shape of the flattened layer is now:\n",
    "    # [num_images, img_height * img_width * num_channels]\n",
    "\n",
    "    # Return both the flattened layer and the number of features.\n",
    "    return layer_flat, num_features"
   ]
  },
  {
   "cell_type": "markdown",
   "metadata": {},
   "source": [
    "## helper function for fully connected layer"
   ]
  },
  {
   "cell_type": "code",
   "execution_count": 11,
   "metadata": {},
   "outputs": [],
   "source": [
    "def new_fc_layer(input,          # The previous layer.\n",
    "                 num_inputs,     # Num. inputs from prev. layer.\n",
    "                 num_outputs,    # Num. outputs.\n",
    "                 use_relu=True): # Use Rectified Linear Unit (ReLU)?\n",
    "\n",
    "    # Create new weights and biases.\n",
    "    weights = new_weights(shape=[num_inputs, num_outputs])\n",
    "    biases = new_biases(length=num_outputs)\n",
    "\n",
    "    # Calculate the layer as the matrix multiplication of\n",
    "    # the input and weights, and then add the bias-values.\n",
    "    layer = tf.matmul(input, weights) + biases\n",
    "\n",
    "    # Use ReLU?\n",
    "    if use_relu:\n",
    "        layer = tf.nn.relu(layer)\n",
    "\n",
    "    return layer,weights"
   ]
  },
  {
   "cell_type": "code",
   "execution_count": 12,
   "metadata": {},
   "outputs": [
    {
     "ename": "ValueError",
     "evalue": "No variables to save",
     "output_type": "error",
     "traceback": [
      "\u001b[0;31m---------------------------------------------------------------------------\u001b[0m",
      "\u001b[0;31mValueError\u001b[0m                                Traceback (most recent call last)",
      "\u001b[0;32m<ipython-input-12-6b3d66a5d17d>\u001b[0m in \u001b[0;36m<module>\u001b[0;34m()\u001b[0m\n\u001b[1;32m      1\u001b[0m \u001b[0;32mimport\u001b[0m \u001b[0mos\u001b[0m\u001b[0;34m\u001b[0m\u001b[0m\n\u001b[1;32m      2\u001b[0m \u001b[0msession\u001b[0m \u001b[0;34m=\u001b[0m \u001b[0mtf\u001b[0m\u001b[0;34m.\u001b[0m\u001b[0mSession\u001b[0m\u001b[0;34m(\u001b[0m\u001b[0;34m)\u001b[0m\u001b[0;34m\u001b[0m\u001b[0m\n\u001b[0;32m----> 3\u001b[0;31m \u001b[0msaver\u001b[0m \u001b[0;34m=\u001b[0m \u001b[0mtf\u001b[0m\u001b[0;34m.\u001b[0m\u001b[0mtrain\u001b[0m\u001b[0;34m.\u001b[0m\u001b[0mSaver\u001b[0m\u001b[0;34m(\u001b[0m\u001b[0;34m)\u001b[0m\u001b[0;34m\u001b[0m\u001b[0m\n\u001b[0m\u001b[1;32m      4\u001b[0m \u001b[0msave_dir\u001b[0m \u001b[0;34m=\u001b[0m \u001b[0;34m'checkpoint'\u001b[0m\u001b[0;34m\u001b[0m\u001b[0m\n\u001b[1;32m      5\u001b[0m \u001b[0;32mif\u001b[0m \u001b[0;32mnot\u001b[0m \u001b[0mos\u001b[0m\u001b[0;34m.\u001b[0m\u001b[0mpath\u001b[0m\u001b[0;34m.\u001b[0m\u001b[0mexists\u001b[0m\u001b[0;34m(\u001b[0m\u001b[0msave_dir\u001b[0m\u001b[0;34m)\u001b[0m\u001b[0;34m:\u001b[0m\u001b[0;34m\u001b[0m\u001b[0m\n",
      "\u001b[0;32m~/anaconda3/lib/python3.7/site-packages/tensorflow/python/training/saver.py\u001b[0m in \u001b[0;36m__init__\u001b[0;34m(self, var_list, reshape, sharded, max_to_keep, keep_checkpoint_every_n_hours, name, restore_sequentially, saver_def, builder, defer_build, allow_empty, write_version, pad_step_number)\u001b[0m\n\u001b[1;32m    998\u001b[0m     \u001b[0mself\u001b[0m\u001b[0;34m.\u001b[0m\u001b[0m_pad_step_number\u001b[0m \u001b[0;34m=\u001b[0m \u001b[0mpad_step_number\u001b[0m\u001b[0;34m\u001b[0m\u001b[0m\n\u001b[1;32m    999\u001b[0m     \u001b[0;32mif\u001b[0m \u001b[0;32mnot\u001b[0m \u001b[0mdefer_build\u001b[0m\u001b[0;34m:\u001b[0m\u001b[0;34m\u001b[0m\u001b[0m\n\u001b[0;32m-> 1000\u001b[0;31m       \u001b[0mself\u001b[0m\u001b[0;34m.\u001b[0m\u001b[0mbuild\u001b[0m\u001b[0;34m(\u001b[0m\u001b[0;34m)\u001b[0m\u001b[0;34m\u001b[0m\u001b[0m\n\u001b[0m\u001b[1;32m   1001\u001b[0m     \u001b[0;32mif\u001b[0m \u001b[0mself\u001b[0m\u001b[0;34m.\u001b[0m\u001b[0msaver_def\u001b[0m\u001b[0;34m:\u001b[0m\u001b[0;34m\u001b[0m\u001b[0m\n\u001b[1;32m   1002\u001b[0m       \u001b[0mself\u001b[0m\u001b[0;34m.\u001b[0m\u001b[0m_check_saver_def\u001b[0m\u001b[0;34m(\u001b[0m\u001b[0;34m)\u001b[0m\u001b[0;34m\u001b[0m\u001b[0m\n",
      "\u001b[0;32m~/anaconda3/lib/python3.7/site-packages/tensorflow/python/training/saver.py\u001b[0m in \u001b[0;36mbuild\u001b[0;34m(self)\u001b[0m\n\u001b[1;32m   1019\u001b[0m           \u001b[0;32mreturn\u001b[0m\u001b[0;34m\u001b[0m\u001b[0m\n\u001b[1;32m   1020\u001b[0m         \u001b[0;32melse\u001b[0m\u001b[0;34m:\u001b[0m\u001b[0;34m\u001b[0m\u001b[0m\n\u001b[0;32m-> 1021\u001b[0;31m           \u001b[0;32mraise\u001b[0m \u001b[0mValueError\u001b[0m\u001b[0;34m(\u001b[0m\u001b[0;34m\"No variables to save\"\u001b[0m\u001b[0;34m)\u001b[0m\u001b[0;34m\u001b[0m\u001b[0m\n\u001b[0m\u001b[1;32m   1022\u001b[0m       \u001b[0mself\u001b[0m\u001b[0;34m.\u001b[0m\u001b[0m_is_empty\u001b[0m \u001b[0;34m=\u001b[0m \u001b[0;32mFalse\u001b[0m\u001b[0;34m\u001b[0m\u001b[0m\n\u001b[1;32m   1023\u001b[0m       self.saver_def = self._builder.build(\n",
      "\u001b[0;31mValueError\u001b[0m: No variables to save"
     ]
    }
   ],
   "source": [
    "import os\n",
    "session = tf.Session()\n",
    "saver = tf.train.Saver()\n",
    "save_dir = 'checkpoint'\n",
    "if not os.path.exists(save_dir):\n",
    "    os.makedirs(save_dir)\n",
    "save_path = os.path.join(save_dir, 'best_validation')\n",
    "init = tf.global_variables_initializer()\n",
    "session.run(init)\n",
    "\n",
    "try:\n",
    "    print(\"trying to restore last checkpoint\")\n",
    "    last_chk_path = tf.train.latest_checkpoint(checkpoint_dir=save_dir)\n",
    "\n",
    "    # Try and load the data in the checkpoint.\n",
    "    saver.restore(session, save_path=last_chk_path)\n",
    "\n",
    "    # If we get to this point, the checkpoint was successfully loaded.\n",
    "    print(\"Restored checkpoint from:\", last_chk_path)\n",
    "except:\n",
    "    # If the above failed for some reason, simply\n",
    "    # initialize all the variables for the TensorFlow graph.\n",
    "    print(\"Failed to restore checkpoint. Initializing variables instead.\")\n",
    "    session.run(tf.global_variables_initializer())"
   ]
  },
  {
   "cell_type": "code",
   "execution_count": 13,
   "metadata": {},
   "outputs": [],
   "source": [
    "a = tf.placeholder(tf.float32, (100,28,28,1))\n",
    "x_image = tf.reshape(a,[-1,28,28,1])\n",
    "y = tf.placeholder(tf.int32, (None))\n",
    "one_hot_y = tf.one_hot(y, 10)\n",
    "keep_prob = tf.placeholder(tf.float32)\n",
    "session.run(tf.global_variables_initializer())"
   ]
  },
  {
   "cell_type": "code",
   "execution_count": 14,
   "metadata": {},
   "outputs": [],
   "source": [
    "num_channels = 1\n",
    "img_size = 28\n",
    "img_size_flat = img_size * img_size\n",
    "img_shape = (img_size, img_size)\n",
    "num_classes = 10\n",
    "\n",
    "# convolution layer1\n",
    "filter_size1 = 3\n",
    "num_filters1 = 64\n",
    "\n",
    "# convolution layer2\n",
    "filter_size2 = 3\n",
    "num_filters2 = 128\n",
    "\n",
    "#convolution layer3\n",
    "filter_size3 = 3\n",
    "num_filters3 = 256\n",
    "\n",
    "\n",
    "fc_size1 = 1024\n",
    "fc_size2 = 1024\n",
    "fc_size3 = 10"
   ]
  },
  {
   "cell_type": "code",
   "execution_count": 15,
   "metadata": {},
   "outputs": [],
   "source": [
    "def max_pool(name, l_input, k):\n",
    "    return tf.nn.max_pool(l_input, ksize=[1, k, k, 1], strides=[1, k, k, 1], \n",
    "                          padding='SAME', name=name)\n",
    "\n",
    "def norm(name, l_input, lsize=4):\n",
    "    return tf.nn.lrn(l_input, lsize, bias=1.0, alpha=0.001 / 9.0, beta=0.75, name=name)\n"
   ]
  },
  {
   "cell_type": "markdown",
   "metadata": {},
   "source": [
    "### This is alexnet initialized "
   ]
  },
  {
   "cell_type": "markdown",
   "metadata": {},
   "source": [
    "## convolution layer 1"
   ]
  },
  {
   "cell_type": "code",
   "execution_count": 16,
   "metadata": {},
   "outputs": [],
   "source": [
    "layer_conv1, weights_conv1,biases_conv1 = \\\n",
    "    new_conv_layer(input=x_image,\n",
    "                   num_input_channels=num_channels,\n",
    "                   filter_size=filter_size1,\n",
    "                   num_filters=num_filters1)\n",
    "\n"
   ]
  },
  {
   "cell_type": "code",
   "execution_count": 17,
   "metadata": {},
   "outputs": [],
   "source": [
    "layer_conv1_biases = layer_conv1 + biases_conv1"
   ]
  },
  {
   "cell_type": "code",
   "execution_count": 18,
   "metadata": {},
   "outputs": [],
   "source": [
    "pool1 = max_pool('pool1', layer_conv1_biases, k=2)\n",
    "norm1 = norm('norm1', pool1, lsize=4)\n",
    "_dropout = keep_prob\n",
    "norm1 = tf.nn.dropout(norm1, _dropout)"
   ]
  },
  {
   "cell_type": "markdown",
   "metadata": {},
   "source": [
    "## convolution layer 2"
   ]
  },
  {
   "cell_type": "code",
   "execution_count": 19,
   "metadata": {},
   "outputs": [],
   "source": [
    "layer_conv2, weights_conv2,biases_conv2 = \\\n",
    "    new_conv_layer(input=norm1,\n",
    "                   num_input_channels=num_filters1,\n",
    "                   filter_size=filter_size2,\n",
    "                   num_filters=num_filters2)"
   ]
  },
  {
   "cell_type": "code",
   "execution_count": 20,
   "metadata": {},
   "outputs": [],
   "source": [
    "layer_conv2_biases = layer_conv2 + biases_conv2"
   ]
  },
  {
   "cell_type": "code",
   "execution_count": 21,
   "metadata": {},
   "outputs": [],
   "source": [
    "pool2 = max_pool('pool2', layer_conv2_biases, k=2)\n",
    "    # Apply Normalization\n",
    "norm2 = norm('norm2', pool2, lsize=4)\n",
    "    # Apply Dropout\n",
    "norm2 = tf.nn.dropout(norm2, _dropout)"
   ]
  },
  {
   "cell_type": "markdown",
   "metadata": {},
   "source": [
    "## convolution layer 3"
   ]
  },
  {
   "cell_type": "code",
   "execution_count": 22,
   "metadata": {},
   "outputs": [],
   "source": [
    "layer_conv3, weights_conv3,biases_conv3 = \\\n",
    "    new_conv_layer(input=norm2,\n",
    "                   num_input_channels=num_filters2,\n",
    "                   filter_size=filter_size3,\n",
    "                   num_filters=num_filters3)"
   ]
  },
  {
   "cell_type": "code",
   "execution_count": 23,
   "metadata": {},
   "outputs": [],
   "source": [
    "layer_conv3_biases = layer_conv3 + biases_conv3"
   ]
  },
  {
   "cell_type": "code",
   "execution_count": 24,
   "metadata": {},
   "outputs": [
    {
     "data": {
      "text/plain": [
       "<tf.Tensor 'Conv2D_2:0' shape=(100, 7, 7, 256) dtype=float32>"
      ]
     },
     "execution_count": 24,
     "metadata": {},
     "output_type": "execute_result"
    }
   ],
   "source": [
    "layer_conv3"
   ]
  },
  {
   "cell_type": "code",
   "execution_count": 25,
   "metadata": {},
   "outputs": [],
   "source": [
    "pool3 = max_pool('pool3', layer_conv3, k=2)\n",
    "    # Apply Normalization\n",
    "norm3 = norm('norm3', pool3, lsize=4)\n",
    "    # Apply Dropout\n",
    "norm3 = tf.nn.dropout(norm3, _dropout)\n"
   ]
  },
  {
   "cell_type": "code",
   "execution_count": 26,
   "metadata": {},
   "outputs": [],
   "source": [
    "layer_flat, num_features = flatten_layer(norm3)"
   ]
  },
  {
   "cell_type": "code",
   "execution_count": 27,
   "metadata": {},
   "outputs": [
    {
     "data": {
      "text/plain": [
       "4096"
      ]
     },
     "execution_count": 27,
     "metadata": {},
     "output_type": "execute_result"
    }
   ],
   "source": [
    "num_features"
   ]
  },
  {
   "cell_type": "code",
   "execution_count": null,
   "metadata": {},
   "outputs": [],
   "source": []
  },
  {
   "cell_type": "markdown",
   "metadata": {},
   "source": [
    "## fully connected layer 1"
   ]
  },
  {
   "cell_type": "code",
   "execution_count": 28,
   "metadata": {},
   "outputs": [],
   "source": [
    "layer_fc1,weights_fc1 = new_fc_layer(input=layer_flat,\n",
    "                         num_inputs=num_features,\n",
    "                         num_outputs=fc_size1,\n",
    "                         use_relu=True)"
   ]
  },
  {
   "cell_type": "code",
   "execution_count": 29,
   "metadata": {},
   "outputs": [],
   "source": [
    "layer_flat1, num_features1 = flatten_layer(layer_fc1)"
   ]
  },
  {
   "cell_type": "code",
   "execution_count": 58,
   "metadata": {},
   "outputs": [
    {
     "data": {
      "text/plain": [
       "1024"
      ]
     },
     "execution_count": 58,
     "metadata": {},
     "output_type": "execute_result"
    }
   ],
   "source": [
    "num_features1"
   ]
  },
  {
   "cell_type": "markdown",
   "metadata": {},
   "source": [
    "## fully connected layer 2"
   ]
  },
  {
   "cell_type": "code",
   "execution_count": 30,
   "metadata": {},
   "outputs": [],
   "source": [
    "layer_fc2,weights_fc2 = new_fc_layer(input=layer_flat1,\n",
    "                         num_inputs=num_features1,\n",
    "                         num_outputs=fc_size2,\n",
    "                         use_relu=True)"
   ]
  },
  {
   "cell_type": "code",
   "execution_count": 31,
   "metadata": {},
   "outputs": [],
   "source": [
    "layer_flat2, num_features2 = flatten_layer(layer_fc2)"
   ]
  },
  {
   "cell_type": "code",
   "execution_count": 61,
   "metadata": {},
   "outputs": [
    {
     "data": {
      "text/plain": [
       "1024"
      ]
     },
     "execution_count": 61,
     "metadata": {},
     "output_type": "execute_result"
    }
   ],
   "source": [
    "num_features2"
   ]
  },
  {
   "cell_type": "markdown",
   "metadata": {},
   "source": [
    "## fully connected layer 3"
   ]
  },
  {
   "cell_type": "code",
   "execution_count": 32,
   "metadata": {},
   "outputs": [],
   "source": [
    "layer_fc3,weights_fc3 = new_fc_layer(input=layer_flat2,\n",
    "                         num_inputs=num_features2,\n",
    "                         num_outputs=fc_size3,\n",
    "                         use_relu=True)"
   ]
  },
  {
   "cell_type": "markdown",
   "metadata": {},
   "source": [
    "### predicted class"
   ]
  },
  {
   "cell_type": "code",
   "execution_count": 33,
   "metadata": {},
   "outputs": [],
   "source": [
    "y_pred = tf.nn.softmax(layer_fc3)"
   ]
  },
  {
   "cell_type": "code",
   "execution_count": 34,
   "metadata": {},
   "outputs": [
    {
     "name": "stdout",
     "output_type": "stream",
     "text": [
      "Tensor(\"Softmax:0\", shape=(100, 10), dtype=float32)\n"
     ]
    }
   ],
   "source": [
    "print(y_pred)"
   ]
  },
  {
   "cell_type": "code",
   "execution_count": 35,
   "metadata": {},
   "outputs": [],
   "source": [
    "y_pred_cls = tf.argmax(y_pred, axis=1)"
   ]
  },
  {
   "cell_type": "code",
   "execution_count": 66,
   "metadata": {},
   "outputs": [
    {
     "ename": "NameError",
     "evalue": "name 'y_true' is not defined",
     "output_type": "error",
     "traceback": [
      "\u001b[0;31m---------------------------------------------------------------------------\u001b[0m",
      "\u001b[0;31mNameError\u001b[0m                                 Traceback (most recent call last)",
      "\u001b[0;32m<ipython-input-66-4999f4fab974>\u001b[0m in \u001b[0;36m<module>\u001b[0;34m()\u001b[0m\n\u001b[1;32m      1\u001b[0m cross_entropy = tf.nn.softmax_cross_entropy_with_logits(logits=layer_fc3,\n\u001b[0;32m----> 2\u001b[0;31m                                                         labels=y_true)\n\u001b[0m",
      "\u001b[0;31mNameError\u001b[0m: name 'y_true' is not defined"
     ]
    }
   ],
   "source": [
    "#cross_entropy = tf.nn.softmax_cross_entropy_with_logits(logits=layer_fc3,\n",
    " #                                                       labels=y_true)\n"
   ]
  },
  {
   "cell_type": "markdown",
   "metadata": {},
   "source": [
    "## tensorflow run"
   ]
  },
  {
   "cell_type": "code",
   "execution_count": 36,
   "metadata": {},
   "outputs": [],
   "source": [
    "session.run(tf.global_variables_initializer())"
   ]
  },
  {
   "cell_type": "code",
   "execution_count": 37,
   "metadata": {},
   "outputs": [],
   "source": [
    "train_batch_size = 64\n"
   ]
  },
  {
   "cell_type": "markdown",
   "metadata": {},
   "source": [
    "## store the original weights"
   ]
  },
  {
   "cell_type": "code",
   "execution_count": 38,
   "metadata": {},
   "outputs": [],
   "source": [
    "w_conv1_original = session.run(weights_conv1)\n",
    "w_conv2_original = session.run(weights_conv2)\n",
    "w_conv3_original = session.run(weights_conv3)\n",
    "\n",
    "w_fc1_original = session.run(weights_fc1)\n",
    "w_fc2_original = session.run(weights_fc2)\n",
    "w_fc3_original = session.run(weights_fc3)"
   ]
  },
  {
   "cell_type": "code",
   "execution_count": 39,
   "metadata": {},
   "outputs": [],
   "source": [
    "wOrigConv = [w_conv1_original,w_conv2_original, w_conv3_original]\n",
    "wOrigFc = [w_fc1_original, w_fc2_original, w_fc3_original]"
   ]
  },
  {
   "cell_type": "markdown",
   "metadata": {},
   "source": [
    "## restore weights"
   ]
  },
  {
   "cell_type": "code",
   "execution_count": 63,
   "metadata": {},
   "outputs": [],
   "source": [
    "def restoreWeights():\n",
    "    for wIdx in range(0,len(weightsConvMat)):\n",
    "            assign_op = weightsConvMat[wIdx].assign(wOrigConv[wIdx])\n",
    "            session.run(assign_op)\n",
    "\n",
    "    for wIdx in range(0,len(weightsFcMat)):\n",
    "            assign_op = weightsFcMat[wIdx].assign(wOrigFc[wIdx])\n",
    "            session.run(assign_op)"
   ]
  },
  {
   "cell_type": "code",
   "execution_count": 84,
   "metadata": {},
   "outputs": [],
   "source": [
    "restoreWeights()"
   ]
  },
  {
   "cell_type": "code",
   "execution_count": 85,
   "metadata": {},
   "outputs": [],
   "source": [
    "weightsConvMat = [weights_conv1,weights_conv2, weights_conv3]\n",
    "weightsFcMat = [weights_fc1, weights_fc2, weights_fc3]\n",
    "\n",
    "wConv1 = session.run(weights_conv1)\n",
    "wConv2 = session.run(weights_conv2)\n",
    "wConv3 = session.run(weights_conv3)\n",
    "wFc1 = session.run(weights_fc1)\n",
    "wFc2 = session.run(weights_fc2)\n",
    "wFc3 = session.run(weights_fc3)\n",
    "wConv = [wConv1,wConv2, wConv3]\n",
    "wFc = [wFc1,wFc2, wFc3]"
   ]
  },
  {
   "cell_type": "code",
   "execution_count": 86,
   "metadata": {},
   "outputs": [
    {
     "data": {
      "text/plain": [
       "array([[[[ 5.44803105e-02,  4.84906919e-02,  5.56943491e-02,\n",
       "          -1.06792932e-03, -5.77837825e-02, -2.18323525e-02,\n",
       "           8.99219811e-02, -4.97913249e-02, -1.25363860e-02,\n",
       "          -2.53076050e-02,  8.57875869e-02, -7.15413764e-02,\n",
       "          -8.72049332e-02, -4.20940071e-02,  1.28315017e-02,\n",
       "          -1.45792114e-02,  4.18783575e-02,  3.17520276e-02,\n",
       "          -2.70104613e-02,  2.38685068e-02, -1.44991754e-02,\n",
       "           1.78619958e-02,  5.38102463e-02, -4.81433459e-02,\n",
       "           5.81639372e-02,  3.76842283e-02,  8.37970972e-02,\n",
       "          -1.97132248e-02,  5.69185102e-03, -3.48908715e-02,\n",
       "          -7.65475854e-02, -4.64808149e-03, -2.84655429e-02,\n",
       "           1.82881225e-02, -4.67654550e-03, -1.17938565e-02,\n",
       "          -2.58041807e-02,  2.04663761e-02, -3.56969982e-03,\n",
       "          -1.17754666e-02,  4.37779576e-02,  5.76852746e-02,\n",
       "          -6.59341738e-02,  4.82091308e-02,  3.76913473e-02,\n",
       "           7.28948638e-02,  1.73877273e-02,  4.46221232e-03,\n",
       "           8.97316039e-02,  8.80250707e-03, -6.45892173e-02,\n",
       "          -2.04386320e-02, -2.38520559e-02,  4.66814674e-02,\n",
       "          -5.74803427e-02,  5.75087173e-03, -4.26535169e-03,\n",
       "          -7.41801644e-03, -2.51647681e-02, -8.47968683e-02,\n",
       "          -5.98446801e-02,  5.25405593e-02, -4.23422921e-03,\n",
       "          -2.69972719e-02]],\n",
       "\n",
       "        [[ 1.14540141e-02,  2.63792016e-02, -1.57559197e-02,\n",
       "          -4.28974815e-02,  2.40738466e-02,  5.67843346e-03,\n",
       "           7.39332289e-03,  8.78437515e-03,  7.38501176e-02,\n",
       "           6.19249605e-02,  9.86823067e-02,  1.58507414e-02,\n",
       "           4.50475812e-02, -2.94585582e-02, -5.65392636e-02,\n",
       "           3.46458778e-02,  2.13856529e-02, -9.93531849e-03,\n",
       "           2.76662204e-02,  5.44601269e-02,  2.32597347e-02,\n",
       "           3.10076512e-02, -4.89902012e-02,  6.01474531e-02,\n",
       "          -4.40566018e-02,  9.52602550e-02, -2.00599879e-02,\n",
       "           2.20022406e-02, -2.75871791e-02, -6.32963181e-02,\n",
       "          -3.78653631e-02,  4.04977612e-02,  4.66796793e-02,\n",
       "          -2.69333478e-02,  1.18075283e-02, -3.32983248e-02,\n",
       "           6.95675984e-02,  6.07247315e-02, -1.63888987e-02,\n",
       "           2.36712974e-02,  3.53217945e-02, -1.65172834e-02,\n",
       "           4.41730730e-02, -1.66343655e-02,  2.85053113e-03,\n",
       "          -4.08092402e-02, -2.40243487e-02,  4.96901758e-03,\n",
       "           9.49020013e-02,  6.43626526e-02, -3.63234207e-02,\n",
       "          -6.90070838e-02,  8.56338441e-03,  1.13626942e-02,\n",
       "           6.43180758e-02, -8.34667590e-03, -8.93406868e-02,\n",
       "          -2.06139535e-02,  8.48523304e-02,  2.16671601e-02,\n",
       "          -5.67218028e-02,  8.36321991e-03,  2.04370674e-02,\n",
       "          -1.65454354e-02]],\n",
       "\n",
       "        [[-9.60718375e-03,  6.40348196e-02, -2.74877939e-02,\n",
       "          -3.59466975e-03,  9.46012214e-02,  2.21116398e-03,\n",
       "           1.76338572e-02, -4.40646848e-03,  2.69208457e-02,\n",
       "          -4.74225841e-02,  7.54440296e-03,  8.22553504e-03,\n",
       "          -8.27469751e-02, -1.24927117e-02,  3.32831219e-02,\n",
       "           9.36637260e-03,  3.55608128e-02, -5.48008569e-02,\n",
       "          -3.38538885e-02, -2.67158691e-02, -7.28190020e-02,\n",
       "           2.04272452e-03,  8.03248119e-03, -1.43501302e-02,\n",
       "           5.29944189e-02,  9.40327644e-02, -5.70386909e-02,\n",
       "           7.07228556e-02,  2.38259863e-02,  3.14042680e-02,\n",
       "           4.73703630e-02,  1.91742387e-02,  2.56494782e-03,\n",
       "          -1.86646972e-02,  4.21517231e-02, -2.59843227e-02,\n",
       "          -6.76878467e-02, -8.05697124e-03, -1.21231182e-02,\n",
       "          -3.89891081e-02, -1.19209932e-02, -4.28328440e-02,\n",
       "          -3.50008905e-02,  9.80243012e-02,  5.73385023e-02,\n",
       "           4.73161675e-02,  3.60367745e-02, -4.37649488e-02,\n",
       "           7.67542943e-02,  1.58220883e-02,  1.49999117e-03,\n",
       "           6.70964494e-02,  1.07608913e-02, -6.50996044e-02,\n",
       "          -2.82887314e-02,  4.47693169e-02, -5.31045161e-02,\n",
       "          -6.41513243e-02, -4.50327545e-02,  6.75793812e-02,\n",
       "           1.10148441e-03, -7.03062722e-03,  1.14672249e-02,\n",
       "          -5.97707927e-02]]],\n",
       "\n",
       "\n",
       "       [[[ 8.47809985e-02,  1.81014650e-02, -1.71344623e-03,\n",
       "           5.37145250e-02, -1.57639047e-03,  3.51636596e-02,\n",
       "          -3.62642854e-02, -2.93377321e-02, -8.86696056e-02,\n",
       "          -1.23810098e-02,  2.65324563e-02, -4.43110131e-02,\n",
       "          -2.82249898e-02, -1.07206218e-02,  1.98587566e-03,\n",
       "          -3.77949849e-02,  3.80581361e-03,  4.14196923e-02,\n",
       "          -3.62221226e-02,  5.30706719e-02, -3.01120430e-02,\n",
       "          -2.71887388e-02,  4.89646755e-02, -1.00624105e-02,\n",
       "          -1.24648651e-02,  2.04720702e-02, -1.72820203e-02,\n",
       "           3.04441489e-02,  6.62762448e-02,  9.21260640e-02,\n",
       "          -1.38176675e-03, -1.60163920e-02,  1.90723985e-02,\n",
       "          -3.09159756e-02,  5.31478412e-02, -3.70290480e-03,\n",
       "          -1.30219413e-02,  1.52367530e-02, -4.57306169e-02,\n",
       "           4.24151383e-02,  7.04192445e-02,  7.03055039e-02,\n",
       "          -8.17008689e-03,  4.66467589e-02, -1.21384440e-02,\n",
       "          -1.29213408e-02, -1.14470050e-02,  4.32817228e-02,\n",
       "          -5.21926470e-02, -2.40958612e-02,  5.37025137e-03,\n",
       "          -3.63548845e-02, -4.64647971e-02, -4.30799536e-02,\n",
       "          -3.68866920e-02,  4.98193391e-02,  5.83402514e-02,\n",
       "          -1.94301233e-02,  5.32422177e-02, -2.38378979e-02,\n",
       "          -3.09152529e-03,  8.76807272e-02, -1.13003626e-02,\n",
       "           1.55024277e-02]],\n",
       "\n",
       "        [[-4.98648249e-02, -8.45787004e-02,  1.63699798e-02,\n",
       "          -2.22879052e-02,  3.68118249e-02, -1.96046736e-02,\n",
       "           2.50467332e-03, -2.26037968e-02, -2.72627678e-02,\n",
       "           3.17882858e-02,  4.28016409e-02, -7.67861903e-02,\n",
       "          -2.53249388e-02, -6.50342554e-02,  1.27005028e-02,\n",
       "           1.76207628e-02, -2.12635361e-02,  3.28312330e-02,\n",
       "          -1.70818586e-02,  5.89651875e-02,  5.39909005e-02,\n",
       "          -5.04143201e-02, -5.44490330e-02,  7.48812854e-02,\n",
       "           1.74299741e-04, -3.89201157e-02,  8.71741995e-02,\n",
       "          -9.28303897e-02,  4.60236892e-02, -7.54613206e-02,\n",
       "           3.60720120e-02,  3.87296127e-03, -2.34288499e-02,\n",
       "          -4.91269976e-02, -9.29938108e-02,  1.61016118e-02,\n",
       "          -3.44807580e-02, -3.06023518e-03,  1.88663956e-02,\n",
       "          -7.34522045e-02,  6.11891747e-02,  2.20685862e-02,\n",
       "          -5.43807745e-02, -1.30558824e-02,  9.33857542e-03,\n",
       "           5.06752692e-02,  3.33491713e-02,  1.79085117e-02,\n",
       "          -4.80171964e-02,  1.09003969e-02, -2.32980829e-02,\n",
       "          -4.91410308e-02, -6.96431547e-02, -1.49752973e-02,\n",
       "          -6.09249948e-03, -6.21018670e-02, -5.40992199e-03,\n",
       "          -3.92367840e-02,  2.89395954e-02, -5.20013645e-02,\n",
       "           1.03359092e-02,  8.48638732e-03, -6.18133731e-02,\n",
       "          -5.90239540e-02]],\n",
       "\n",
       "        [[ 2.71225907e-02, -2.80883759e-02, -3.06186378e-02,\n",
       "           7.91257098e-02, -1.70749798e-03,  2.40260307e-02,\n",
       "           5.79225123e-02, -2.14583408e-02,  1.13641787e-02,\n",
       "           8.48770421e-03,  2.01579984e-02,  4.23062872e-03,\n",
       "          -4.39015739e-02,  1.47728920e-02,  1.62999630e-02,\n",
       "           1.32280949e-03,  2.88878735e-02, -2.49653794e-02,\n",
       "           2.81524304e-02, -1.61293708e-02,  2.21070345e-03,\n",
       "           5.28443838e-03, -8.15186426e-02, -2.18885252e-03,\n",
       "           5.48258014e-02,  1.59323514e-02, -4.25222740e-02,\n",
       "          -2.19081119e-02,  2.71014273e-02, -5.64322108e-04,\n",
       "          -3.33262421e-02,  4.01806794e-02, -8.09604675e-03,\n",
       "          -4.68833633e-02, -1.79351773e-02,  2.33308934e-02,\n",
       "          -7.85617100e-04,  9.48124230e-02,  2.85738800e-03,\n",
       "           3.22610848e-02,  2.45224033e-02, -9.06515401e-03,\n",
       "          -7.29369745e-02, -1.44923659e-04,  3.00506186e-02,\n",
       "           1.72529705e-02, -4.09520082e-02,  8.29451755e-02,\n",
       "          -7.21295848e-02, -9.08866245e-03, -3.83237936e-02,\n",
       "          -2.04682723e-02, -3.27098332e-02, -1.10802865e-02,\n",
       "           1.82908052e-03, -6.56851828e-02, -1.30146584e-02,\n",
       "          -5.24826236e-02,  6.09429460e-03, -2.34884745e-03,\n",
       "          -5.28958514e-02, -7.35595822e-02, -5.56806512e-02,\n",
       "          -4.01223190e-02]]],\n",
       "\n",
       "\n",
       "       [[[-4.32925150e-02, -9.20667276e-02, -7.04003796e-02,\n",
       "          -1.20227400e-03,  4.48079593e-03, -1.69421174e-02,\n",
       "           5.51937334e-02,  6.37628091e-03, -4.36045416e-02,\n",
       "           8.86757076e-02, -3.14796381e-02, -3.11827268e-02,\n",
       "           7.46528804e-02,  8.39265957e-02,  9.68701299e-03,\n",
       "          -4.17506881e-02,  3.93557884e-02,  9.37354267e-02,\n",
       "           3.13161835e-02, -6.93136156e-02,  9.07100663e-02,\n",
       "           4.34841961e-04,  2.21831333e-02,  1.42939687e-02,\n",
       "          -1.72643413e-04, -8.55950266e-02,  5.45554832e-02,\n",
       "           7.01629072e-02,  4.37384285e-02, -5.43805845e-02,\n",
       "           3.25279646e-02,  3.30487750e-02, -5.91405015e-03,\n",
       "          -2.44139843e-02,  7.65019283e-02, -3.18663125e-03,\n",
       "           2.42755115e-02,  1.45687237e-02,  4.51515578e-02,\n",
       "           5.33218086e-02, -3.80383357e-02, -1.79258529e-02,\n",
       "           8.37173387e-02,  3.49967889e-02, -1.36689683e-02,\n",
       "          -7.38999173e-02,  2.26720534e-02,  3.37565131e-02,\n",
       "           3.12355068e-02, -2.03376822e-02, -1.35068437e-02,\n",
       "          -3.32361721e-02,  2.69846153e-02,  2.24083140e-02,\n",
       "           5.15164733e-02, -5.09716570e-02, -5.31669371e-02,\n",
       "           3.42677943e-02,  3.33678164e-02,  2.60067042e-02,\n",
       "          -1.04275374e-02, -5.70026599e-02,  5.41668423e-02,\n",
       "          -3.62454653e-02]],\n",
       "\n",
       "        [[ 5.67301810e-02,  6.37476370e-02, -3.02685332e-03,\n",
       "          -4.04667817e-02, -9.70452726e-02, -4.06169333e-02,\n",
       "           6.22422202e-03, -1.86782293e-02,  9.55258217e-03,\n",
       "           1.14091299e-02,  5.32220714e-02, -5.51951937e-02,\n",
       "           4.18886505e-02,  5.68045750e-02, -6.89872429e-02,\n",
       "          -3.29067791e-03,  4.48959926e-03,  5.26377223e-02,\n",
       "          -8.96451697e-02, -9.55931563e-03,  1.56911649e-02,\n",
       "          -6.55068606e-02, -4.74094190e-02, -9.24352463e-03,\n",
       "          -7.50016130e-04, -1.23630781e-02,  5.23868464e-02,\n",
       "           1.28961657e-03, -3.35048996e-02,  1.03463456e-02,\n",
       "          -3.95102464e-02,  5.37647400e-03,  3.31115797e-02,\n",
       "           5.86688817e-02, -5.06980196e-02, -1.05125969e-02,\n",
       "          -4.24536057e-02,  1.29749998e-02,  6.30609393e-02,\n",
       "          -4.74623404e-02, -3.58984582e-02,  9.30812024e-03,\n",
       "          -5.43026766e-03, -2.22569425e-02,  9.57754478e-02,\n",
       "           7.66432062e-02, -4.81918454e-03,  1.45035493e-03,\n",
       "          -3.64372395e-02, -1.54723588e-03,  3.00866961e-02,\n",
       "          -4.86669354e-02,  1.97590496e-02,  2.82151643e-02,\n",
       "           2.48905737e-02, -8.19537863e-02,  2.58286553e-03,\n",
       "          -6.35361448e-02, -8.74811411e-02,  4.35066735e-03,\n",
       "          -5.25375865e-02,  7.08008036e-02,  1.68528948e-02,\n",
       "          -7.53863854e-03]],\n",
       "\n",
       "        [[-5.67048676e-02, -4.93691675e-02,  9.41142716e-05,\n",
       "           3.01464647e-02, -1.75019093e-02, -3.42348553e-02,\n",
       "          -5.34411035e-02,  5.88938706e-02,  5.44203296e-02,\n",
       "          -6.14501350e-02,  2.29663774e-02,  8.22497532e-02,\n",
       "          -1.17406761e-02,  1.52956126e-02, -5.62974922e-02,\n",
       "           2.57030409e-02, -2.71693002e-02, -3.25105041e-02,\n",
       "          -8.55055004e-02, -5.29300384e-02, -5.88150099e-02,\n",
       "          -7.82267228e-02, -6.93779141e-02,  6.98529854e-02,\n",
       "          -1.62812811e-03,  3.28378007e-02, -9.11935326e-03,\n",
       "           3.17366831e-02, -5.27389646e-02, -3.01027242e-02,\n",
       "           4.94952314e-02,  6.62633032e-02,  6.04149476e-02,\n",
       "           4.16481979e-02, -8.41619633e-03,  6.33682683e-02,\n",
       "          -3.57112400e-02,  4.67042476e-02,  1.75660234e-02,\n",
       "           3.86208594e-02, -3.64422016e-02, -9.19284970e-02,\n",
       "           3.51383025e-03,  2.23679282e-02,  2.07179096e-02,\n",
       "          -2.95690149e-02, -3.17820124e-02,  8.48861597e-03,\n",
       "          -3.45687307e-02,  9.23664030e-03, -2.58850157e-02,\n",
       "           5.30517995e-02, -7.30028097e-03, -5.12982570e-02,\n",
       "           1.25715053e-02,  1.40845971e-02,  4.63963114e-02,\n",
       "           9.95848775e-02, -2.89580375e-02,  6.71729520e-02,\n",
       "           6.54853582e-02, -2.27126945e-02, -7.85613083e-04,\n",
       "           4.61836457e-02]]]], dtype=float32)"
      ]
     },
     "execution_count": 86,
     "metadata": {},
     "output_type": "execute_result"
    }
   ],
   "source": [
    "wConv1"
   ]
  },
  {
   "cell_type": "markdown",
   "metadata": {},
   "source": [
    "## container to hold filter difference"
   ]
  },
  {
   "cell_type": "code",
   "execution_count": 87,
   "metadata": {},
   "outputs": [],
   "source": [
    "wDiffConv = [] + wOrigConv\n",
    "wDiffFc = [] + wOrigFc"
   ]
  },
  {
   "cell_type": "code",
   "execution_count": 43,
   "metadata": {},
   "outputs": [],
   "source": [
    "def centroidFilter(wtListConv,wtListFc):\n",
    "    num = len(wtListConv)\n",
    "    \n",
    "    for wtMat in wtListConv:\n",
    "        shape = wtMat.shape\n",
    "        xlen = shape[0]\n",
    "        ylen = shape[1]\n",
    "        numChnls = shape[2]\n",
    "        numFilters = shape[3]\n",
    "\n",
    "        for c in range(0,numChnls):\n",
    "            for i in range(0,numFilters):\n",
    "                for j in range(0,xlen,2):\n",
    "                    for k in range(0,ylen,2):\n",
    "                        first = wtMat[j,k,c,i]\n",
    "                        if j+1 < xlen:\n",
    "                            second = wtMat[j+1,k,c,i]\n",
    "                        else:\n",
    "                            second = 0\n",
    "                        if k+1 < xlen:\n",
    "                            third = wtMat[j,k+1,c,i]\n",
    "                        else:\n",
    "                            third = 0\n",
    "                        if j+1 < xlen and k+1 < ylen:\n",
    "                            forth = wtMat[j+1,k+1,c,i]\n",
    "                        else:\n",
    "                            forth = 0\n",
    "                        total = 0.0\n",
    "                        total = float(first + second + third + forth)\n",
    "                        total /= 4\n",
    "                        wtMat[j,k,c,i] = total\n",
    "                        if j+1 < xlen:\n",
    "                            wtMat[j+1,k,c,i] = total\n",
    "                        if k+1 < xlen:\n",
    "                            wtMat[j,k+1,c,i] = total\n",
    "                        if j+1 < xlen and k+1 < ylen:\n",
    "                            wtMat[j+1,k+1,c,i] = total\n",
    "                        #if wtMat[j,k,0,i] < 0:\n",
    "                        #    wtMat[j,k,0,i] = 0#float('%.5f'%(w[j,k,0,i]))\n",
    "                        \n",
    "    for wtMat in wtListFc:\n",
    "        shape = wtMat.shape\n",
    "        xlen = shape[0]\n",
    "        ylen = shape[1]\n",
    "        \n",
    "        for i in range(0,xlen):\n",
    "            j=0\n",
    "            while j<ylen:\n",
    "                first = wtMat[i,j] \n",
    "                second = wtMat[i,j+1]\n",
    "                avg = (first+second)/2\n",
    "                wtMat[i,j] = avg\n",
    "                wtMat[i,j+1] = avg\n",
    "                j = j+2\n",
    "            \n",
    "\n",
    "\n",
    "#centroidFilter(w)"
   ]
  },
  {
   "cell_type": "code",
   "execution_count": 137,
   "metadata": {},
   "outputs": [],
   "source": [
    "def truncateGeneral(wtListConv,wtListFc, digits):\n",
    "    import math\n",
    "    num = len(wtListConv)\n",
    "    \n",
    "    \n",
    "    for wtMat in wtListConv:\n",
    "        shape = wtMat.shape\n",
    "        xlen = shape[0]\n",
    "        ylen = shape[1]\n",
    "        numChnls = shape[2]\n",
    "        numFilters = shape[3]\n",
    "\n",
    "        for c in range(0,numChnls):\n",
    "            for i in range(0,numFilters):\n",
    "                for j in range(0,xlen):\n",
    "                    for k in range(0,ylen):\n",
    "                        stepper = pow(10.0, digits)\n",
    "                        #wtMat[j,k,c,i] = float('%.5f'%(wtMat[j,k,c,i]))\n",
    "                        wtMat[j,k,c,i] = math.trunc(stepper*wtMat[j,k,c,i]) / stepper\n",
    "                        \n",
    "                        \n",
    "    for wtMat in wtListFc:\n",
    "        shape = wtMat.shape\n",
    "        xlen = shape[0]\n",
    "        ylen = shape[1]\n",
    "        \n",
    "        for i in range(0,xlen):\n",
    "            j=0\n",
    "            while j<ylen:\n",
    "                stepper = pow(10.0, digits)\n",
    "                wtMat[i,j]=math.trunc(stepper*wtMat[i,j]) / stepper\n",
    "                j=j+1;"
   ]
  },
  {
   "cell_type": "code",
   "execution_count": null,
   "metadata": {},
   "outputs": [],
   "source": []
  },
  {
   "cell_type": "code",
   "execution_count": null,
   "metadata": {},
   "outputs": [],
   "source": []
  },
  {
   "cell_type": "code",
   "execution_count": null,
   "metadata": {},
   "outputs": [],
   "source": []
  },
  {
   "cell_type": "code",
   "execution_count": null,
   "metadata": {},
   "outputs": [],
   "source": []
  },
  {
   "cell_type": "code",
   "execution_count": null,
   "metadata": {},
   "outputs": [],
   "source": []
  },
  {
   "cell_type": "code",
   "execution_count": 88,
   "metadata": {},
   "outputs": [],
   "source": [
    "#truncateGeneral(wConv, wFc, 2)\n",
    "centroidFilter(wConv, wFc)"
   ]
  },
  {
   "cell_type": "code",
   "execution_count": 89,
   "metadata": {},
   "outputs": [
    {
     "data": {
      "text/plain": [
       "[array([[[[ 2.52126232e-02,  2.09816359e-03,  1.36487400e-02,\n",
       "           -3.13469768e-03,  3.81374732e-04, -1.48733146e-04,\n",
       "            1.58889238e-02, -2.32371185e-02, -1.36546604e-02,\n",
       "            1.40061583e-02,  6.34509996e-02, -4.41969596e-02,\n",
       "           -2.39268206e-02, -3.68268602e-02, -7.25534651e-03,\n",
       "           -2.68886797e-05,  1.14515712e-02,  2.40169093e-02,\n",
       "           -1.31620560e-02,  4.75911237e-02,  8.15985352e-03,\n",
       "           -7.18335295e-03, -1.66079029e-04,  1.92057453e-02,\n",
       "            4.54192254e-04,  2.86241062e-02,  3.34073231e-02,\n",
       "           -1.50243063e-02,  2.26011500e-02, -2.03806125e-02,\n",
       "           -1.99306756e-02,  5.92656201e-03,  3.46442126e-03,\n",
       "           -2.21720487e-02, -8.17874726e-03, -8.17336887e-03,\n",
       "           -9.34820622e-04,  2.33419053e-02, -1.17057040e-02,\n",
       "           -4.78530861e-03,  5.26770428e-02,  3.33855227e-02,\n",
       "           -2.10779905e-02,  1.62914097e-02,  9.43550188e-03,\n",
       "            1.74598880e-02,  3.81638622e-03,  1.76553670e-02,\n",
       "            2.11059395e-02,  1.49924243e-02, -2.97101177e-02,\n",
       "           -4.37354110e-02, -3.28491554e-02, -2.77231447e-06,\n",
       "           -9.03536472e-03, -3.71958315e-03, -1.01689277e-02,\n",
       "           -2.16747187e-02,  3.54673415e-02, -3.47422436e-02,\n",
       "           -2.73305252e-02,  3.92677225e-02, -1.42277246e-02,\n",
       "           -2.17660591e-02]],\n",
       " \n",
       "         [[ 2.52126232e-02,  2.09816359e-03,  1.36487400e-02,\n",
       "           -3.13469768e-03,  3.81374732e-04, -1.48733146e-04,\n",
       "            1.58889238e-02, -2.32371185e-02, -1.36546604e-02,\n",
       "            1.40061583e-02,  6.34509996e-02, -4.41969596e-02,\n",
       "           -2.39268206e-02, -3.68268602e-02, -7.25534651e-03,\n",
       "           -2.68886797e-05,  1.14515712e-02,  2.40169093e-02,\n",
       "           -1.31620560e-02,  4.75911237e-02,  8.15985352e-03,\n",
       "           -7.18335295e-03, -1.66079029e-04,  1.92057453e-02,\n",
       "            4.54192254e-04,  2.86241062e-02,  3.34073231e-02,\n",
       "           -1.50243063e-02,  2.26011500e-02, -2.03806125e-02,\n",
       "           -1.99306756e-02,  5.92656201e-03,  3.46442126e-03,\n",
       "           -2.21720487e-02, -8.17874726e-03, -8.17336887e-03,\n",
       "           -9.34820622e-04,  2.33419053e-02, -1.17057040e-02,\n",
       "           -4.78530861e-03,  5.26770428e-02,  3.33855227e-02,\n",
       "           -2.10779905e-02,  1.62914097e-02,  9.43550188e-03,\n",
       "            1.74598880e-02,  3.81638622e-03,  1.76553670e-02,\n",
       "            2.11059395e-02,  1.49924243e-02, -2.97101177e-02,\n",
       "           -4.37354110e-02, -3.28491554e-02, -2.77231447e-06,\n",
       "           -9.03536472e-03, -3.71958315e-03, -1.01689277e-02,\n",
       "           -2.16747187e-02,  3.54673415e-02, -3.47422436e-02,\n",
       "           -2.73305252e-02,  3.92677225e-02, -1.42277246e-02,\n",
       "           -2.17660591e-02]],\n",
       " \n",
       "         [[ 4.37885150e-03,  8.98661092e-03, -1.45266075e-02,\n",
       "            1.88827608e-02,  2.32234299e-02,  6.55929884e-03,\n",
       "            1.88890919e-02, -6.46620244e-03,  9.57125612e-03,\n",
       "           -9.73371975e-03,  6.92560058e-03,  3.11404094e-03,\n",
       "           -3.16621363e-02,  5.70045086e-04,  1.23957712e-02,\n",
       "            2.67229555e-03,  1.61121711e-02, -1.99415591e-02,\n",
       "           -1.42536452e-03, -1.07113104e-02, -1.76520739e-02,\n",
       "            1.83179067e-03, -1.83715411e-02, -4.13474580e-03,\n",
       "            2.69550551e-02,  2.74912789e-02, -2.48902403e-02,\n",
       "            1.22036859e-02,  1.27318539e-02,  7.70998653e-03,\n",
       "            3.51103023e-03,  1.48387291e-02, -1.38277467e-03,\n",
       "           -1.63870156e-02,  6.05413644e-03, -6.63357321e-04,\n",
       "           -1.71183664e-02,  2.16888636e-02, -2.31643254e-03,\n",
       "           -1.68200582e-03,  3.15035251e-03, -1.29744997e-02,\n",
       "           -2.69844662e-02,  2.44698450e-02,  2.18472797e-02,\n",
       "            1.61422845e-02, -1.22880843e-03,  9.79505666e-03,\n",
       "            1.15617737e-03,  1.68335647e-03, -9.20595042e-03,\n",
       "            1.16570443e-02, -5.48723526e-03, -1.90449730e-02,\n",
       "           -6.61491277e-03, -5.22896647e-03, -1.65297929e-02,\n",
       "           -2.91584879e-02, -9.73461475e-03,  1.63076334e-02,\n",
       "           -1.29485922e-02, -2.01475527e-02, -1.10533563e-02,\n",
       "           -2.49732770e-02]]],\n",
       " \n",
       " \n",
       "        [[[ 2.52126232e-02,  2.09816359e-03,  1.36487400e-02,\n",
       "           -3.13469768e-03,  3.81374732e-04, -1.48733146e-04,\n",
       "            1.58889238e-02, -2.32371185e-02, -1.36546604e-02,\n",
       "            1.40061583e-02,  6.34509996e-02, -4.41969596e-02,\n",
       "           -2.39268206e-02, -3.68268602e-02, -7.25534651e-03,\n",
       "           -2.68886797e-05,  1.14515712e-02,  2.40169093e-02,\n",
       "           -1.31620560e-02,  4.75911237e-02,  8.15985352e-03,\n",
       "           -7.18335295e-03, -1.66079029e-04,  1.92057453e-02,\n",
       "            4.54192254e-04,  2.86241062e-02,  3.34073231e-02,\n",
       "           -1.50243063e-02,  2.26011500e-02, -2.03806125e-02,\n",
       "           -1.99306756e-02,  5.92656201e-03,  3.46442126e-03,\n",
       "           -2.21720487e-02, -8.17874726e-03, -8.17336887e-03,\n",
       "           -9.34820622e-04,  2.33419053e-02, -1.17057040e-02,\n",
       "           -4.78530861e-03,  5.26770428e-02,  3.33855227e-02,\n",
       "           -2.10779905e-02,  1.62914097e-02,  9.43550188e-03,\n",
       "            1.74598880e-02,  3.81638622e-03,  1.76553670e-02,\n",
       "            2.11059395e-02,  1.49924243e-02, -2.97101177e-02,\n",
       "           -4.37354110e-02, -3.28491554e-02, -2.77231447e-06,\n",
       "           -9.03536472e-03, -3.71958315e-03, -1.01689277e-02,\n",
       "           -2.16747187e-02,  3.54673415e-02, -3.47422436e-02,\n",
       "           -2.73305252e-02,  3.92677225e-02, -1.42277246e-02,\n",
       "           -2.17660591e-02]],\n",
       " \n",
       "         [[ 2.52126232e-02,  2.09816359e-03,  1.36487400e-02,\n",
       "           -3.13469768e-03,  3.81374732e-04, -1.48733146e-04,\n",
       "            1.58889238e-02, -2.32371185e-02, -1.36546604e-02,\n",
       "            1.40061583e-02,  6.34509996e-02, -4.41969596e-02,\n",
       "           -2.39268206e-02, -3.68268602e-02, -7.25534651e-03,\n",
       "           -2.68886797e-05,  1.14515712e-02,  2.40169093e-02,\n",
       "           -1.31620560e-02,  4.75911237e-02,  8.15985352e-03,\n",
       "           -7.18335295e-03, -1.66079029e-04,  1.92057453e-02,\n",
       "            4.54192254e-04,  2.86241062e-02,  3.34073231e-02,\n",
       "           -1.50243063e-02,  2.26011500e-02, -2.03806125e-02,\n",
       "           -1.99306756e-02,  5.92656201e-03,  3.46442126e-03,\n",
       "           -2.21720487e-02, -8.17874726e-03, -8.17336887e-03,\n",
       "           -9.34820622e-04,  2.33419053e-02, -1.17057040e-02,\n",
       "           -4.78530861e-03,  5.26770428e-02,  3.33855227e-02,\n",
       "           -2.10779905e-02,  1.62914097e-02,  9.43550188e-03,\n",
       "            1.74598880e-02,  3.81638622e-03,  1.76553670e-02,\n",
       "            2.11059395e-02,  1.49924243e-02, -2.97101177e-02,\n",
       "           -4.37354110e-02, -3.28491554e-02, -2.77231447e-06,\n",
       "           -9.03536472e-03, -3.71958315e-03, -1.01689277e-02,\n",
       "           -2.16747187e-02,  3.54673415e-02, -3.47422436e-02,\n",
       "           -2.73305252e-02,  3.92677225e-02, -1.42277246e-02,\n",
       "           -2.17660591e-02]],\n",
       " \n",
       "         [[ 4.37885150e-03,  8.98661092e-03, -1.45266075e-02,\n",
       "            1.88827608e-02,  2.32234299e-02,  6.55929884e-03,\n",
       "            1.88890919e-02, -6.46620244e-03,  9.57125612e-03,\n",
       "           -9.73371975e-03,  6.92560058e-03,  3.11404094e-03,\n",
       "           -3.16621363e-02,  5.70045086e-04,  1.23957712e-02,\n",
       "            2.67229555e-03,  1.61121711e-02, -1.99415591e-02,\n",
       "           -1.42536452e-03, -1.07113104e-02, -1.76520739e-02,\n",
       "            1.83179067e-03, -1.83715411e-02, -4.13474580e-03,\n",
       "            2.69550551e-02,  2.74912789e-02, -2.48902403e-02,\n",
       "            1.22036859e-02,  1.27318539e-02,  7.70998653e-03,\n",
       "            3.51103023e-03,  1.48387291e-02, -1.38277467e-03,\n",
       "           -1.63870156e-02,  6.05413644e-03, -6.63357321e-04,\n",
       "           -1.71183664e-02,  2.16888636e-02, -2.31643254e-03,\n",
       "           -1.68200582e-03,  3.15035251e-03, -1.29744997e-02,\n",
       "           -2.69844662e-02,  2.44698450e-02,  2.18472797e-02,\n",
       "            1.61422845e-02, -1.22880843e-03,  9.79505666e-03,\n",
       "            1.15617737e-03,  1.68335647e-03, -9.20595042e-03,\n",
       "            1.16570443e-02, -5.48723526e-03, -1.90449730e-02,\n",
       "           -6.61491277e-03, -5.22896647e-03, -1.65297929e-02,\n",
       "           -2.91584879e-02, -9.73461475e-03,  1.63076334e-02,\n",
       "           -1.29485922e-02, -2.01475527e-02, -1.10533563e-02,\n",
       "           -2.49732770e-02]]],\n",
       " \n",
       " \n",
       "        [[[ 3.35941650e-03, -7.07977265e-03, -1.83568075e-02,\n",
       "           -1.04172640e-02, -2.31411196e-02, -1.43897627e-02,\n",
       "            1.53544890e-02, -3.07548698e-03, -8.51298962e-03,\n",
       "            2.50212103e-02,  5.43560833e-03, -2.15944797e-02,\n",
       "            2.91353837e-02,  3.51827927e-02, -1.48250572e-02,\n",
       "           -1.12603419e-02,  1.09613473e-02,  3.65932882e-02,\n",
       "           -1.45822465e-02, -1.97182335e-02,  2.66003087e-02,\n",
       "           -1.62680037e-02, -6.30657142e-03,  1.26261101e-03,\n",
       "           -2.30664882e-04, -2.44895257e-02,  2.67355815e-02,\n",
       "            1.78631302e-02,  2.55838223e-03, -1.10085597e-02,\n",
       "           -1.74557045e-03,  9.60631203e-03,  6.79938216e-03,\n",
       "            8.56372435e-03,  6.45097718e-03, -3.42480699e-03,\n",
       "           -4.54452354e-03,  6.88593090e-03,  2.70531252e-02,\n",
       "            1.46486703e-03, -1.84841976e-02, -2.15443317e-03,\n",
       "            1.95717681e-02,  3.18496162e-03,  2.05266196e-02,\n",
       "            6.85822219e-04,  4.46321722e-03,  8.80171731e-03,\n",
       "           -1.30043318e-03, -5.47122955e-03,  4.14496288e-03,\n",
       "           -2.04757769e-02,  1.16859162e-02,  1.26558691e-02,\n",
       "            1.91017613e-02, -3.32313627e-02, -1.26460176e-02,\n",
       "           -7.31708761e-03, -1.35283312e-02,  7.58934300e-03,\n",
       "           -1.57412812e-02,  3.44953593e-03,  1.77549347e-02,\n",
       "           -1.09460261e-02]],\n",
       " \n",
       "         [[ 3.35941650e-03, -7.07977265e-03, -1.83568075e-02,\n",
       "           -1.04172640e-02, -2.31411196e-02, -1.43897627e-02,\n",
       "            1.53544890e-02, -3.07548698e-03, -8.51298962e-03,\n",
       "            2.50212103e-02,  5.43560833e-03, -2.15944797e-02,\n",
       "            2.91353837e-02,  3.51827927e-02, -1.48250572e-02,\n",
       "           -1.12603419e-02,  1.09613473e-02,  3.65932882e-02,\n",
       "           -1.45822465e-02, -1.97182335e-02,  2.66003087e-02,\n",
       "           -1.62680037e-02, -6.30657142e-03,  1.26261101e-03,\n",
       "           -2.30664882e-04, -2.44895257e-02,  2.67355815e-02,\n",
       "            1.78631302e-02,  2.55838223e-03, -1.10085597e-02,\n",
       "           -1.74557045e-03,  9.60631203e-03,  6.79938216e-03,\n",
       "            8.56372435e-03,  6.45097718e-03, -3.42480699e-03,\n",
       "           -4.54452354e-03,  6.88593090e-03,  2.70531252e-02,\n",
       "            1.46486703e-03, -1.84841976e-02, -2.15443317e-03,\n",
       "            1.95717681e-02,  3.18496162e-03,  2.05266196e-02,\n",
       "            6.85822219e-04,  4.46321722e-03,  8.80171731e-03,\n",
       "           -1.30043318e-03, -5.47122955e-03,  4.14496288e-03,\n",
       "           -2.04757769e-02,  1.16859162e-02,  1.26558691e-02,\n",
       "            1.91017613e-02, -3.32313627e-02, -1.26460176e-02,\n",
       "           -7.31708761e-03, -1.35283312e-02,  7.58934300e-03,\n",
       "           -1.57412812e-02,  3.44953593e-03,  1.77549347e-02,\n",
       "           -1.09460261e-02]],\n",
       " \n",
       "         [[-1.41762169e-02, -1.23422919e-02,  2.35285679e-05,\n",
       "            7.53661618e-03, -4.37547732e-03, -8.55871383e-03,\n",
       "           -1.33602759e-02,  1.47234676e-02,  1.36050824e-02,\n",
       "           -1.53625337e-02,  5.74159436e-03,  2.05624383e-02,\n",
       "           -2.93516903e-03,  3.82390316e-03, -1.40743731e-02,\n",
       "            6.42576022e-03, -6.79232506e-03, -8.12762603e-03,\n",
       "           -2.13763751e-02, -1.32325096e-02, -1.47037525e-02,\n",
       "           -1.95566807e-02, -1.73444785e-02,  1.74632464e-02,\n",
       "           -4.07032028e-04,  8.20945017e-03, -2.27983831e-03,\n",
       "            7.93417078e-03, -1.31847411e-02, -7.52568105e-03,\n",
       "            1.23738078e-02,  1.65658258e-02,  1.51037369e-02,\n",
       "            1.04120495e-02, -2.10404908e-03,  1.58420671e-02,\n",
       "           -8.92781001e-03,  1.16760619e-02,  4.39150585e-03,\n",
       "            9.65521485e-03, -9.11055040e-03, -2.29821242e-02,\n",
       "            8.78457562e-04,  5.59198204e-03,  5.17947739e-03,\n",
       "           -7.39225373e-03, -7.94550311e-03,  2.12215399e-03,\n",
       "           -8.64218269e-03,  2.30916007e-03, -6.47125393e-03,\n",
       "            1.32629499e-02, -1.82507024e-03, -1.28245642e-02,\n",
       "            3.14287632e-03,  3.52114928e-03,  1.15990778e-02,\n",
       "            2.48962194e-02, -7.23950937e-03,  1.67932380e-02,\n",
       "            1.63713396e-02, -5.67817362e-03, -1.96403271e-04,\n",
       "            1.15459114e-02]]]], dtype=float32),\n",
       " array([[[[-0.01663813,  0.01878121, -0.00368133, ...,  0.02157869,\n",
       "           -0.01080792, -0.05334177],\n",
       "          [-0.0185453 , -0.01193846, -0.01458099, ...,  0.05313595,\n",
       "            0.000363  ,  0.01803187],\n",
       "          [ 0.02426511,  0.00618762, -0.00242706, ...,  0.00419882,\n",
       "           -0.02852921,  0.03440874],\n",
       "          ...,\n",
       "          [ 0.00169918, -0.02207848, -0.00291387, ..., -0.00517626,\n",
       "           -0.01367003, -0.0231225 ],\n",
       "          [-0.02665599,  0.01695102,  0.02882792, ..., -0.02184451,\n",
       "            0.01407186,  0.0150493 ],\n",
       "          [ 0.00484849,  0.01044967, -0.03317669, ..., -0.00168741,\n",
       "           -0.04845838, -0.01060075]],\n",
       " \n",
       "         [[-0.01663813,  0.01878121, -0.00368133, ...,  0.02157869,\n",
       "           -0.01080792, -0.05334177],\n",
       "          [-0.0185453 , -0.01193846, -0.01458099, ...,  0.05313595,\n",
       "            0.000363  ,  0.01803187],\n",
       "          [ 0.02426511,  0.00618762, -0.00242706, ...,  0.00419882,\n",
       "           -0.02852921,  0.03440874],\n",
       "          ...,\n",
       "          [ 0.00169918, -0.02207848, -0.00291387, ..., -0.00517626,\n",
       "           -0.01367003, -0.0231225 ],\n",
       "          [-0.02665599,  0.01695102,  0.02882792, ..., -0.02184451,\n",
       "            0.01407186,  0.0150493 ],\n",
       "          [ 0.00484849,  0.01044967, -0.03317669, ..., -0.00168741,\n",
       "           -0.04845838, -0.01060075]],\n",
       " \n",
       "         [[-0.02103055, -0.00295098,  0.00850061, ...,  0.01977658,\n",
       "           -0.01230946,  0.00340866],\n",
       "          [-0.02584855, -0.01408586, -0.00681778, ..., -0.01348982,\n",
       "            0.0090193 , -0.00147132],\n",
       "          [-0.00700437,  0.00578841, -0.01674975, ...,  0.02513213,\n",
       "           -0.03651252, -0.01034843],\n",
       "          ...,\n",
       "          [ 0.01137917,  0.0097952 ,  0.01555026, ..., -0.0087917 ,\n",
       "           -0.02025133,  0.00229334],\n",
       "          [-0.00052791, -0.01807845,  0.01092292, ...,  0.00907112,\n",
       "            0.00819923,  0.01036342],\n",
       "          [ 0.00352008,  0.00264558,  0.02705597, ..., -0.00649146,\n",
       "            0.00125693,  0.00251772]]],\n",
       " \n",
       " \n",
       "        [[[-0.01663813,  0.01878121, -0.00368133, ...,  0.02157869,\n",
       "           -0.01080792, -0.05334177],\n",
       "          [-0.0185453 , -0.01193846, -0.01458099, ...,  0.05313595,\n",
       "            0.000363  ,  0.01803187],\n",
       "          [ 0.02426511,  0.00618762, -0.00242706, ...,  0.00419882,\n",
       "           -0.02852921,  0.03440874],\n",
       "          ...,\n",
       "          [ 0.00169918, -0.02207848, -0.00291387, ..., -0.00517626,\n",
       "           -0.01367003, -0.0231225 ],\n",
       "          [-0.02665599,  0.01695102,  0.02882792, ..., -0.02184451,\n",
       "            0.01407186,  0.0150493 ],\n",
       "          [ 0.00484849,  0.01044967, -0.03317669, ..., -0.00168741,\n",
       "           -0.04845838, -0.01060075]],\n",
       " \n",
       "         [[-0.01663813,  0.01878121, -0.00368133, ...,  0.02157869,\n",
       "           -0.01080792, -0.05334177],\n",
       "          [-0.0185453 , -0.01193846, -0.01458099, ...,  0.05313595,\n",
       "            0.000363  ,  0.01803187],\n",
       "          [ 0.02426511,  0.00618762, -0.00242706, ...,  0.00419882,\n",
       "           -0.02852921,  0.03440874],\n",
       "          ...,\n",
       "          [ 0.00169918, -0.02207848, -0.00291387, ..., -0.00517626,\n",
       "           -0.01367003, -0.0231225 ],\n",
       "          [-0.02665599,  0.01695102,  0.02882792, ..., -0.02184451,\n",
       "            0.01407186,  0.0150493 ],\n",
       "          [ 0.00484849,  0.01044967, -0.03317669, ..., -0.00168741,\n",
       "           -0.04845838, -0.01060075]],\n",
       " \n",
       "         [[-0.02103055, -0.00295098,  0.00850061, ...,  0.01977658,\n",
       "           -0.01230946,  0.00340866],\n",
       "          [-0.02584855, -0.01408586, -0.00681778, ..., -0.01348982,\n",
       "            0.0090193 , -0.00147132],\n",
       "          [-0.00700437,  0.00578841, -0.01674975, ...,  0.02513213,\n",
       "           -0.03651252, -0.01034843],\n",
       "          ...,\n",
       "          [ 0.01137917,  0.0097952 ,  0.01555026, ..., -0.0087917 ,\n",
       "           -0.02025133,  0.00229334],\n",
       "          [-0.00052791, -0.01807845,  0.01092292, ...,  0.00907112,\n",
       "            0.00819923,  0.01036342],\n",
       "          [ 0.00352008,  0.00264558,  0.02705597, ..., -0.00649146,\n",
       "            0.00125693,  0.00251772]]],\n",
       " \n",
       " \n",
       "        [[[-0.01139319,  0.01528274, -0.02407969, ..., -0.0308768 ,\n",
       "           -0.01315972,  0.03757033],\n",
       "          [ 0.00219787,  0.00754102,  0.02118707, ...,  0.00767568,\n",
       "           -0.01006795, -0.00436771],\n",
       "          [-0.02099423, -0.0205732 ,  0.01246921, ..., -0.01364814,\n",
       "            0.00669033, -0.01620604],\n",
       "          ...,\n",
       "          [ 0.00115402,  0.00617929,  0.00968464, ...,  0.03593103,\n",
       "           -0.00522492,  0.00200186],\n",
       "          [-0.00406115,  0.00584495,  0.00722581, ..., -0.01289535,\n",
       "           -0.00387141, -0.00214525],\n",
       "          [ 0.01985477, -0.00703881,  0.02683923, ..., -0.01192468,\n",
       "            0.00244192, -0.0407359 ]],\n",
       " \n",
       "         [[-0.01139319,  0.01528274, -0.02407969, ..., -0.0308768 ,\n",
       "           -0.01315972,  0.03757033],\n",
       "          [ 0.00219787,  0.00754102,  0.02118707, ...,  0.00767568,\n",
       "           -0.01006795, -0.00436771],\n",
       "          [-0.02099423, -0.0205732 ,  0.01246921, ..., -0.01364814,\n",
       "            0.00669033, -0.01620604],\n",
       "          ...,\n",
       "          [ 0.00115402,  0.00617929,  0.00968464, ...,  0.03593103,\n",
       "           -0.00522492,  0.00200186],\n",
       "          [-0.00406115,  0.00584495,  0.00722581, ..., -0.01289535,\n",
       "           -0.00387141, -0.00214525],\n",
       "          [ 0.01985477, -0.00703881,  0.02683923, ..., -0.01192468,\n",
       "            0.00244192, -0.0407359 ]],\n",
       " \n",
       "         [[ 0.00262422,  0.0069891 ,  0.00688181, ..., -0.01025419,\n",
       "           -0.01841067, -0.01363833],\n",
       "          [ 0.0160886 , -0.01522662, -0.00254992, ...,  0.0034029 ,\n",
       "            0.01240176,  0.01660128],\n",
       "          [ 0.00577351,  0.00309989, -0.0001568 , ...,  0.00369534,\n",
       "            0.00299938,  0.02315623],\n",
       "          ...,\n",
       "          [ 0.00415964,  0.00755197, -0.01422747, ...,  0.0080465 ,\n",
       "            0.00844181, -0.00360328],\n",
       "          [-0.01578886, -0.01070964,  0.00185773, ...,  0.00790295,\n",
       "            0.00695726,  0.00330037],\n",
       "          [-0.01118225,  0.02338714,  0.00195031, ..., -0.01255888,\n",
       "            0.01502594,  0.00893535]]]], dtype=float32),\n",
       " array([[[[-3.00645530e-02,  1.34801669e-02,  2.37861369e-03, ...,\n",
       "           -2.17459304e-03,  1.39910914e-02,  4.19808589e-02],\n",
       "          [ 4.33143694e-03,  1.77295022e-02,  1.23679079e-03, ...,\n",
       "            3.69485319e-02,  5.62672224e-03,  1.07089058e-03],\n",
       "          [-2.25825496e-02, -2.38211043e-02, -1.88092291e-02, ...,\n",
       "            1.48188621e-02,  1.82614177e-02,  3.72012891e-02],\n",
       "          ...,\n",
       "          [ 2.68272068e-02,  6.08992646e-04,  1.00406008e-02, ...,\n",
       "            3.66475694e-02,  2.75423303e-02, -6.98296865e-03],\n",
       "          [-1.04036490e-02,  1.64980907e-02,  6.30880799e-03, ...,\n",
       "            2.28667818e-03,  1.47392927e-02,  2.75488384e-03],\n",
       "          [ 1.25706354e-02, -1.61413178e-02, -3.37926596e-02, ...,\n",
       "           -4.89288867e-02,  1.89603902e-02, -4.32451349e-03]],\n",
       " \n",
       "         [[-3.00645530e-02,  1.34801669e-02,  2.37861369e-03, ...,\n",
       "           -2.17459304e-03,  1.39910914e-02,  4.19808589e-02],\n",
       "          [ 4.33143694e-03,  1.77295022e-02,  1.23679079e-03, ...,\n",
       "            3.69485319e-02,  5.62672224e-03,  1.07089058e-03],\n",
       "          [-2.25825496e-02, -2.38211043e-02, -1.88092291e-02, ...,\n",
       "            1.48188621e-02,  1.82614177e-02,  3.72012891e-02],\n",
       "          ...,\n",
       "          [ 2.68272068e-02,  6.08992646e-04,  1.00406008e-02, ...,\n",
       "            3.66475694e-02,  2.75423303e-02, -6.98296865e-03],\n",
       "          [-1.04036490e-02,  1.64980907e-02,  6.30880799e-03, ...,\n",
       "            2.28667818e-03,  1.47392927e-02,  2.75488384e-03],\n",
       "          [ 1.25706354e-02, -1.61413178e-02, -3.37926596e-02, ...,\n",
       "           -4.89288867e-02,  1.89603902e-02, -4.32451349e-03]],\n",
       " \n",
       "         [[-1.71145797e-02,  1.68687385e-02,  2.30999868e-02, ...,\n",
       "           -1.68677941e-02,  1.04373693e-02,  1.51871275e-02],\n",
       "          [ 1.60276657e-03,  1.49656720e-02,  1.43740326e-05, ...,\n",
       "            4.12764540e-03, -1.23374807e-02, -3.47745349e-03],\n",
       "          [-2.85360962e-03, -1.14099663e-02,  2.15146374e-02, ...,\n",
       "            1.80120971e-02,  2.08162796e-03,  1.35397995e-02],\n",
       "          ...,\n",
       "          [-9.75828385e-04, -6.14881283e-03,  1.32040689e-02, ...,\n",
       "           -9.56352707e-03,  2.76391692e-02,  1.94367766e-02],\n",
       "          [-2.39602290e-04, -5.87881543e-04, -1.73517177e-03, ...,\n",
       "            4.00355691e-03, -5.17013809e-03, -1.51314912e-02],\n",
       "          [-1.86935090e-03,  1.16613470e-02,  9.29376669e-03, ...,\n",
       "           -6.63131662e-03, -9.96820349e-03, -1.79348281e-04]]],\n",
       " \n",
       " \n",
       "        [[[-3.00645530e-02,  1.34801669e-02,  2.37861369e-03, ...,\n",
       "           -2.17459304e-03,  1.39910914e-02,  4.19808589e-02],\n",
       "          [ 4.33143694e-03,  1.77295022e-02,  1.23679079e-03, ...,\n",
       "            3.69485319e-02,  5.62672224e-03,  1.07089058e-03],\n",
       "          [-2.25825496e-02, -2.38211043e-02, -1.88092291e-02, ...,\n",
       "            1.48188621e-02,  1.82614177e-02,  3.72012891e-02],\n",
       "          ...,\n",
       "          [ 2.68272068e-02,  6.08992646e-04,  1.00406008e-02, ...,\n",
       "            3.66475694e-02,  2.75423303e-02, -6.98296865e-03],\n",
       "          [-1.04036490e-02,  1.64980907e-02,  6.30880799e-03, ...,\n",
       "            2.28667818e-03,  1.47392927e-02,  2.75488384e-03],\n",
       "          [ 1.25706354e-02, -1.61413178e-02, -3.37926596e-02, ...,\n",
       "           -4.89288867e-02,  1.89603902e-02, -4.32451349e-03]],\n",
       " \n",
       "         [[-3.00645530e-02,  1.34801669e-02,  2.37861369e-03, ...,\n",
       "           -2.17459304e-03,  1.39910914e-02,  4.19808589e-02],\n",
       "          [ 4.33143694e-03,  1.77295022e-02,  1.23679079e-03, ...,\n",
       "            3.69485319e-02,  5.62672224e-03,  1.07089058e-03],\n",
       "          [-2.25825496e-02, -2.38211043e-02, -1.88092291e-02, ...,\n",
       "            1.48188621e-02,  1.82614177e-02,  3.72012891e-02],\n",
       "          ...,\n",
       "          [ 2.68272068e-02,  6.08992646e-04,  1.00406008e-02, ...,\n",
       "            3.66475694e-02,  2.75423303e-02, -6.98296865e-03],\n",
       "          [-1.04036490e-02,  1.64980907e-02,  6.30880799e-03, ...,\n",
       "            2.28667818e-03,  1.47392927e-02,  2.75488384e-03],\n",
       "          [ 1.25706354e-02, -1.61413178e-02, -3.37926596e-02, ...,\n",
       "           -4.89288867e-02,  1.89603902e-02, -4.32451349e-03]],\n",
       " \n",
       "         [[-1.71145797e-02,  1.68687385e-02,  2.30999868e-02, ...,\n",
       "           -1.68677941e-02,  1.04373693e-02,  1.51871275e-02],\n",
       "          [ 1.60276657e-03,  1.49656720e-02,  1.43740326e-05, ...,\n",
       "            4.12764540e-03, -1.23374807e-02, -3.47745349e-03],\n",
       "          [-2.85360962e-03, -1.14099663e-02,  2.15146374e-02, ...,\n",
       "            1.80120971e-02,  2.08162796e-03,  1.35397995e-02],\n",
       "          ...,\n",
       "          [-9.75828385e-04, -6.14881283e-03,  1.32040689e-02, ...,\n",
       "           -9.56352707e-03,  2.76391692e-02,  1.94367766e-02],\n",
       "          [-2.39602290e-04, -5.87881543e-04, -1.73517177e-03, ...,\n",
       "            4.00355691e-03, -5.17013809e-03, -1.51314912e-02],\n",
       "          [-1.86935090e-03,  1.16613470e-02,  9.29376669e-03, ...,\n",
       "           -6.63131662e-03, -9.96820349e-03, -1.79348281e-04]]],\n",
       " \n",
       " \n",
       "        [[[ 3.37309167e-02,  1.61319971e-02, -8.46537296e-06, ...,\n",
       "           -1.84100531e-02,  3.50710563e-03,  3.18130888e-02],\n",
       "          [ 1.28442468e-02, -4.16036919e-02, -8.53104889e-03, ...,\n",
       "           -2.11527720e-02,  5.65577205e-03, -5.79317706e-03],\n",
       "          [ 8.03537481e-03, -1.82064506e-03,  1.40253641e-02, ...,\n",
       "           -3.85874063e-02, -1.00920089e-02,  8.69010296e-03],\n",
       "          ...,\n",
       "          [ 2.45970525e-02, -1.14278179e-02, -3.48024219e-02, ...,\n",
       "            3.38926315e-02, -8.59042443e-03,  8.18334892e-03],\n",
       "          [ 6.30832464e-03,  2.61793844e-03, -4.45029698e-03, ...,\n",
       "           -1.23396600e-02, -1.01443827e-02,  2.23976914e-02],\n",
       "          [ 6.64371625e-03,  1.23026427e-02, -4.39398410e-03, ...,\n",
       "           -1.85102224e-04, -3.25351022e-03,  1.06734531e-02]],\n",
       " \n",
       "         [[ 3.37309167e-02,  1.61319971e-02, -8.46537296e-06, ...,\n",
       "           -1.84100531e-02,  3.50710563e-03,  3.18130888e-02],\n",
       "          [ 1.28442468e-02, -4.16036919e-02, -8.53104889e-03, ...,\n",
       "           -2.11527720e-02,  5.65577205e-03, -5.79317706e-03],\n",
       "          [ 8.03537481e-03, -1.82064506e-03,  1.40253641e-02, ...,\n",
       "           -3.85874063e-02, -1.00920089e-02,  8.69010296e-03],\n",
       "          ...,\n",
       "          [ 2.45970525e-02, -1.14278179e-02, -3.48024219e-02, ...,\n",
       "            3.38926315e-02, -8.59042443e-03,  8.18334892e-03],\n",
       "          [ 6.30832464e-03,  2.61793844e-03, -4.45029698e-03, ...,\n",
       "           -1.23396600e-02, -1.01443827e-02,  2.23976914e-02],\n",
       "          [ 6.64371625e-03,  1.23026427e-02, -4.39398410e-03, ...,\n",
       "           -1.85102224e-04, -3.25351022e-03,  1.06734531e-02]],\n",
       " \n",
       "         [[ 3.21510923e-03, -2.27789395e-03,  2.18501291e-03, ...,\n",
       "            1.27670690e-02, -3.38739646e-03,  9.48080886e-03],\n",
       "          [-1.37203024e-03,  1.03196094e-03,  2.36778166e-02, ...,\n",
       "            7.97683839e-03,  5.23984572e-03,  1.65033191e-02],\n",
       "          [ 1.94969568e-02,  4.02383227e-03, -5.34061808e-03, ...,\n",
       "            4.64549847e-03,  1.30760437e-02, -1.18184360e-02],\n",
       "          ...,\n",
       "          [-1.29705314e-02,  4.59411507e-03, -1.11980019e-02, ...,\n",
       "           -4.46416019e-03,  1.66628752e-02, -5.61486976e-03],\n",
       "          [ 5.22948103e-03, -2.61173281e-03, -2.07383819e-02, ...,\n",
       "            5.26711857e-03, -1.07635651e-02,  7.37292273e-03],\n",
       "          [ 3.83992650e-04,  1.32574784e-02,  4.51293355e-03, ...,\n",
       "           -8.02676566e-03,  8.29801522e-03,  1.86930411e-03]]]],\n",
       "       dtype=float32)]"
      ]
     },
     "execution_count": 89,
     "metadata": {},
     "output_type": "execute_result"
    }
   ],
   "source": [
    "wConv"
   ]
  },
  {
   "cell_type": "markdown",
   "metadata": {},
   "source": [
    "## assignFilters"
   ]
  },
  {
   "cell_type": "code",
   "execution_count": 47,
   "metadata": {},
   "outputs": [],
   "source": [
    "def assignFilters(wConv,wFc):\n",
    "    for wIdx in range(0,len(weightsConvMat)):\n",
    "        assign_op = weightsConvMat[wIdx].assign(wConv[wIdx])\n",
    "        session.run(assign_op)\n",
    "        \n",
    "    for wIdx in range(0,len(weightsFcMat)):\n",
    "        assign_op = weightsFcMat[wIdx].assign(wFc[wIdx])\n",
    "        session.run(assign_op)"
   ]
  },
  {
   "cell_type": "code",
   "execution_count": 90,
   "metadata": {},
   "outputs": [],
   "source": [
    "assignFilters(wConv,wFc)"
   ]
  },
  {
   "cell_type": "code",
   "execution_count": 102,
   "metadata": {},
   "outputs": [
    {
     "name": "stdout",
     "output_type": "stream",
     "text": [
      "Extracting MNIST_data/train-images-idx3-ubyte.gz\n",
      "Extracting MNIST_data/train-labels-idx1-ubyte.gz\n",
      "Extracting MNIST_data/t10k-images-idx3-ubyte.gz\n",
      "Extracting MNIST_data/t10k-labels-idx1-ubyte.gz\n"
     ]
    }
   ],
   "source": [
    "#mnist = input_data.read_data_sets(\"MNIST_data/\", reshape=False)"
   ]
  },
  {
   "cell_type": "code",
   "execution_count": 49,
   "metadata": {},
   "outputs": [],
   "source": [
    "def loadValues(numImg):\n",
    "    \n",
    "    feed_dict = {a: imageTest, keep_prob:dropout}\n",
    "    values_conv1 = session.run(layer_conv1, feed_dict=feed_dict)\n",
    "    \n",
    "    values_conv2 = session.run(layer_conv2, feed_dict=feed_dict)\n",
    "    values_conv3 = session.run(layer_conv3, feed_dict = feed_dict)\n",
    "    values_fc1 = session.run(layer_fc1, feed_dict = feed_dict)\n",
    "    values_fc2 = session.run(layer_fc2, feed_dict = feed_dict)\n",
    "    values_fc3 = session.run(layer_fc3, feed_dict = feed_dict)\n",
    "    \n",
    "    valuesConvMat = [values_conv1, values_conv2, values_conv3]\n",
    "    valuesFcMat = [values_fc1, values_fc2, values_fc3]\n",
    "    \n",
    "    return valuesConvMat, valuesFcMat, numImg"
   ]
  },
  {
   "cell_type": "code",
   "execution_count": 125,
   "metadata": {},
   "outputs": [],
   "source": [
    "abc, defg, numImg = loadValues(100)"
   ]
  },
  {
   "cell_type": "code",
   "execution_count": 56,
   "metadata": {},
   "outputs": [
    {
     "name": "stdout",
     "output_type": "stream",
     "text": [
      "Extracting MNIST_data/train-images-idx3-ubyte.gz\n",
      "Extracting MNIST_data/train-labels-idx1-ubyte.gz\n",
      "Extracting MNIST_data/t10k-images-idx3-ubyte.gz\n",
      "Extracting MNIST_data/t10k-labels-idx1-ubyte.gz\n",
      "(100, 28, 28, 1)\n"
     ]
    }
   ],
   "source": [
    "dat = input_data.read_data_sets(\"MNIST_data/\", reshape=False)\n",
    "imageTest = dat.train.images[0:100]\n",
    "print(imageTest.shape)"
   ]
  },
  {
   "cell_type": "code",
   "execution_count": 58,
   "metadata": {},
   "outputs": [],
   "source": [
    "def calculateConvME(valuesMat):\n",
    "    shape = valuesMat.shape\n",
    "    valMat = valuesMat\n",
    "    numFilters = shape[3]\n",
    "   ## print(\"we are in the calculateConvME function\")\n",
    "   ## print(valMat)\n",
    "    means = np.zeros(numFilters)\n",
    "    meanSum = np.zeros(numFilters)\n",
    "    print(\"the number of filters are\")\n",
    "    print(numFilters)\n",
    "    for nImg in range(0,numImg):\n",
    "        meanSum = meanSum + means\n",
    "        for i in range(0,numFilters):\n",
    "            result = valMat[nImg,:,:,i]\n",
    "            result_sum = np.sum(result)\n",
    "            means[i] = result_sum\n",
    "\n",
    "    average = [x / numImg for x in meanSum]\n",
    "    averageSorted = np.sort(average)\n",
    "    return average, averageSorted"
   ]
  },
  {
   "cell_type": "code",
   "execution_count": 51,
   "metadata": {},
   "outputs": [],
   "source": [
    "def calculateFCME(valuesMat):\n",
    "    shape = valuesMat.shape\n",
    "    valMat = valuesMat\n",
    "    numFilters = shape[1]\n",
    "    ##print(\"we are in the fully connected layer function\")\n",
    "    ##print(valMat)\n",
    "    means = np.zeros(numFilters)\n",
    "    meanSum = np.zeros(numFilters)\n",
    "\n",
    "    for nImg in range(0,numImg):\n",
    "        meanSum = meanSum + means\n",
    "        for i in range(0,numFilters):\n",
    "            result = valMat[nImg,i]\n",
    "            result_sum = np.sum(result)\n",
    "            means[i] = result_sum\n",
    "\n",
    "    average = [x / numImg for x in meanSum]\n",
    "    averageSorted = np.sort(average)\n",
    "    return average, averageSorted"
   ]
  },
  {
   "cell_type": "code",
   "execution_count": 52,
   "metadata": {},
   "outputs": [],
   "source": [
    "def plotMEConvolution(ME1, ME2, ME3):\n",
    "    x1 = np.arange(len(ME1))\n",
    "    x2 = np.arange(len(ME2))\n",
    "    x3 = np.arange(len(ME3))\n",
    "    \n",
    "    plt.bar(x1, ME1, color = 'b', align = 'center')\n",
    "    d1=  len(ME1) + 1\n",
    "    plt.bar(x2+d1, ME2, color = 'g', align = 'center')\n",
    "    d2 = d1 + len(ME2) + 1\n",
    "    #location = x2 + len(ME1) \n",
    "    plt.bar(x3+d2, ME3, color = 'r', align = 'center')"
   ]
  },
  {
   "cell_type": "code",
   "execution_count": 53,
   "metadata": {},
   "outputs": [],
   "source": [
    "def plotMEFullyConnected(ME1, ME2, ME3):\n",
    "    x1 = np.arange(len(ME1))\n",
    "    x2 = np.arange(len(ME2))\n",
    "    x3 = np.arange(len(ME3))\n",
    "    \n",
    "    plt.bar(x1, ME1, color = 'b', align = 'center')\n",
    "    d1=  len(ME1) + 1\n",
    "    plt.bar(x2+d1, ME2, color = 'g', align = 'center')\n",
    "    d2 = d1 + len(ME2) + 1\n",
    "    #location = x2 + len(ME1) \n",
    "    plt.bar(x3+d2, ME3, color = 'r', align = 'center')"
   ]
  },
  {
   "cell_type": "markdown",
   "metadata": {},
   "source": [
    "## subtracting the two filters"
   ]
  },
  {
   "cell_type": "code",
   "execution_count": 91,
   "metadata": {},
   "outputs": [],
   "source": [
    "for i in range(len(wConv)):\n",
    "    wDiffConv[i] = np.absolute(wOrigConv[i] - wConv[i])\n",
    "for i in range(len(wFc)):\n",
    "#print(wOrigFc[1].shape)\n",
    "    wDiffFc[i] = np.absolute(wOrigFc[i] - wFc[i])"
   ]
  },
  {
   "cell_type": "code",
   "execution_count": 71,
   "metadata": {},
   "outputs": [],
   "source": [
    "def calculateDynamicDiff(wConv, wFc, wOrigConv, wOrigFc):\n",
    "    wConvSorted = [] + wConv\n",
    "    wConvOrigSorted = [] + wOrigConv\n",
    "    wFcSorted = [] + wFc\n",
    "    wFcOrigSorted = [] + wOrigFc\n",
    "    for i in range(len(wConv)):\n",
    "        wConvSorted[i] = np.sort(wConv[i])\n",
    "        wConvOrigSorted[i] = np.sort(wOrigConv[i])\n",
    "    for i in range(len(wFc)):\n",
    "        wFcSorted[i] = np.sort(wFc[i])\n",
    "        wFcOrigSorted[i] = np.sort(wOrigFc[i])\n",
    "   # wConvSorted= np.sort(wConv)\n",
    "    #wFcSorted = np.sort(wFc)\n",
    "    #wConvOrigSorted = np.sort(wOrigConv)\n",
    "    #wFcOrigSorted = np.sort(wOrigFc)\n",
    "    for i in range(len(wConv)):\n",
    "        wDiffConv[i] = np.absolute( wConvOrigSorted[i] - wConvSorted[i])\n",
    "    \n",
    "    for i in range(len(wFc)):\n",
    "        wDiffFc[i] = np.absolute( wFcOrigSorted[i] - wFcSorted[i])"
   ]
  },
  {
   "cell_type": "code",
   "execution_count": 72,
   "metadata": {},
   "outputs": [],
   "source": [
    "calculateDynamicDiff(wConv, wFc, wOrigConv, wOrigFc)"
   ]
  },
  {
   "cell_type": "code",
   "execution_count": null,
   "metadata": {},
   "outputs": [],
   "source": []
  },
  {
   "cell_type": "code",
   "execution_count": null,
   "metadata": {},
   "outputs": [],
   "source": []
  },
  {
   "cell_type": "code",
   "execution_count": null,
   "metadata": {},
   "outputs": [],
   "source": []
  },
  {
   "cell_type": "code",
   "execution_count": 92,
   "metadata": {},
   "outputs": [
    {
     "name": "stdout",
     "output_type": "stream",
     "text": [
      "the number of filters are\n",
      "64\n",
      "the number of filters are\n",
      "128\n",
      "the number of filters are\n",
      "256\n"
     ]
    }
   ],
   "source": [
    "assignFilters(wConv,wOrigFc)\n",
    "\n",
    "#------ this assign_op is only for assigning the first conv and first fc layer ------#\n",
    "\n",
    "assign_op = weightsFcMat[0].assign(wDiffFc[0])\n",
    "session.run(assign_op)\n",
    "assign_op = weightsConvMat[0].assign(wDiffConv[0])\n",
    "session.run(assign_op)\n",
    "\n",
    "valuesConvMat, valuesFcMat, numImg = loadValues(100)\n",
    "\n",
    "MEConv1,MEConv1Sorted = calculateConvME(valuesConvMat[0])\n",
    "\n",
    "MEFullyConnected1, MEFullyConnected1Sorted = calculateFCME(valuesFcMat[0])\n",
    "#MEFullyConnected2Sorted = calculateFCMEDynamic(valuesFcMat[1])\n",
    "assignFilters(wConv,wOrigFc)\n",
    "assign_op = weightsConvMat[1].assign(wDiffConv[1])\n",
    "session.run(assign_op)\n",
    "assign_op = weightsFcMat[1].assign(wDiffFc[1])\n",
    "session.run(assign_op)\n",
    "valuesConvMat,valuesFcMat,numImg = loadValues(100)\n",
    "\n",
    "#MEConv2,MEConv2Sorted = calculateConvME(valuesConvMat[1])\n",
    "\n",
    "MEConv2, MEConv2Sorted = calculateConvME(valuesConvMat[1])\n",
    "\n",
    "MEFullyConnected2, MEFullyConnected2Sorted = calculateFCME(valuesFcMat[1])\n",
    "#print(\"This is the ME for the convolution layer\")\n",
    "#print(MEConv2Sorted)\n",
    "\n",
    "assignFilters(wConv,wOrigFc)\n",
    "assign_op = weightsConvMat[2].assign(wDiffConv[2])\n",
    "session.run(assign_op)\n",
    "assign_op = weightsFcMat[2].assign(wDiffFc[2])\n",
    "session.run(assign_op)\n",
    "valuesConvMat,valuesFcMat,numImg = loadValues(100)\n",
    "\n",
    "\n",
    "MEConv3, MEConv3Sorted = calculateConvME(valuesConvMat[2])\n",
    "MEFullyConnected3, MEFullyConnected3Sorted = calculateFCME(valuesFcMat[2])\n",
    "\n",
    "\n",
    "MEConvMat = [MEConv1Sorted, MEConv2Sorted, MEConv3Sorted]\n",
    "#print(MEConv1Sorted)\n",
    "MEFullyConnectedMat = [MEFullyConnected1Sorted, MEFullyConnected2Sorted, MEFullyConnected3Sorted]\n",
    "#print(MEConv2Sorted)\n",
    "#print(\"the ME of Conv2 from the static approximation is\")\n",
    "#print(MEConv2Sorted)"
   ]
  },
  {
   "cell_type": "code",
   "execution_count": 93,
   "metadata": {},
   "outputs": [
    {
     "data": {
      "image/png": "[encoded data removed]",
      "text/plain": [
       "<Figure size 432x288 with 1 Axes>"
      ]
     },
     "metadata": {
      "needs_background": "light"
     },
     "output_type": "display_data"
    }
   ],
   "source": [
    "plotMEConvolution(MEConvMat[0], MEConvMat[1], MEConvMat[2])"
   ]
  },
  {
   "cell_type": "code",
   "execution_count": 94,
   "metadata": {},
   "outputs": [
    {
     "data": {
      "image/png": "[encoded data removed]",
      "text/plain": [
       "<Figure size 432x288 with 1 Axes>"
      ]
     },
     "metadata": {
      "needs_background": "light"
     },
     "output_type": "display_data"
    }
   ],
   "source": [
    "plotMEFullyConnected(MEFullyConnectedMat[0], MEFullyConnectedMat[1], MEFullyConnectedMat[2])"
   ]
  },
  {
   "cell_type": "code",
   "execution_count": 96,
   "metadata": {},
   "outputs": [
    {
     "name": "stdout",
     "output_type": "stream",
     "text": [
      "[56.22157299 56.22157368 61.72141022 61.72141037 62.96027309 62.96027328\n",
      " 65.23339203 65.23339256 67.35180061 67.35180088]\n"
     ]
    }
   ],
   "source": [
    "print(MEFullyConnectedMat[2])"
   ]
  },
  {
   "cell_type": "code",
   "execution_count": null,
   "metadata": {},
   "outputs": [],
   "source": []
  }
 ],
 "metadata": {
  "kernelspec": {
   "display_name": "cnn",
   "language": "python",
   "name": "cnn"
  },
  "language_info": {
   "codemirror_mode": {
    "name": "ipython",
    "version": 3
   },
   "file_extension": ".py",
   "mimetype": "text/x-python",
   "name": "python",
   "nbconvert_exporter": "python",
   "pygments_lexer": "ipython3",
   "version": "3.7.0"
  }
 },
 "nbformat": 4,
 "nbformat_minor": 2
}
