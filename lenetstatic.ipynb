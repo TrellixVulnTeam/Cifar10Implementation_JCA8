{
 "cells": [
  {
   "cell_type": "code",
   "execution_count": 531,
   "metadata": {},
   "outputs": [
    {
     "name": "stdout",
     "output_type": "stream",
     "text": [
      "Extracting MNIST_data/train-images-idx3-ubyte.gz\n",
      "Extracting MNIST_data/train-labels-idx1-ubyte.gz\n",
      "Extracting MNIST_data/t10k-images-idx3-ubyte.gz\n",
      "Extracting MNIST_data/t10k-labels-idx1-ubyte.gz\n",
      "\n",
      "Image Shape: (28, 28, 1)\n",
      "\n",
      "Training Set:   55000 samples\n",
      "Validation Set: 5000 samples\n",
      "Test Set:       10000 samples\n"
     ]
    }
   ],
   "source": [
    "from tensorflow.examples.tutorials.mnist import input_data\n",
    "\n",
    "mnist = input_data.read_data_sets(\"MNIST_data/\", reshape=False)\n",
    "X_train, y_train           = mnist.train.images, mnist.train.labels\n",
    "X_validation, y_validation = mnist.validation.images, mnist.validation.labels\n",
    "X_test, y_test             = mnist.test.images, mnist.test.labels\n",
    "\n",
    "assert(len(X_train) == len(y_train))\n",
    "assert(len(X_validation) == len(y_validation))\n",
    "assert(len(X_test) == len(y_test))\n",
    "\n",
    "print()\n",
    "print(\"Image Shape: {}\".format(X_train[0].shape))\n",
    "print()\n",
    "print(\"Training Set:   {} samples\".format(len(X_train)))\n",
    "print(\"Validation Set: {} samples\".format(len(X_validation)))\n",
    "print(\"Test Set:       {} samples\".format(len(X_test)))"
   ]
  },
  {
   "cell_type": "code",
   "execution_count": 532,
   "metadata": {},
   "outputs": [
    {
     "name": "stdout",
     "output_type": "stream",
     "text": [
      "Updated Image Shape: (32, 32, 1)\n"
     ]
    }
   ],
   "source": [
    "import numpy as np\n",
    "\n",
    "# Pad images with 0s\n",
    "X_train      = np.pad(X_train, ((0,0),(2,2),(2,2),(0,0)), 'constant')\n",
    "X_validation = np.pad(X_validation, ((0,0),(2,2),(2,2),(0,0)), 'constant')\n",
    "X_test       = np.pad(X_test, ((0,0),(2,2),(2,2),(0,0)), 'constant')\n",
    "    \n",
    "print(\"Updated Image Shape: {}\".format(X_train[0].shape))"
   ]
  },
  {
   "cell_type": "code",
   "execution_count": 533,
   "metadata": {},
   "outputs": [
    {
     "name": "stdout",
     "output_type": "stream",
     "text": [
      "6\n"
     ]
    },
    {
     "data": {
      "image/png": "[encoded data removed]",
      "text/plain": [
       "<Figure size 72x72 with 1 Axes>"
      ]
     },
     "metadata": {
      "needs_background": "light"
     },
     "output_type": "display_data"
    }
   ],
   "source": [
    "import random\n",
    "import numpy as np\n",
    "import matplotlib.pyplot as plt\n",
    "%matplotlib inline\n",
    "\n",
    "index = random.randint(0, len(X_train))\n",
    "image = X_train[index].squeeze()\n",
    "\n",
    "plt.figure(figsize=(1,1))\n",
    "plt.imshow(image, cmap=\"gray\")\n",
    "print(y_train[index])"
   ]
  },
  {
   "cell_type": "code",
   "execution_count": 534,
   "metadata": {},
   "outputs": [],
   "source": [
    "from sklearn.utils import shuffle\n",
    "\n",
    "X_train, y_train = shuffle(X_train, y_train)"
   ]
  },
  {
   "cell_type": "code",
   "execution_count": 535,
   "metadata": {},
   "outputs": [],
   "source": [
    "import tensorflow as tf\n",
    "\n",
    "EPOCHS = 10\n",
    "BATCH_SIZE = 128"
   ]
  },
  {
   "cell_type": "code",
   "execution_count": 536,
   "metadata": {},
   "outputs": [
    {
     "name": "stdout",
     "output_type": "stream",
     "text": [
      "Trying to restore last checkpoint ...\n",
      "Failed to restore checkpoint. Initializing variables instead.\n"
     ]
    }
   ],
   "source": [
    "import os\n",
    "session = tf.Session()\n",
    "saver = tf.train.Saver()\n",
    "save_dir = 'checkpoints_lenetMinst/'\n",
    "if not os.path.exists(save_dir):\n",
    "    os.makedirs(save_dir)\n",
    "save_path = os.path.join(save_dir, 'best_validation')\n",
    "#session.run(tf.global_variables_initializer())\n",
    "init = tf.global_variables_initializer()\n",
    "session.run(init)\n",
    "try:\n",
    "    print(\"Trying to restore last checkpoint ...\")\n",
    "\n",
    "    # Use TensorFlow to find the latest checkpoint - if any.\n",
    "    last_chk_path = tf.train.latest_checkpoint(checkpoint_dir=save_dir)\n",
    "\n",
    "    # Try and load the data in the checkpoint.\n",
    "    saver.restore(session, save_path=last_chk_path)\n",
    "\n",
    "    # If we get to this point, the checkpoint was successfully loaded.\n",
    "    print(\"Restored checkpoint from:\", last_chk_path)\n",
    "except:\n",
    "    # If the above failed for some reason, simply\n",
    "    # initialize all the variables for the TensorFlow graph.\n",
    "    print(\"Failed to restore checkpoint. Initializing variables instead.\")\n",
    "    session.run(tf.global_variables_initializer())\n",
    "\n"
   ]
  },
  {
   "cell_type": "code",
   "execution_count": 537,
   "metadata": {},
   "outputs": [],
   "source": [
    "sigma = 0.1\n",
    "conv1_w = tf.Variable(tf.truncated_normal(shape = [5,5,1,6],mean = 0, stddev = 0.1))\n",
    "conv2_w = tf.Variable(tf.truncated_normal(shape = [5,5,6,16], mean = 0, stddev = 0.1))\n",
    "fc1_w = tf.Variable(tf.truncated_normal(shape = (400,120), mean = 0, stddev = sigma))\n",
    "fc2_w = tf.Variable(tf.truncated_normal(shape = (120,84), mean = 0, stddev = sigma))\n",
    "fc3_w = tf.Variable(tf.truncated_normal(shape = (84,10), mean = 0 , stddev = sigma))\n",
    "\n",
    "session.run(tf.global_variables_initializer())\n"
   ]
  },
  {
   "cell_type": "code",
   "execution_count": 538,
   "metadata": {},
   "outputs": [
    {
     "data": {
      "text/plain": [
       "<tensorflow.python.ops.variables.Variable at 0x342ab6c18>"
      ]
     },
     "execution_count": 538,
     "metadata": {},
     "output_type": "execute_result"
    }
   ],
   "source": [
    "conv2_w"
   ]
  },
  {
   "cell_type": "code",
   "execution_count": 539,
   "metadata": {},
   "outputs": [],
   "source": [
    "def restoreWeights():\n",
    "    for wIdx in range(0, len(weightsConvMat)):\n",
    "        assign_op = weightsConvMat[wIdx].assign(wOrigConv[wIdx])\n",
    "        session.run(assign_op)\n",
    "    \n",
    "    for wIdx in range(0, len(weightsFcMat)):\n",
    "        assign_op = weightsFcMat[wIdx].assign(wOrigFc[wIdx])\n",
    "        session.run(assign_op)"
   ]
  },
  {
   "cell_type": "code",
   "execution_count": 592,
   "metadata": {},
   "outputs": [],
   "source": [
    "restoreWeights()"
   ]
  },
  {
   "cell_type": "markdown",
   "metadata": {},
   "source": [
    "## store the original weights"
   ]
  },
  {
   "cell_type": "code",
   "execution_count": 593,
   "metadata": {},
   "outputs": [],
   "source": [
    "wConvOrig1 = session.run(conv1_w)\n",
    "wConvOrig2 = session.run(conv2_w)\n",
    "wFcOrig1 = session.run(fc1_w)\n",
    "wFcOrig2 = session.run(fc2_w)\n",
    "wFcOrig3 = session.run(fc3_w)"
   ]
  },
  {
   "cell_type": "code",
   "execution_count": 594,
   "metadata": {},
   "outputs": [],
   "source": [
    "wOrigConv = [wConvOrig1, wConvOrig2 ]\n",
    "wOrigFc = [wFcOrig1, wFcOrig2, wFcOrig3]"
   ]
  },
  {
   "cell_type": "code",
   "execution_count": 595,
   "metadata": {},
   "outputs": [],
   "source": [
    "from tensorflow.contrib.layers import flatten\n",
    "\n",
    "def LeNet(x):    \n",
    "    # Hyperparameters\n",
    "    mu = 0\n",
    "    sigma = 0.1\n",
    "    layer_depth = {\n",
    "        'layer_1' : 6,\n",
    "        'layer_2' : 16,\n",
    "        'layer_3' : 120,\n",
    "        'layer_f1' : 84\n",
    "    }\n",
    "\n",
    "    \n",
    "    # TODO: Layer 1: Convolutional. Input = 32x32x1. Output = 28x28x6.\n",
    "    \n",
    "    conv1_b = tf.Variable(tf.zeros(6))\n",
    "    conv1 = tf.nn.conv2d(x,conv1_w, strides = [1,1,1,1], padding = 'VALID') + conv1_b \n",
    "    # TODO: Activation.\n",
    "    conv1 = tf.nn.relu(conv1)\n",
    "\n",
    "    # TODO: Pooling. Input = 28x28x6. Output = 14x14x6.\n",
    "    pool_1 = tf.nn.max_pool(conv1,ksize = [1,2,2,1], strides = [1,2,2,1], padding = 'VALID')\n",
    "    \n",
    "    # TODO: Layer 2: Convolutional. Output = 10x10x16.\n",
    "    #conv2_w = tf.Variable(tf.truncated_normal(shape = [5,5,6,16], mean = mu, stddev = sigma))\n",
    "    conv2_b = tf.Variable(tf.zeros(16))\n",
    "    conv2 = tf.nn.conv2d(pool_1, conv2_w, strides = [1,1,1,1], padding = 'VALID') + conv2_b\n",
    "    # TODO: Activation.\n",
    "    conv2 = tf.nn.relu(conv2)\n",
    "\n",
    "    # TODO: Pooling. Input = 10x10x16. Output = 5x5x16.\n",
    "    pool_2 = tf.nn.max_pool(conv2, ksize = [1,2,2,1], strides = [1,2,2,1], padding = 'VALID') \n",
    "    \n",
    "    # TODO: Flatten. Input = 5x5x16. Output = 400.\n",
    "    fc1 = flatten(pool_2)\n",
    "    \n",
    "    # TODO: Layer 3: Fully Connected. Input = 400. Output = 120.\n",
    "    #fc1_w = tf.Variable(tf.truncated_normal(shape = (400,120), mean = mu, stddev = sigma))\n",
    "    fc1_b = tf.Variable(tf.zeros(120))\n",
    "    fc1 = tf.matmul(fc1,fc1_w) + fc1_b\n",
    "    \n",
    "    # TODO: Activation.\n",
    "    fc1 = tf.nn.relu(fc1)\n",
    "\n",
    "    # TODO: Layer 4: Fully Connected. Input = 120. Output = 84.\n",
    "    #fc2_w = tf.Variable(tf.truncated_normal(shape = (120,84), mean = mu, stddev = sigma))\n",
    "    fc2_b = tf.Variable(tf.zeros(84))\n",
    "    fc2 = tf.matmul(fc1,fc2_w) + fc2_b\n",
    "    # TODO: Activation.\n",
    "    fc2 = tf.nn.relu(fc2)\n",
    "    \n",
    "    # TODO: Layer 5: Fully Connected. Input = 84. Output = 10.\n",
    "    #fc3_w = tf.Variable(tf.truncated_normal(shape = (84,10), mean = mu , stddev = sigma))\n",
    "    fc3_b = tf.Variable(tf.zeros(10))\n",
    "    logits = tf.matmul(fc2, fc3_w) + fc3_b\n",
    "    return logits, conv1, conv2, fc1, fc2"
   ]
  },
  {
   "cell_type": "code",
   "execution_count": 596,
   "metadata": {},
   "outputs": [],
   "source": [
    "a = tf.placeholder(tf.float32, (100,32,32,1))\n",
    "x_image = tf.reshape(a, [-1, 32, 32, 1])\n",
    "\n",
    "x = tf.placeholder(tf.float32, (None, 32, 32, 1))\n",
    "y = tf.placeholder(tf.int32, (None))\n",
    "one_hot_y = tf.one_hot(y, 10)"
   ]
  },
  {
   "cell_type": "code",
   "execution_count": 597,
   "metadata": {},
   "outputs": [
    {
     "name": "stdout",
     "output_type": "stream",
     "text": [
      "Tensor(\"Variable_300/read:0\", shape=(5, 5, 6, 16), dtype=float32)\n"
     ]
    }
   ],
   "source": [
    "rate = 0.001\n",
    "\n",
    "logits, conv1, conv2, fc1, fc2= LeNet(x_image)\n",
    "\n",
    "cross_entropy = tf.nn.softmax_cross_entropy_with_logits(logits, one_hot_y)\n",
    "loss_operation = tf.reduce_mean(cross_entropy)\n",
    "optimizer = tf.train.AdamOptimizer(learning_rate = rate)\n",
    "training_operation = optimizer.minimize(loss_operation)\n",
    "\n",
    "\n",
    "print(conv2_w)"
   ]
  },
  {
   "cell_type": "code",
   "execution_count": null,
   "metadata": {},
   "outputs": [],
   "source": []
  },
  {
   "cell_type": "markdown",
   "metadata": {},
   "source": [
    "## weightsConvMat and weightsFcMat"
   ]
  },
  {
   "cell_type": "code",
   "execution_count": 598,
   "metadata": {},
   "outputs": [],
   "source": [
    "weightsConvMat = [conv1_w, conv2_w]\n",
    "weightsFcMat = [fc1_w, fc2_w, fc3_w]\n",
    "\n",
    "\n",
    "wConv1 = session.run(conv1_w)\n",
    "wConv2 = session.run(conv2_w)\n",
    "wFc1 = session.run(fc1_w)\n",
    "wFc2 = session.run(fc2_w)\n",
    "wFc3 = session.run(fc3_w)\n",
    "\n",
    "wConv = [wConv1, wConv2]\n",
    "wFc = [wFc1, wFc2, wFc3]\n",
    "session.run(tf.global_variables_initializer())\n"
   ]
  },
  {
   "cell_type": "code",
   "execution_count": 126,
   "metadata": {},
   "outputs": [],
   "source": [
    "correct_prediction = tf.equal(tf.argmax(logits, 1), tf.argmax(one_hot_y, 1))\n",
    "accuracy_operation = tf.reduce_mean(tf.cast(correct_prediction, tf.float32))\n",
    "saver = tf.train.Saver()\n",
    "\n",
    "def evaluate(X_data, y_data):\n",
    "    num_examples = len(X_data)\n",
    "    total_accuracy = 0\n",
    "    sess = tf.get_default_session()\n",
    "    for offset in range(0, num_examples, BATCH_SIZE):\n",
    "        batch_x, batch_y = X_data[offset:offset+BATCH_SIZE], y_data[offset:offset+BATCH_SIZE]\n",
    "        accuracy = sess.run(accuracy_operation, feed_dict={x: batch_x, y: batch_y})\n",
    "        print(accuracy)\n",
    "        total_accuracy += (accuracy * len(batch_x))\n",
    "    return total_accuracy / num_examples"
   ]
  },
  {
   "cell_type": "code",
   "execution_count": null,
   "metadata": {},
   "outputs": [],
   "source": []
  },
  {
   "cell_type": "code",
   "execution_count": 19,
   "metadata": {},
   "outputs": [
    {
     "name": "stdout",
     "output_type": "stream",
     "text": [
      "Training...\n",
      "\n",
      "EPOCH 1 ...\n",
      "Validation Accuracy = 0.966\n",
      "\n",
      "EPOCH 2 ...\n",
      "Validation Accuracy = 0.979\n",
      "\n",
      "EPOCH 3 ...\n",
      "Validation Accuracy = 0.984\n",
      "\n",
      "EPOCH 4 ...\n",
      "Validation Accuracy = 0.986\n",
      "\n",
      "EPOCH 5 ...\n",
      "Validation Accuracy = 0.983\n",
      "\n",
      "EPOCH 6 ...\n",
      "Validation Accuracy = 0.986\n",
      "\n",
      "EPOCH 7 ...\n",
      "Validation Accuracy = 0.987\n",
      "\n",
      "EPOCH 8 ...\n",
      "Validation Accuracy = 0.987\n",
      "\n",
      "EPOCH 9 ...\n",
      "Validation Accuracy = 0.989\n",
      "\n",
      "EPOCH 10 ...\n",
      "Validation Accuracy = 0.986\n",
      "\n",
      "Model saved\n"
     ]
    }
   ],
   "source": [
    "with tf.Session() as sess:\n",
    "    sess.run(tf.global_variables_initializer())\n",
    "    num_examples = len(X_train)\n",
    "    \n",
    "    print(\"Training...\")\n",
    "    print()\n",
    "    for i in range(EPOCHS):\n",
    "        X_train, y_train = shuffle(X_train, y_train)\n",
    "        for offset in range(0, num_examples, BATCH_SIZE):\n",
    "            end = offset + BATCH_SIZE\n",
    "            batch_x, batch_y = X_train[offset:end], y_train[offset:end]\n",
    "            sess.run(training_operation, feed_dict={x: batch_x, y: batch_y})\n",
    "            \n",
    "        validation_accuracy = evaluate(X_validation, y_validation)\n",
    "        print(\"EPOCH {} ...\".format(i+1))\n",
    "        print(\"Validation Accuracy = {:.3f}\".format(validation_accuracy))\n",
    "        print()\n",
    "        \n",
    "    saver.save(sess, 'lenet')\n",
    "    print(\"Model saved\")"
   ]
  },
  {
   "cell_type": "code",
   "execution_count": 127,
   "metadata": {},
   "outputs": [
    {
     "ename": "FailedPreconditionError",
     "evalue": "Attempting to use uninitialized value Variable_102\n\t [[Node: Variable_102/read = Identity[T=DT_FLOAT, _class=[\"loc:@Variable_102\"], _device=\"/job:localhost/replica:0/task:0/cpu:0\"](Variable_102)]]\n\nCaused by op 'Variable_102/read', defined at:\n  File \"/Users/yaminigaur/anaconda3/lib/python3.7/runpy.py\", line 193, in _run_module_as_main\n    \"__main__\", mod_spec)\n  File \"/Users/yaminigaur/anaconda3/lib/python3.7/runpy.py\", line 85, in _run_code\n    exec(code, run_globals)\n  File \"/Users/yaminigaur/anaconda3/lib/python3.7/site-packages/ipykernel_launcher.py\", line 16, in <module>\n    app.launch_new_instance()\n  File \"/Users/yaminigaur/anaconda3/lib/python3.7/site-packages/traitlets/config/application.py\", line 658, in launch_instance\n    app.start()\n  File \"/Users/yaminigaur/anaconda3/lib/python3.7/site-packages/ipykernel/kernelapp.py\", line 497, in start\n    self.io_loop.start()\n  File \"/Users/yaminigaur/anaconda3/lib/python3.7/site-packages/tornado/platform/asyncio.py\", line 132, in start\n    self.asyncio_loop.run_forever()\n  File \"/Users/yaminigaur/anaconda3/lib/python3.7/asyncio/base_events.py\", line 523, in run_forever\n    self._run_once()\n  File \"/Users/yaminigaur/anaconda3/lib/python3.7/asyncio/base_events.py\", line 1758, in _run_once\n    handle._run()\n  File \"/Users/yaminigaur/anaconda3/lib/python3.7/asyncio/events.py\", line 88, in _run\n    self._context.run(self._callback, *self._args)\n  File \"/Users/yaminigaur/anaconda3/lib/python3.7/site-packages/tornado/platform/asyncio.py\", line 122, in _handle_events\n    handler_func(fileobj, events)\n  File \"/Users/yaminigaur/anaconda3/lib/python3.7/site-packages/tornado/stack_context.py\", line 300, in null_wrapper\n    return fn(*args, **kwargs)\n  File \"/Users/yaminigaur/anaconda3/lib/python3.7/site-packages/zmq/eventloop/zmqstream.py\", line 450, in _handle_events\n    self._handle_recv()\n  File \"/Users/yaminigaur/anaconda3/lib/python3.7/site-packages/zmq/eventloop/zmqstream.py\", line 480, in _handle_recv\n    self._run_callback(callback, msg)\n  File \"/Users/yaminigaur/anaconda3/lib/python3.7/site-packages/zmq/eventloop/zmqstream.py\", line 432, in _run_callback\n    callback(*args, **kwargs)\n  File \"/Users/yaminigaur/anaconda3/lib/python3.7/site-packages/tornado/stack_context.py\", line 300, in null_wrapper\n    return fn(*args, **kwargs)\n  File \"/Users/yaminigaur/anaconda3/lib/python3.7/site-packages/ipykernel/kernelbase.py\", line 283, in dispatcher\n    return self.dispatch_shell(stream, msg)\n  File \"/Users/yaminigaur/anaconda3/lib/python3.7/site-packages/ipykernel/kernelbase.py\", line 233, in dispatch_shell\n    handler(stream, idents, msg)\n  File \"/Users/yaminigaur/anaconda3/lib/python3.7/site-packages/ipykernel/kernelbase.py\", line 399, in execute_request\n    user_expressions, allow_stdin)\n  File \"/Users/yaminigaur/anaconda3/lib/python3.7/site-packages/ipykernel/ipkernel.py\", line 208, in do_execute\n    res = shell.run_cell(code, store_history=store_history, silent=silent)\n  File \"/Users/yaminigaur/anaconda3/lib/python3.7/site-packages/ipykernel/zmqshell.py\", line 537, in run_cell\n    return super(ZMQInteractiveShell, self).run_cell(*args, **kwargs)\n  File \"/Users/yaminigaur/anaconda3/lib/python3.7/site-packages/IPython/core/interactiveshell.py\", line 2662, in run_cell\n    raw_cell, store_history, silent, shell_futures)\n  File \"/Users/yaminigaur/anaconda3/lib/python3.7/site-packages/IPython/core/interactiveshell.py\", line 2785, in _run_cell\n    interactivity=interactivity, compiler=compiler, result=result)\n  File \"/Users/yaminigaur/anaconda3/lib/python3.7/site-packages/IPython/core/interactiveshell.py\", line 2901, in run_ast_nodes\n    if self.run_code(code, result):\n  File \"/Users/yaminigaur/anaconda3/lib/python3.7/site-packages/IPython/core/interactiveshell.py\", line 2961, in run_code\n    exec(code_obj, self.user_global_ns, self.user_ns)\n  File \"<ipython-input-59-15f267902d80>\", line 2, in <module>\n    conv1_w = tf.Variable(tf.truncated_normal(shape = [5,5,1,6],mean = 0, stddev = 0.1))\n  File \"/Users/yaminigaur/anaconda3/lib/python3.7/site-packages/tensorflow/python/ops/variables.py\", line 224, in __init__\n    expected_shape=expected_shape)\n  File \"/Users/yaminigaur/anaconda3/lib/python3.7/site-packages/tensorflow/python/ops/variables.py\", line 370, in _init_from_args\n    self._snapshot = array_ops.identity(self._variable, name=\"read\")\n  File \"/Users/yaminigaur/anaconda3/lib/python3.7/site-packages/tensorflow/python/ops/gen_array_ops.py\", line 1424, in identity\n    result = _op_def_lib.apply_op(\"Identity\", input=input, name=name)\n  File \"/Users/yaminigaur/anaconda3/lib/python3.7/site-packages/tensorflow/python/framework/op_def_library.py\", line 759, in apply_op\n    op_def=op_def)\n  File \"/Users/yaminigaur/anaconda3/lib/python3.7/site-packages/tensorflow/python/framework/ops.py\", line 2240, in create_op\n    original_op=self._default_original_op, op_def=op_def)\n  File \"/Users/yaminigaur/anaconda3/lib/python3.7/site-packages/tensorflow/python/framework/ops.py\", line 1128, in __init__\n    self._traceback = _extract_stack()\n\nFailedPreconditionError (see above for traceback): Attempting to use uninitialized value Variable_102\n\t [[Node: Variable_102/read = Identity[T=DT_FLOAT, _class=[\"loc:@Variable_102\"], _device=\"/job:localhost/replica:0/task:0/cpu:0\"](Variable_102)]]\n",
     "output_type": "error",
     "traceback": [
      "\u001b[0;31m---------------------------------------------------------------------------\u001b[0m",
      "\u001b[0;31mFailedPreconditionError\u001b[0m                   Traceback (most recent call last)",
      "\u001b[0;32m~/anaconda3/lib/python3.7/site-packages/tensorflow/python/client/session.py\u001b[0m in \u001b[0;36m_do_call\u001b[0;34m(self, fn, *args)\u001b[0m\n\u001b[1;32m   1020\u001b[0m     \u001b[0;32mtry\u001b[0m\u001b[0;34m:\u001b[0m\u001b[0;34m\u001b[0m\u001b[0m\n\u001b[0;32m-> 1021\u001b[0;31m       \u001b[0;32mreturn\u001b[0m \u001b[0mfn\u001b[0m\u001b[0;34m(\u001b[0m\u001b[0;34m*\u001b[0m\u001b[0margs\u001b[0m\u001b[0;34m)\u001b[0m\u001b[0;34m\u001b[0m\u001b[0m\n\u001b[0m\u001b[1;32m   1022\u001b[0m     \u001b[0;32mexcept\u001b[0m \u001b[0merrors\u001b[0m\u001b[0;34m.\u001b[0m\u001b[0mOpError\u001b[0m \u001b[0;32mas\u001b[0m \u001b[0me\u001b[0m\u001b[0;34m:\u001b[0m\u001b[0;34m\u001b[0m\u001b[0m\n",
      "\u001b[0;32m~/anaconda3/lib/python3.7/site-packages/tensorflow/python/client/session.py\u001b[0m in \u001b[0;36m_run_fn\u001b[0;34m(session, feed_dict, fetch_list, target_list, options, run_metadata)\u001b[0m\n\u001b[1;32m   1002\u001b[0m                                  \u001b[0mfeed_dict\u001b[0m\u001b[0;34m,\u001b[0m \u001b[0mfetch_list\u001b[0m\u001b[0;34m,\u001b[0m \u001b[0mtarget_list\u001b[0m\u001b[0;34m,\u001b[0m\u001b[0;34m\u001b[0m\u001b[0m\n\u001b[0;32m-> 1003\u001b[0;31m                                  status, run_metadata)\n\u001b[0m\u001b[1;32m   1004\u001b[0m \u001b[0;34m\u001b[0m\u001b[0m\n",
      "\u001b[0;32m~/anaconda3/lib/python3.7/contextlib.py\u001b[0m in \u001b[0;36m__exit__\u001b[0;34m(self, type, value, traceback)\u001b[0m\n\u001b[1;32m    118\u001b[0m             \u001b[0;32mtry\u001b[0m\u001b[0;34m:\u001b[0m\u001b[0;34m\u001b[0m\u001b[0m\n\u001b[0;32m--> 119\u001b[0;31m                 \u001b[0mnext\u001b[0m\u001b[0;34m(\u001b[0m\u001b[0mself\u001b[0m\u001b[0;34m.\u001b[0m\u001b[0mgen\u001b[0m\u001b[0;34m)\u001b[0m\u001b[0;34m\u001b[0m\u001b[0m\n\u001b[0m\u001b[1;32m    120\u001b[0m             \u001b[0;32mexcept\u001b[0m \u001b[0mStopIteration\u001b[0m\u001b[0;34m:\u001b[0m\u001b[0;34m\u001b[0m\u001b[0m\n",
      "\u001b[0;32m~/anaconda3/lib/python3.7/site-packages/tensorflow/python/framework/errors_impl.py\u001b[0m in \u001b[0;36mraise_exception_on_not_ok_status\u001b[0;34m()\u001b[0m\n\u001b[1;32m    468\u001b[0m           \u001b[0mcompat\u001b[0m\u001b[0;34m.\u001b[0m\u001b[0mas_text\u001b[0m\u001b[0;34m(\u001b[0m\u001b[0mpywrap_tensorflow\u001b[0m\u001b[0;34m.\u001b[0m\u001b[0mTF_Message\u001b[0m\u001b[0;34m(\u001b[0m\u001b[0mstatus\u001b[0m\u001b[0;34m)\u001b[0m\u001b[0;34m)\u001b[0m\u001b[0;34m,\u001b[0m\u001b[0;34m\u001b[0m\u001b[0m\n\u001b[0;32m--> 469\u001b[0;31m           pywrap_tensorflow.TF_GetCode(status))\n\u001b[0m\u001b[1;32m    470\u001b[0m   \u001b[0;32mfinally\u001b[0m\u001b[0;34m:\u001b[0m\u001b[0;34m\u001b[0m\u001b[0m\n",
      "\u001b[0;31mFailedPreconditionError\u001b[0m: Attempting to use uninitialized value Variable_102\n\t [[Node: Variable_102/read = Identity[T=DT_FLOAT, _class=[\"loc:@Variable_102\"], _device=\"/job:localhost/replica:0/task:0/cpu:0\"](Variable_102)]]",
      "\nDuring handling of the above exception, another exception occurred:\n",
      "\u001b[0;31mFailedPreconditionError\u001b[0m                   Traceback (most recent call last)",
      "\u001b[0;32m<ipython-input-127-636a1c90e10b>\u001b[0m in \u001b[0;36m<module>\u001b[0;34m()\u001b[0m\n\u001b[1;32m      2\u001b[0m     \u001b[0;31m#saver.restore(sess, tf.train.latest_checkpoint('.'))\u001b[0m\u001b[0;34m\u001b[0m\u001b[0;34m\u001b[0m\u001b[0m\n\u001b[1;32m      3\u001b[0m \u001b[0;34m\u001b[0m\u001b[0m\n\u001b[0;32m----> 4\u001b[0;31m     \u001b[0mtest_accuracy\u001b[0m \u001b[0;34m=\u001b[0m \u001b[0mevaluate\u001b[0m\u001b[0;34m(\u001b[0m\u001b[0mX_test\u001b[0m\u001b[0;34m,\u001b[0m \u001b[0my_test\u001b[0m\u001b[0;34m)\u001b[0m\u001b[0;34m\u001b[0m\u001b[0m\n\u001b[0m\u001b[1;32m      5\u001b[0m     \u001b[0mprint\u001b[0m\u001b[0;34m(\u001b[0m\u001b[0;34m\"Test Accuracy = {:.3f}\"\u001b[0m\u001b[0;34m.\u001b[0m\u001b[0mformat\u001b[0m\u001b[0;34m(\u001b[0m\u001b[0mtest_accuracy\u001b[0m\u001b[0;34m)\u001b[0m\u001b[0;34m)\u001b[0m\u001b[0;34m\u001b[0m\u001b[0m\n",
      "\u001b[0;32m<ipython-input-126-cdc6e041cd68>\u001b[0m in \u001b[0;36mevaluate\u001b[0;34m(X_data, y_data)\u001b[0m\n\u001b[1;32m      9\u001b[0m     \u001b[0;32mfor\u001b[0m \u001b[0moffset\u001b[0m \u001b[0;32min\u001b[0m \u001b[0mrange\u001b[0m\u001b[0;34m(\u001b[0m\u001b[0;36m0\u001b[0m\u001b[0;34m,\u001b[0m \u001b[0mnum_examples\u001b[0m\u001b[0;34m,\u001b[0m \u001b[0mBATCH_SIZE\u001b[0m\u001b[0;34m)\u001b[0m\u001b[0;34m:\u001b[0m\u001b[0;34m\u001b[0m\u001b[0m\n\u001b[1;32m     10\u001b[0m         \u001b[0mbatch_x\u001b[0m\u001b[0;34m,\u001b[0m \u001b[0mbatch_y\u001b[0m \u001b[0;34m=\u001b[0m \u001b[0mX_data\u001b[0m\u001b[0;34m[\u001b[0m\u001b[0moffset\u001b[0m\u001b[0;34m:\u001b[0m\u001b[0moffset\u001b[0m\u001b[0;34m+\u001b[0m\u001b[0mBATCH_SIZE\u001b[0m\u001b[0;34m]\u001b[0m\u001b[0;34m,\u001b[0m \u001b[0my_data\u001b[0m\u001b[0;34m[\u001b[0m\u001b[0moffset\u001b[0m\u001b[0;34m:\u001b[0m\u001b[0moffset\u001b[0m\u001b[0;34m+\u001b[0m\u001b[0mBATCH_SIZE\u001b[0m\u001b[0;34m]\u001b[0m\u001b[0;34m\u001b[0m\u001b[0m\n\u001b[0;32m---> 11\u001b[0;31m         \u001b[0maccuracy\u001b[0m \u001b[0;34m=\u001b[0m \u001b[0msess\u001b[0m\u001b[0;34m.\u001b[0m\u001b[0mrun\u001b[0m\u001b[0;34m(\u001b[0m\u001b[0maccuracy_operation\u001b[0m\u001b[0;34m,\u001b[0m \u001b[0mfeed_dict\u001b[0m\u001b[0;34m=\u001b[0m\u001b[0;34m{\u001b[0m\u001b[0mx\u001b[0m\u001b[0;34m:\u001b[0m \u001b[0mbatch_x\u001b[0m\u001b[0;34m,\u001b[0m \u001b[0my\u001b[0m\u001b[0;34m:\u001b[0m \u001b[0mbatch_y\u001b[0m\u001b[0;34m}\u001b[0m\u001b[0;34m)\u001b[0m\u001b[0;34m\u001b[0m\u001b[0m\n\u001b[0m\u001b[1;32m     12\u001b[0m         \u001b[0mprint\u001b[0m\u001b[0;34m(\u001b[0m\u001b[0maccuracy\u001b[0m\u001b[0;34m)\u001b[0m\u001b[0;34m\u001b[0m\u001b[0m\n\u001b[1;32m     13\u001b[0m         \u001b[0mtotal_accuracy\u001b[0m \u001b[0;34m+=\u001b[0m \u001b[0;34m(\u001b[0m\u001b[0maccuracy\u001b[0m \u001b[0;34m*\u001b[0m \u001b[0mlen\u001b[0m\u001b[0;34m(\u001b[0m\u001b[0mbatch_x\u001b[0m\u001b[0;34m)\u001b[0m\u001b[0;34m)\u001b[0m\u001b[0;34m\u001b[0m\u001b[0m\n",
      "\u001b[0;32m~/anaconda3/lib/python3.7/site-packages/tensorflow/python/client/session.py\u001b[0m in \u001b[0;36mrun\u001b[0;34m(self, fetches, feed_dict, options, run_metadata)\u001b[0m\n\u001b[1;32m    764\u001b[0m     \u001b[0;32mtry\u001b[0m\u001b[0;34m:\u001b[0m\u001b[0;34m\u001b[0m\u001b[0m\n\u001b[1;32m    765\u001b[0m       result = self._run(None, fetches, feed_dict, options_ptr,\n\u001b[0;32m--> 766\u001b[0;31m                          run_metadata_ptr)\n\u001b[0m\u001b[1;32m    767\u001b[0m       \u001b[0;32mif\u001b[0m \u001b[0mrun_metadata\u001b[0m\u001b[0;34m:\u001b[0m\u001b[0;34m\u001b[0m\u001b[0m\n\u001b[1;32m    768\u001b[0m         \u001b[0mproto_data\u001b[0m \u001b[0;34m=\u001b[0m \u001b[0mtf_session\u001b[0m\u001b[0;34m.\u001b[0m\u001b[0mTF_GetBuffer\u001b[0m\u001b[0;34m(\u001b[0m\u001b[0mrun_metadata_ptr\u001b[0m\u001b[0;34m)\u001b[0m\u001b[0;34m\u001b[0m\u001b[0m\n",
      "\u001b[0;32m~/anaconda3/lib/python3.7/site-packages/tensorflow/python/client/session.py\u001b[0m in \u001b[0;36m_run\u001b[0;34m(self, handle, fetches, feed_dict, options, run_metadata)\u001b[0m\n\u001b[1;32m    962\u001b[0m     \u001b[0;32mif\u001b[0m \u001b[0mfinal_fetches\u001b[0m \u001b[0;32mor\u001b[0m \u001b[0mfinal_targets\u001b[0m\u001b[0;34m:\u001b[0m\u001b[0;34m\u001b[0m\u001b[0m\n\u001b[1;32m    963\u001b[0m       results = self._do_run(handle, final_targets, final_fetches,\n\u001b[0;32m--> 964\u001b[0;31m                              feed_dict_string, options, run_metadata)\n\u001b[0m\u001b[1;32m    965\u001b[0m     \u001b[0;32melse\u001b[0m\u001b[0;34m:\u001b[0m\u001b[0;34m\u001b[0m\u001b[0m\n\u001b[1;32m    966\u001b[0m       \u001b[0mresults\u001b[0m \u001b[0;34m=\u001b[0m \u001b[0;34m[\u001b[0m\u001b[0;34m]\u001b[0m\u001b[0;34m\u001b[0m\u001b[0m\n",
      "\u001b[0;32m~/anaconda3/lib/python3.7/site-packages/tensorflow/python/client/session.py\u001b[0m in \u001b[0;36m_do_run\u001b[0;34m(self, handle, target_list, fetch_list, feed_dict, options, run_metadata)\u001b[0m\n\u001b[1;32m   1012\u001b[0m     \u001b[0;32mif\u001b[0m \u001b[0mhandle\u001b[0m \u001b[0;32mis\u001b[0m \u001b[0;32mNone\u001b[0m\u001b[0;34m:\u001b[0m\u001b[0;34m\u001b[0m\u001b[0m\n\u001b[1;32m   1013\u001b[0m       return self._do_call(_run_fn, self._session, feed_dict, fetch_list,\n\u001b[0;32m-> 1014\u001b[0;31m                            target_list, options, run_metadata)\n\u001b[0m\u001b[1;32m   1015\u001b[0m     \u001b[0;32melse\u001b[0m\u001b[0;34m:\u001b[0m\u001b[0;34m\u001b[0m\u001b[0m\n\u001b[1;32m   1016\u001b[0m       return self._do_call(_prun_fn, self._session, handle, feed_dict,\n",
      "\u001b[0;32m~/anaconda3/lib/python3.7/site-packages/tensorflow/python/client/session.py\u001b[0m in \u001b[0;36m_do_call\u001b[0;34m(self, fn, *args)\u001b[0m\n\u001b[1;32m   1032\u001b[0m         \u001b[0;32mexcept\u001b[0m \u001b[0mKeyError\u001b[0m\u001b[0;34m:\u001b[0m\u001b[0;34m\u001b[0m\u001b[0m\n\u001b[1;32m   1033\u001b[0m           \u001b[0;32mpass\u001b[0m\u001b[0;34m\u001b[0m\u001b[0m\n\u001b[0;32m-> 1034\u001b[0;31m       \u001b[0;32mraise\u001b[0m \u001b[0mtype\u001b[0m\u001b[0;34m(\u001b[0m\u001b[0me\u001b[0m\u001b[0;34m)\u001b[0m\u001b[0;34m(\u001b[0m\u001b[0mnode_def\u001b[0m\u001b[0;34m,\u001b[0m \u001b[0mop\u001b[0m\u001b[0;34m,\u001b[0m \u001b[0mmessage\u001b[0m\u001b[0;34m)\u001b[0m\u001b[0;34m\u001b[0m\u001b[0m\n\u001b[0m\u001b[1;32m   1035\u001b[0m \u001b[0;34m\u001b[0m\u001b[0m\n\u001b[1;32m   1036\u001b[0m   \u001b[0;32mdef\u001b[0m \u001b[0m_extend_graph\u001b[0m\u001b[0;34m(\u001b[0m\u001b[0mself\u001b[0m\u001b[0;34m)\u001b[0m\u001b[0;34m:\u001b[0m\u001b[0;34m\u001b[0m\u001b[0m\n",
      "\u001b[0;31mFailedPreconditionError\u001b[0m: Attempting to use uninitialized value Variable_102\n\t [[Node: Variable_102/read = Identity[T=DT_FLOAT, _class=[\"loc:@Variable_102\"], _device=\"/job:localhost/replica:0/task:0/cpu:0\"](Variable_102)]]\n\nCaused by op 'Variable_102/read', defined at:\n  File \"/Users/yaminigaur/anaconda3/lib/python3.7/runpy.py\", line 193, in _run_module_as_main\n    \"__main__\", mod_spec)\n  File \"/Users/yaminigaur/anaconda3/lib/python3.7/runpy.py\", line 85, in _run_code\n    exec(code, run_globals)\n  File \"/Users/yaminigaur/anaconda3/lib/python3.7/site-packages/ipykernel_launcher.py\", line 16, in <module>\n    app.launch_new_instance()\n  File \"/Users/yaminigaur/anaconda3/lib/python3.7/site-packages/traitlets/config/application.py\", line 658, in launch_instance\n    app.start()\n  File \"/Users/yaminigaur/anaconda3/lib/python3.7/site-packages/ipykernel/kernelapp.py\", line 497, in start\n    self.io_loop.start()\n  File \"/Users/yaminigaur/anaconda3/lib/python3.7/site-packages/tornado/platform/asyncio.py\", line 132, in start\n    self.asyncio_loop.run_forever()\n  File \"/Users/yaminigaur/anaconda3/lib/python3.7/asyncio/base_events.py\", line 523, in run_forever\n    self._run_once()\n  File \"/Users/yaminigaur/anaconda3/lib/python3.7/asyncio/base_events.py\", line 1758, in _run_once\n    handle._run()\n  File \"/Users/yaminigaur/anaconda3/lib/python3.7/asyncio/events.py\", line 88, in _run\n    self._context.run(self._callback, *self._args)\n  File \"/Users/yaminigaur/anaconda3/lib/python3.7/site-packages/tornado/platform/asyncio.py\", line 122, in _handle_events\n    handler_func(fileobj, events)\n  File \"/Users/yaminigaur/anaconda3/lib/python3.7/site-packages/tornado/stack_context.py\", line 300, in null_wrapper\n    return fn(*args, **kwargs)\n  File \"/Users/yaminigaur/anaconda3/lib/python3.7/site-packages/zmq/eventloop/zmqstream.py\", line 450, in _handle_events\n    self._handle_recv()\n  File \"/Users/yaminigaur/anaconda3/lib/python3.7/site-packages/zmq/eventloop/zmqstream.py\", line 480, in _handle_recv\n    self._run_callback(callback, msg)\n  File \"/Users/yaminigaur/anaconda3/lib/python3.7/site-packages/zmq/eventloop/zmqstream.py\", line 432, in _run_callback\n    callback(*args, **kwargs)\n  File \"/Users/yaminigaur/anaconda3/lib/python3.7/site-packages/tornado/stack_context.py\", line 300, in null_wrapper\n    return fn(*args, **kwargs)\n  File \"/Users/yaminigaur/anaconda3/lib/python3.7/site-packages/ipykernel/kernelbase.py\", line 283, in dispatcher\n    return self.dispatch_shell(stream, msg)\n  File \"/Users/yaminigaur/anaconda3/lib/python3.7/site-packages/ipykernel/kernelbase.py\", line 233, in dispatch_shell\n    handler(stream, idents, msg)\n  File \"/Users/yaminigaur/anaconda3/lib/python3.7/site-packages/ipykernel/kernelbase.py\", line 399, in execute_request\n    user_expressions, allow_stdin)\n  File \"/Users/yaminigaur/anaconda3/lib/python3.7/site-packages/ipykernel/ipkernel.py\", line 208, in do_execute\n    res = shell.run_cell(code, store_history=store_history, silent=silent)\n  File \"/Users/yaminigaur/anaconda3/lib/python3.7/site-packages/ipykernel/zmqshell.py\", line 537, in run_cell\n    return super(ZMQInteractiveShell, self).run_cell(*args, **kwargs)\n  File \"/Users/yaminigaur/anaconda3/lib/python3.7/site-packages/IPython/core/interactiveshell.py\", line 2662, in run_cell\n    raw_cell, store_history, silent, shell_futures)\n  File \"/Users/yaminigaur/anaconda3/lib/python3.7/site-packages/IPython/core/interactiveshell.py\", line 2785, in _run_cell\n    interactivity=interactivity, compiler=compiler, result=result)\n  File \"/Users/yaminigaur/anaconda3/lib/python3.7/site-packages/IPython/core/interactiveshell.py\", line 2901, in run_ast_nodes\n    if self.run_code(code, result):\n  File \"/Users/yaminigaur/anaconda3/lib/python3.7/site-packages/IPython/core/interactiveshell.py\", line 2961, in run_code\n    exec(code_obj, self.user_global_ns, self.user_ns)\n  File \"<ipython-input-59-15f267902d80>\", line 2, in <module>\n    conv1_w = tf.Variable(tf.truncated_normal(shape = [5,5,1,6],mean = 0, stddev = 0.1))\n  File \"/Users/yaminigaur/anaconda3/lib/python3.7/site-packages/tensorflow/python/ops/variables.py\", line 224, in __init__\n    expected_shape=expected_shape)\n  File \"/Users/yaminigaur/anaconda3/lib/python3.7/site-packages/tensorflow/python/ops/variables.py\", line 370, in _init_from_args\n    self._snapshot = array_ops.identity(self._variable, name=\"read\")\n  File \"/Users/yaminigaur/anaconda3/lib/python3.7/site-packages/tensorflow/python/ops/gen_array_ops.py\", line 1424, in identity\n    result = _op_def_lib.apply_op(\"Identity\", input=input, name=name)\n  File \"/Users/yaminigaur/anaconda3/lib/python3.7/site-packages/tensorflow/python/framework/op_def_library.py\", line 759, in apply_op\n    op_def=op_def)\n  File \"/Users/yaminigaur/anaconda3/lib/python3.7/site-packages/tensorflow/python/framework/ops.py\", line 2240, in create_op\n    original_op=self._default_original_op, op_def=op_def)\n  File \"/Users/yaminigaur/anaconda3/lib/python3.7/site-packages/tensorflow/python/framework/ops.py\", line 1128, in __init__\n    self._traceback = _extract_stack()\n\nFailedPreconditionError (see above for traceback): Attempting to use uninitialized value Variable_102\n\t [[Node: Variable_102/read = Identity[T=DT_FLOAT, _class=[\"loc:@Variable_102\"], _device=\"/job:localhost/replica:0/task:0/cpu:0\"](Variable_102)]]\n"
     ]
    }
   ],
   "source": [
    "with tf.Session() as sess:\n",
    "    saver.restore(sess, tf.train.latest_checkpoint('.'))\n",
    "\n",
    "    test_accuracy = evaluate(X_test, y_test)\n",
    "    print(\"Test Accuracy = {:.3f}\".format(test_accuracy))"
   ]
  },
  {
   "cell_type": "markdown",
   "metadata": {},
   "source": [
    "## create a list to hold the difference between the two filters"
   ]
  },
  {
   "cell_type": "code",
   "execution_count": 599,
   "metadata": {},
   "outputs": [],
   "source": [
    "wDiffConv = []+ wOrigConv\n",
    "wDiffFc = []+ wOrigFc\n"
   ]
  },
  {
   "cell_type": "markdown",
   "metadata": {},
   "source": [
    "## create alternative filters"
   ]
  },
  {
   "cell_type": "code",
   "execution_count": 430,
   "metadata": {},
   "outputs": [],
   "source": [
    "def roundToZeroFilter(wtListConv,wtListFc):\n",
    "    num = len(wtListConv)\n",
    "    \n",
    "    for wtMat in wtListConv:\n",
    "        shape = wtMat.shape\n",
    "        xlen = shape[0]\n",
    "        ylen = shape[1]\n",
    "        numChnls = shape[2]\n",
    "        numFilters = shape[3]\n",
    "\n",
    "        for c in range(0,numChnls):\n",
    "            for i in range(0,numFilters):\n",
    "                for j in range(0,xlen):\n",
    "                    for k in range(0,ylen):\n",
    "                        if wtMat[j,k,c,i] < 0:\n",
    "                            wtMat[j,k,c,i] = 0#float('%.5f'%(w[j,k,0,i]))\n",
    "                            \n",
    "    for wtMat in wtListFc:\n",
    "        shape = wtMat.shape\n",
    "        xlen = shape[0]\n",
    "        ylen = shape[1]\n",
    "        \n",
    "        for i in range(0,xlen):\n",
    "            j=0\n",
    "            while j<ylen:\n",
    "                if wtMat[i,j] < 0:\n",
    "                    wtMat[i,j] = 0\n",
    "                j=j+1;\n"
   ]
  },
  {
   "cell_type": "code",
   "execution_count": 375,
   "metadata": {},
   "outputs": [],
   "source": [
    "def centroidFilter(wtListConv,wtListFc):\n",
    "    num = len(wtListConv)\n",
    "    \n",
    "    for wtMat in wtListConv:\n",
    "        shape = wtMat.shape\n",
    "        xlen = shape[0]\n",
    "        ylen = shape[1]\n",
    "        numChnls = shape[2]\n",
    "        numFilters = shape[3]\n",
    "\n",
    "        for c in range(0,numChnls):\n",
    "            for i in range(0,numFilters):\n",
    "                for j in range(0,xlen,2):\n",
    "                    for k in range(0,ylen,2):\n",
    "                        first = wtMat[j,k,c,i]\n",
    "                        if j+1 < xlen:\n",
    "                            second = wtMat[j+1,k,c,i]\n",
    "                        else:\n",
    "                            second = 0\n",
    "                        if k+1 < xlen:\n",
    "                            third = wtMat[j,k+1,c,i]\n",
    "                        else:\n",
    "                            third = 0\n",
    "                        if j+1 < xlen and k+1 < ylen:\n",
    "                            forth = wtMat[j+1,k+1,c,i]\n",
    "                        else:\n",
    "                            forth = 0\n",
    "                        total = 0.0\n",
    "                        total = float(first + second + third + forth)\n",
    "                        total /= 4\n",
    "                        wtMat[j,k,c,i] = total\n",
    "                        if j+1 < xlen:\n",
    "                            wtMat[j+1,k,c,i] = total\n",
    "                        if k+1 < xlen:\n",
    "                            wtMat[j,k+1,c,i] = total\n",
    "                        if j+1 < xlen and k+1 < ylen:\n",
    "                            wtMat[j+1,k+1,c,i] = total\n",
    "                        #if wtMat[j,k,0,i] < 0:\n",
    "                        #    wtMat[j,k,0,i] = 0#float('%.5f'%(w[j,k,0,i]))\n",
    "                        \n",
    "    for wtMat in wtListFc:\n",
    "        shape = wtMat.shape\n",
    "        xlen = shape[0]\n",
    "        ylen = shape[1]\n",
    "        \n",
    "        for i in range(0,xlen):\n",
    "            j=0\n",
    "            while j<ylen:\n",
    "                first = wtMat[i,j] \n",
    "                second = wtMat[i,j+1]\n",
    "                avg = (first+second)/2\n",
    "                wtMat[i,j] = avg\n",
    "                wtMat[i,j+1] = avg\n",
    "                j = j+2"
   ]
  },
  {
   "cell_type": "code",
   "execution_count": 400,
   "metadata": {},
   "outputs": [],
   "source": [
    "def truncateFilter(wtListConv,wtListFc):\n",
    "    num = len(wtListConv)\n",
    "    \n",
    "    \n",
    "    for wtMat in wtListConv:\n",
    "        shape = wtMat.shape\n",
    "        xlen = shape[0]\n",
    "        ylen = shape[1]\n",
    "        numChnls = shape[2]\n",
    "        numFilters = shape[3]\n",
    "\n",
    "        for c in range(0,numChnls):\n",
    "            for i in range(0,numFilters):\n",
    "                for j in range(0,xlen):\n",
    "                    for k in range(0,ylen):\n",
    "                        wtMat[j,k,c,i] = float('%.5f'%(wtMat[j,k,c,i]))\n",
    "                        \n",
    "                        \n",
    "    for wtMat in wtListFc:\n",
    "        shape = wtMat.shape\n",
    "        xlen = shape[0]\n",
    "        ylen = shape[1]\n",
    "        \n",
    "        for i in range(0,xlen):\n",
    "            j=0\n",
    "            while j<ylen:\n",
    "                wtMat[i,j]=float('%.5f'%(wtMat[i,j]))\n",
    "                j=j+1;\n",
    "\n",
    "                        "
   ]
  },
  {
   "cell_type": "code",
   "execution_count": 600,
   "metadata": {},
   "outputs": [],
   "source": [
    "#roundToZeroFilter(wConv, wFc)\n",
    "#centroidFilter(wConv, wFc)\n",
    "truncateFilter(wConv, wFc)"
   ]
  },
  {
   "cell_type": "code",
   "execution_count": 601,
   "metadata": {},
   "outputs": [
    {
     "data": {
      "text/plain": [
       "[array([[[[-0.02042, -0.05664, -0.01107, -0.03463,  0.00799,  0.09214]],\n",
       " \n",
       "         [[ 0.07016, -0.11185, -0.01466,  0.02363,  0.04778,  0.01098]],\n",
       " \n",
       "         [[ 0.13921, -0.161  , -0.08543,  0.07901, -0.14447,  0.03789]],\n",
       " \n",
       "         [[ 0.00705, -0.08647,  0.01174, -0.05881,  0.08954, -0.10142]],\n",
       " \n",
       "         [[ 0.02357,  0.11159, -0.05834,  0.09237, -0.1431 ,  0.00593]]],\n",
       " \n",
       " \n",
       "        [[[-0.05193,  0.01041, -0.01073,  0.07326, -0.00347, -0.10458]],\n",
       " \n",
       "         [[-0.08496, -0.01766, -0.1073 , -0.02306,  0.08581, -0.18345]],\n",
       " \n",
       "         [[-0.10249,  0.00957,  0.11771,  0.06644, -0.00534,  0.02334]],\n",
       " \n",
       "         [[ 0.11674,  0.03177,  0.01105, -0.05753,  0.07094, -0.06522]],\n",
       " \n",
       "         [[-0.06613,  0.07211, -0.02425, -0.12704,  0.02677,  0.11379]]],\n",
       " \n",
       " \n",
       "        [[[ 0.02523,  0.05205, -0.06742,  0.06696,  0.02017, -0.01384]],\n",
       " \n",
       "         [[ 0.04797, -0.07018, -0.10383,  0.00775,  0.07751,  0.11328]],\n",
       " \n",
       "         [[ 0.06511, -0.04358, -0.07889, -0.00621, -0.03015, -0.01866]],\n",
       " \n",
       "         [[ 0.1225 , -0.14663, -0.12154,  0.11317,  0.16874, -0.14023]],\n",
       " \n",
       "         [[ 0.0826 , -0.11785, -0.0583 ,  0.1277 , -0.04498,  0.05476]]],\n",
       " \n",
       " \n",
       "        [[[ 0.01001,  0.00759,  0.07021, -0.14458,  0.11012,  0.13281]],\n",
       " \n",
       "         [[-0.05739, -0.01288,  0.09308, -0.06912, -0.01956, -0.03231]],\n",
       " \n",
       "         [[ 0.11448,  0.04874,  0.02131, -0.13792, -0.19105,  0.05824]],\n",
       " \n",
       "         [[ 0.02387,  0.04852,  0.07326,  0.0823 , -0.01393, -0.08202]],\n",
       " \n",
       "         [[ 0.06933,  0.0331 ,  0.08407, -0.03489,  0.0919 , -0.09289]]],\n",
       " \n",
       " \n",
       "        [[[ 0.1327 ,  0.0465 , -0.02754, -0.13887, -0.02194, -0.08149]],\n",
       " \n",
       "         [[ 0.09002, -0.03595,  0.04114, -0.07336,  0.05712,  0.13452]],\n",
       " \n",
       "         [[-0.1866 ,  0.16347,  0.01649,  0.05305,  0.114  , -0.18282]],\n",
       " \n",
       "         [[ 0.07743,  0.02555,  0.09283,  0.01413,  0.19666, -0.02031]],\n",
       " \n",
       "         [[ 0.04802,  0.08477, -0.00757, -0.10116,  0.0512 , -0.06793]]]],\n",
       "       dtype=float32),\n",
       " array([[[[ 5.3580e-02,  8.2080e-02,  6.7450e-02, ..., -9.3490e-02,\n",
       "            1.4869e-01, -1.0197e-01],\n",
       "          [-4.1570e-02, -9.5930e-02,  7.6090e-02, ..., -4.6350e-02,\n",
       "            1.1248e-01,  4.8000e-03],\n",
       "          [-1.7492e-01, -1.6230e-02,  3.2140e-02, ..., -6.7040e-02,\n",
       "           -7.5050e-02, -1.1716e-01],\n",
       "          [ 1.1910e-01, -1.4930e-02, -1.0200e-03, ...,  3.6720e-02,\n",
       "            8.6220e-02, -3.1100e-03],\n",
       "          [ 5.8800e-03, -1.2981e-01, -5.7130e-02, ..., -5.1990e-02,\n",
       "           -1.0133e-01,  2.5910e-02],\n",
       "          [ 7.3070e-02,  8.6400e-02,  8.6200e-02, ...,  6.4020e-02,\n",
       "           -1.6149e-01, -7.4900e-03]],\n",
       " \n",
       "         [[-1.1490e-02,  9.5440e-02,  6.8700e-02, ..., -3.3660e-02,\n",
       "            4.0590e-02,  4.7820e-02],\n",
       "          [-2.3000e-03, -5.8820e-02, -7.4970e-02, ..., -1.3060e-02,\n",
       "            1.3769e-01, -5.7990e-02],\n",
       "          [ 2.9160e-02, -1.8170e-02,  1.8556e-01, ...,  1.0482e-01,\n",
       "           -2.3900e-02,  1.1304e-01],\n",
       "          [-9.1370e-02,  1.4220e-02,  6.6330e-02, ...,  1.4810e-02,\n",
       "           -6.5190e-02, -9.9190e-02],\n",
       "          [ 1.8586e-01,  1.9740e-02,  6.6760e-02, ..., -4.4620e-02,\n",
       "            8.5230e-02, -9.1900e-02],\n",
       "          [-1.5200e-02,  1.1529e-01,  8.4230e-02, ..., -4.7650e-02,\n",
       "           -8.3240e-02,  3.6150e-02]],\n",
       " \n",
       "         [[-1.4100e-02,  1.9181e-01,  1.0612e-01, ..., -1.0651e-01,\n",
       "            5.0600e-02, -5.4920e-02],\n",
       "          [ 8.8310e-02, -6.2910e-02, -1.0140e-01, ..., -3.2530e-02,\n",
       "           -2.4590e-02, -3.4790e-02],\n",
       "          [-1.6581e-01,  6.5220e-02,  5.7980e-02, ...,  6.5790e-02,\n",
       "            3.8840e-02, -4.3690e-02],\n",
       "          [-6.2200e-02,  4.1210e-02, -9.4230e-02, ...,  8.5890e-02,\n",
       "            2.0570e-02, -1.1490e-02],\n",
       "          [ 7.0590e-02,  7.8390e-02,  6.7120e-02, ..., -4.9960e-02,\n",
       "            1.4323e-01,  4.5090e-02],\n",
       "          [-9.9630e-02, -1.5800e-01, -3.9800e-02, ..., -8.8170e-02,\n",
       "            5.7900e-02, -4.1620e-02]],\n",
       " \n",
       "         [[ 5.5830e-02,  8.4200e-03,  3.0140e-02, ..., -9.2170e-02,\n",
       "            1.1891e-01,  9.9230e-02],\n",
       "          [ 6.7410e-02, -1.1463e-01, -1.3940e-02, ..., -1.0164e-01,\n",
       "           -1.1843e-01,  3.0880e-02],\n",
       "          [ 4.0020e-02,  7.0040e-02,  7.8970e-02, ..., -6.1900e-03,\n",
       "           -7.2770e-02,  1.5100e-02],\n",
       "          [-5.4350e-02,  2.9190e-02,  1.1008e-01, ...,  1.0071e-01,\n",
       "           -1.0318e-01,  4.6590e-02],\n",
       "          [-7.8810e-02,  9.9920e-02,  7.8170e-02, ...,  1.3615e-01,\n",
       "            1.9220e-02,  4.5050e-02],\n",
       "          [ 8.6160e-02,  1.6764e-01, -6.2630e-02, ..., -1.3950e-01,\n",
       "            1.5497e-01,  4.5000e-02]],\n",
       " \n",
       "         [[-8.9300e-02, -1.1935e-01,  3.7730e-02, ..., -6.8370e-02,\n",
       "           -5.2490e-02,  9.1190e-02],\n",
       "          [ 1.4111e-01, -1.3422e-01, -1.1029e-01, ...,  5.7290e-02,\n",
       "           -6.1700e-03,  1.4695e-01],\n",
       "          [-2.2870e-02, -1.1019e-01,  1.3422e-01, ...,  1.1264e-01,\n",
       "           -1.0648e-01,  1.3334e-01],\n",
       "          [-8.1460e-02, -1.2797e-01,  3.2950e-02, ..., -6.4500e-03,\n",
       "            2.1320e-02, -7.2470e-02],\n",
       "          [ 7.6140e-02,  1.6223e-01, -7.9600e-03, ...,  1.6440e-02,\n",
       "            7.0700e-02,  1.5576e-01],\n",
       "          [ 1.1831e-01,  9.7990e-02, -6.9220e-02, ..., -6.4500e-02,\n",
       "           -9.8340e-02, -6.3460e-02]]],\n",
       " \n",
       " \n",
       "        [[[-2.2180e-02, -6.1950e-02,  2.0230e-02, ..., -6.1670e-02,\n",
       "           -5.8970e-02,  3.0400e-03],\n",
       "          [ 9.1360e-02,  9.7660e-02,  1.0830e-01, ...,  1.2459e-01,\n",
       "            2.9000e-03,  7.4600e-03],\n",
       "          [-7.8000e-03,  5.9910e-02, -6.9860e-02, ...,  6.0190e-02,\n",
       "            8.8390e-02, -3.4910e-02],\n",
       "          [-5.8850e-02, -2.7610e-02,  6.5060e-02, ..., -4.3950e-02,\n",
       "            5.6900e-02,  1.9180e-01],\n",
       "          [ 1.3309e-01,  6.6900e-02, -1.8630e-02, ..., -8.9730e-02,\n",
       "            4.0000e-05,  1.4250e-02],\n",
       "          [-1.8840e-02,  6.5980e-02,  9.4320e-02, ..., -1.3421e-01,\n",
       "            4.2670e-02, -1.3717e-01]],\n",
       " \n",
       "         [[-5.4410e-02,  1.8592e-01, -6.6810e-02, ..., -5.7240e-02,\n",
       "            4.3070e-02, -5.7840e-02],\n",
       "          [ 1.6758e-01, -3.6400e-03, -3.1950e-02, ...,  1.3199e-01,\n",
       "            5.2930e-02,  3.3550e-02],\n",
       "          [-1.9900e-02, -5.6710e-02,  1.5042e-01, ..., -7.4440e-02,\n",
       "           -5.6140e-02, -8.9390e-02],\n",
       "          [-1.6881e-01,  4.0900e-02, -2.5170e-02, ...,  7.6110e-02,\n",
       "            8.5570e-02,  5.1990e-02],\n",
       "          [ 4.9900e-03, -1.9093e-01,  7.2040e-02, ..., -1.4675e-01,\n",
       "           -7.6540e-02, -8.5500e-03],\n",
       "          [-9.7530e-02,  5.1390e-02,  7.5890e-02, ...,  1.7860e-02,\n",
       "           -2.7610e-02,  3.7240e-02]],\n",
       " \n",
       "         [[ 4.4570e-02,  3.4490e-02, -8.4140e-02, ..., -8.7700e-03,\n",
       "            3.0040e-02,  7.3400e-03],\n",
       "          [ 1.6010e-02,  7.5670e-02,  7.4800e-03, ..., -5.7500e-03,\n",
       "           -1.2771e-01,  1.8318e-01],\n",
       "          [ 1.2842e-01, -1.3217e-01, -6.5090e-02, ...,  2.7080e-02,\n",
       "            1.6232e-01, -1.4114e-01],\n",
       "          [ 3.0730e-02,  7.4460e-02, -1.3074e-01, ...,  1.1701e-01,\n",
       "            8.4360e-02, -2.8300e-02],\n",
       "          [-1.5630e-01,  3.4010e-02,  3.5000e-03, ..., -1.4999e-01,\n",
       "           -3.3880e-02,  6.2340e-02],\n",
       "          [ 6.8140e-02,  1.4160e-02, -2.6400e-03, ..., -8.6190e-02,\n",
       "           -8.8730e-02,  1.2787e-01]],\n",
       " \n",
       "         [[ 2.9380e-02, -1.8640e-02, -3.3200e-03, ..., -3.8400e-02,\n",
       "            1.2579e-01, -1.4296e-01],\n",
       "          [ 1.4000e-04,  6.5330e-02, -1.9300e-02, ...,  8.4110e-02,\n",
       "            1.9519e-01,  4.2490e-02],\n",
       "          [ 1.2230e-02,  8.6410e-02,  7.5120e-02, ...,  3.4830e-02,\n",
       "           -3.8130e-02,  9.7270e-02],\n",
       "          [ 4.7540e-02, -1.1973e-01, -3.6050e-02, ...,  1.4824e-01,\n",
       "           -6.9670e-02, -1.1117e-01],\n",
       "          [ 2.6330e-02,  2.4200e-02,  2.5630e-02, ...,  5.7330e-02,\n",
       "            1.9707e-01, -6.9110e-02],\n",
       "          [-9.8770e-02,  1.5000e-03, -1.2660e-01, ...,  5.3230e-02,\n",
       "            4.9490e-02,  4.8800e-03]],\n",
       " \n",
       "         [[ 1.0564e-01,  1.0845e-01,  9.9450e-02, ..., -2.0130e-02,\n",
       "           -1.4052e-01, -1.1567e-01],\n",
       "          [-1.2429e-01,  9.9120e-02,  8.5540e-02, ...,  3.8510e-02,\n",
       "            3.0350e-02,  3.8600e-03],\n",
       "          [ 1.4751e-01, -6.7370e-02,  1.8858e-01, ..., -3.8570e-02,\n",
       "           -4.1880e-02,  6.5000e-03],\n",
       "          [ 8.6650e-02, -5.0400e-02,  8.8100e-02, ...,  1.9555e-01,\n",
       "           -8.3960e-02,  1.2882e-01],\n",
       "          [ 1.2407e-01,  3.6660e-02,  8.2780e-02, ...,  2.5010e-02,\n",
       "            1.6589e-01, -7.1340e-02],\n",
       "          [ 2.0790e-02,  1.1200e-01,  8.8270e-02, ..., -9.7200e-03,\n",
       "           -2.2140e-02, -5.8940e-02]]],\n",
       " \n",
       " \n",
       "        [[[-4.0120e-02, -4.2570e-02,  2.2130e-02, ..., -1.4843e-01,\n",
       "           -1.1645e-01, -3.8500e-03],\n",
       "          [ 3.2830e-02, -8.0500e-03,  1.2021e-01, ...,  2.5140e-02,\n",
       "           -2.9620e-02, -9.6100e-02],\n",
       "          [ 1.0330e-02, -1.1073e-01, -5.5720e-02, ..., -5.0250e-02,\n",
       "           -1.3876e-01,  5.1440e-02],\n",
       "          [ 5.7000e-03, -2.3870e-02, -1.3851e-01, ...,  7.6310e-02,\n",
       "           -5.3150e-02, -2.5930e-02],\n",
       "          [-1.1810e-02,  8.7870e-02,  7.5850e-02, ..., -1.3043e-01,\n",
       "           -1.5090e-02, -1.3485e-01],\n",
       "          [-3.8380e-02, -8.8800e-03, -4.6010e-02, ..., -1.0283e-01,\n",
       "           -6.2320e-02,  3.8580e-02]],\n",
       " \n",
       "         [[ 1.8850e-01,  4.0090e-02, -2.3500e-03, ..., -6.8040e-02,\n",
       "           -1.2521e-01, -9.1780e-02],\n",
       "          [ 1.3994e-01,  1.2919e-01,  1.9000e-02, ..., -8.2830e-02,\n",
       "           -4.1900e-03,  8.7410e-02],\n",
       "          [ 6.9190e-02,  7.2310e-02,  7.2990e-02, ..., -3.8690e-02,\n",
       "           -2.5600e-03,  4.0100e-03],\n",
       "          [ 1.9193e-01,  4.4190e-02, -2.1060e-02, ...,  7.1710e-02,\n",
       "           -8.5840e-02, -7.9630e-02],\n",
       "          [-1.3212e-01, -7.0840e-02, -7.1100e-02, ...,  8.9230e-02,\n",
       "           -1.3445e-01, -2.9430e-02],\n",
       "          [ 5.7400e-02, -9.8210e-02,  1.3027e-01, ..., -2.6410e-02,\n",
       "           -8.7000e-02,  1.1313e-01]],\n",
       " \n",
       "         [[-5.0650e-02, -6.2000e-04,  1.0659e-01, ...,  1.1084e-01,\n",
       "           -7.1500e-02, -2.9780e-02],\n",
       "          [-1.8476e-01,  5.2610e-02, -3.2710e-02, ..., -1.2843e-01,\n",
       "            1.0895e-01, -3.2600e-03],\n",
       "          [-1.1835e-01,  7.3800e-03,  5.4360e-02, ...,  1.0257e-01,\n",
       "           -1.4379e-01, -6.2090e-02],\n",
       "          [-7.6710e-02, -2.3160e-02,  1.3620e-01, ..., -9.6400e-03,\n",
       "            1.3896e-01, -6.1060e-02],\n",
       "          [ 1.2083e-01, -7.2640e-02,  1.3360e-01, ...,  4.7220e-02,\n",
       "            4.7830e-02, -6.9700e-03],\n",
       "          [-7.8040e-02,  7.2480e-02,  6.9280e-02, ...,  1.1933e-01,\n",
       "            7.7010e-02, -1.1270e-02]],\n",
       " \n",
       "         [[ 3.9340e-02, -1.5873e-01,  7.0790e-02, ..., -1.2568e-01,\n",
       "           -7.9560e-02,  1.2431e-01],\n",
       "          [-4.0710e-02, -1.5241e-01, -8.8560e-02, ...,  1.7000e-03,\n",
       "           -8.8140e-02, -1.6485e-01],\n",
       "          [-1.3893e-01, -7.5980e-02,  6.0850e-02, ..., -1.3017e-01,\n",
       "           -1.4829e-01,  6.2000e-04],\n",
       "          [ 6.4790e-02, -1.4447e-01, -5.2230e-02, ...,  9.5760e-02,\n",
       "           -2.9460e-02, -1.4052e-01],\n",
       "          [ 1.1097e-01,  3.0500e-03,  8.2710e-02, ..., -1.7660e-02,\n",
       "           -6.6660e-02, -3.9300e-02],\n",
       "          [ 2.5230e-02, -2.7250e-02,  6.0070e-02, ..., -1.0279e-01,\n",
       "           -1.2420e-02,  6.5160e-02]],\n",
       " \n",
       "         [[ 1.3879e-01, -1.3690e-02,  4.3400e-03, ..., -7.6030e-02,\n",
       "            1.1388e-01, -3.7500e-02],\n",
       "          [ 6.4290e-02, -3.0520e-02,  1.5880e-02, ..., -3.4840e-02,\n",
       "            5.5700e-03, -8.4520e-02],\n",
       "          [-2.7310e-02, -1.0350e-02,  3.8750e-02, ...,  1.6283e-01,\n",
       "            1.2282e-01, -7.3900e-03],\n",
       "          [ 1.0897e-01,  1.8713e-01, -4.4940e-02, ...,  1.6849e-01,\n",
       "           -3.1290e-02, -1.1525e-01],\n",
       "          [ 1.6753e-01,  1.5140e-02,  1.0681e-01, ..., -1.1350e-01,\n",
       "            1.3690e-02,  9.9690e-02],\n",
       "          [-1.1190e-01,  6.1450e-02, -2.6960e-02, ..., -8.1300e-03,\n",
       "            9.3990e-02,  9.8700e-02]]],\n",
       " \n",
       " \n",
       "        [[[-4.0430e-02,  5.6370e-02, -2.1960e-02, ...,  1.5737e-01,\n",
       "           -2.0940e-02, -5.4430e-02],\n",
       "          [ 7.4350e-02, -1.6475e-01, -1.4718e-01, ...,  1.4109e-01,\n",
       "           -2.3920e-02,  4.8840e-02],\n",
       "          [ 1.1499e-01,  3.5480e-02, -4.7610e-02, ...,  1.6360e-02,\n",
       "           -1.4962e-01, -8.6460e-02],\n",
       "          [-6.1980e-02,  9.4000e-03,  1.9300e-03, ..., -2.0500e-03,\n",
       "            5.9590e-02, -7.5400e-02],\n",
       "          [-9.8900e-02,  1.1209e-01, -5.6570e-02, ..., -2.5170e-02,\n",
       "            6.4020e-02, -5.7070e-02],\n",
       "          [ 1.0925e-01,  1.9690e-02, -1.0000e-05, ...,  2.9550e-02,\n",
       "            5.5420e-02, -1.6820e-02]],\n",
       " \n",
       "         [[-3.6810e-02, -5.8600e-02,  8.6820e-02, ..., -7.7370e-02,\n",
       "            1.0068e-01, -4.2400e-03],\n",
       "          [-5.6030e-02,  4.4980e-02,  2.1390e-02, ..., -7.9900e-02,\n",
       "            1.5408e-01,  1.2698e-01],\n",
       "          [-1.4280e-02, -1.2708e-01,  1.1180e-01, ..., -7.3000e-04,\n",
       "           -1.1610e-02, -2.7680e-02],\n",
       "          [ 2.0080e-02,  4.8990e-02, -1.0147e-01, ..., -4.9010e-02,\n",
       "           -1.7768e-01,  2.7590e-02],\n",
       "          [ 9.3460e-02, -9.3890e-02, -7.4360e-02, ...,  7.8780e-02,\n",
       "            4.5370e-02,  3.6290e-02],\n",
       "          [-9.7110e-02,  7.0000e-05,  3.0430e-02, ..., -1.8640e-02,\n",
       "            1.8129e-01,  8.9750e-02]],\n",
       " \n",
       "         [[-4.9470e-02, -4.3710e-02, -7.6470e-02, ..., -1.4054e-01,\n",
       "            1.7720e-02, -1.7318e-01],\n",
       "          [-6.8660e-02, -1.6710e-02,  7.0300e-03, ...,  5.0570e-02,\n",
       "            1.2441e-01,  8.8510e-02],\n",
       "          [-4.8150e-02, -1.1122e-01, -6.8600e-02, ...,  5.9900e-03,\n",
       "           -6.1820e-02,  1.0357e-01],\n",
       "          [-1.4542e-01, -6.5490e-02, -4.6300e-03, ..., -4.4440e-02,\n",
       "            1.8380e-02,  1.5794e-01],\n",
       "          [ 3.9230e-02,  5.5620e-02,  1.1805e-01, ...,  3.2110e-02,\n",
       "            3.4260e-02,  9.0450e-02],\n",
       "          [-1.1771e-01,  1.5350e-02, -1.3084e-01, ...,  1.1510e-02,\n",
       "            1.6990e-02,  3.3400e-03]],\n",
       " \n",
       "         [[-1.6640e-02,  1.3930e-01,  7.4920e-02, ...,  7.5480e-02,\n",
       "           -4.8250e-02,  1.1161e-01],\n",
       "          [ 3.3060e-02,  1.7440e-02, -6.6830e-02, ..., -9.7140e-02,\n",
       "            4.3350e-02, -3.7830e-02],\n",
       "          [ 8.6100e-03, -1.1840e-02,  4.2290e-02, ..., -1.2701e-01,\n",
       "           -2.8890e-02, -1.2410e-02],\n",
       "          [-5.9670e-02, -9.2100e-02,  6.2300e-02, ...,  6.5090e-02,\n",
       "           -1.2683e-01,  5.1370e-02],\n",
       "          [-9.2100e-03,  4.9080e-02, -7.7380e-02, ...,  3.0290e-02,\n",
       "            1.0090e-02, -4.8910e-02],\n",
       "          [-1.6637e-01,  3.4080e-02,  4.6010e-02, ...,  3.9700e-03,\n",
       "            7.3620e-02, -1.1740e-02]],\n",
       " \n",
       "         [[ 1.3016e-01,  4.1250e-02,  4.5300e-03, ...,  1.1961e-01,\n",
       "            4.1940e-02, -1.1200e-01],\n",
       "          [ 1.5235e-01,  1.2983e-01,  4.0530e-02, ..., -4.8950e-02,\n",
       "           -1.7500e-03, -1.7371e-01],\n",
       "          [ 5.5930e-02, -1.1812e-01,  8.3190e-02, ...,  1.5945e-01,\n",
       "            9.0540e-02,  4.1680e-02],\n",
       "          [ 1.4434e-01, -8.3620e-02,  3.5620e-02, ..., -1.0430e-02,\n",
       "           -3.1000e-03, -1.7775e-01],\n",
       "          [ 1.5390e-02,  2.3950e-02,  3.6300e-03, ..., -6.5470e-02,\n",
       "           -5.4900e-02, -8.2320e-02],\n",
       "          [-6.9610e-02,  8.1310e-02, -8.0660e-02, ..., -5.3000e-03,\n",
       "            5.7840e-02, -1.1866e-01]]],\n",
       " \n",
       " \n",
       "        [[[ 9.3880e-02, -3.4270e-02,  2.4480e-02, ...,  1.7025e-01,\n",
       "           -1.0180e-01,  1.3920e-02],\n",
       "          [-1.0112e-01,  1.4132e-01, -7.4050e-02, ..., -1.1340e-01,\n",
       "            1.7704e-01,  1.4021e-01],\n",
       "          [-1.6560e-02,  1.6070e-02,  1.6703e-01, ..., -5.1120e-02,\n",
       "            4.7000e-03, -7.6960e-02],\n",
       "          [-8.2460e-02,  2.8070e-02, -1.7942e-01, ...,  1.7470e-02,\n",
       "           -1.4400e-02, -8.9330e-02],\n",
       "          [-1.7010e-01,  7.1990e-02, -3.9760e-02, ...,  7.4390e-02,\n",
       "            1.3148e-01,  9.3770e-02],\n",
       "          [ 2.2210e-02, -1.0586e-01,  9.0260e-02, ..., -3.9280e-02,\n",
       "            2.1640e-02, -1.5876e-01]],\n",
       " \n",
       "         [[ 7.9790e-02, -3.0570e-02, -1.1352e-01, ..., -8.7000e-03,\n",
       "            1.2635e-01,  1.3095e-01],\n",
       "          [-1.1176e-01,  6.7550e-02, -1.2919e-01, ...,  7.7550e-02,\n",
       "           -5.0430e-02, -2.0800e-02],\n",
       "          [ 1.1056e-01,  8.6340e-02, -1.3892e-01, ..., -2.0260e-02,\n",
       "            7.3100e-03, -1.3692e-01],\n",
       "          [-1.3195e-01,  2.0010e-02, -1.7980e-01, ..., -3.2460e-02,\n",
       "            6.8720e-02,  5.7630e-02],\n",
       "          [ 4.5360e-02, -8.6430e-02, -8.8360e-02, ..., -3.9080e-02,\n",
       "           -1.8509e-01,  1.1566e-01],\n",
       "          [-1.6040e-02, -1.1410e-02, -4.9760e-02, ..., -1.3005e-01,\n",
       "            3.0360e-02, -5.4640e-02]],\n",
       " \n",
       "         [[ 2.6740e-02, -5.9650e-02,  2.9290e-02, ...,  9.5440e-02,\n",
       "            4.0290e-02,  7.9960e-02],\n",
       "          [-2.1090e-02, -9.4670e-02,  6.4000e-02, ..., -1.0843e-01,\n",
       "            1.3948e-01,  1.0840e-02],\n",
       "          [ 1.5490e-02, -1.3038e-01,  9.3900e-03, ...,  7.8000e-03,\n",
       "           -8.8580e-02, -4.1400e-03],\n",
       "          [-9.0070e-02, -1.5196e-01,  1.2874e-01, ...,  9.9510e-02,\n",
       "           -9.0140e-02,  5.8450e-02],\n",
       "          [-1.1720e-01, -4.5700e-02, -5.2980e-02, ...,  8.7660e-02,\n",
       "           -9.1700e-02, -4.1550e-02],\n",
       "          [ 3.8290e-02,  1.3684e-01,  1.8684e-01, ...,  6.7360e-02,\n",
       "           -1.1409e-01,  3.7440e-02]],\n",
       " \n",
       "         [[ 2.8200e-02, -3.2220e-02,  9.6610e-02, ..., -8.6180e-02,\n",
       "            1.9830e-02,  3.6700e-03],\n",
       "          [-3.4260e-02,  1.3467e-01, -1.4710e-02, ...,  1.9670e-02,\n",
       "            1.2148e-01,  6.8090e-02],\n",
       "          [ 3.8040e-02, -1.6430e-01,  1.0789e-01, ..., -1.3000e-04,\n",
       "           -1.3001e-01,  7.2830e-02],\n",
       "          [ 8.3000e-03, -5.6010e-02,  1.7212e-01, ..., -2.3050e-02,\n",
       "            4.1160e-02, -6.7760e-02],\n",
       "          [ 8.3910e-02,  1.0830e-01, -2.2070e-02, ...,  6.6180e-02,\n",
       "            5.1630e-02,  2.3000e-03],\n",
       "          [-1.8750e-02,  1.0624e-01, -6.8810e-02, ...,  5.1200e-03,\n",
       "           -1.9361e-01,  9.0990e-02]],\n",
       " \n",
       "         [[ 4.1120e-02,  1.1850e-02,  7.8320e-02, ..., -2.2750e-02,\n",
       "           -1.6000e-03,  1.8980e-02],\n",
       "          [-6.4000e-03,  7.1100e-02,  1.4410e-01, ...,  3.3160e-02,\n",
       "            1.5226e-01, -1.2399e-01],\n",
       "          [ 1.0479e-01, -7.6130e-02,  1.4630e-02, ..., -7.2570e-02,\n",
       "           -1.8417e-01,  6.7380e-02],\n",
       "          [-2.5820e-02,  8.5040e-02, -1.4890e-01, ...,  7.5360e-02,\n",
       "           -1.4560e-02, -8.4140e-02],\n",
       "          [ 1.6700e-03,  8.1300e-03,  9.5060e-02, ...,  9.1820e-02,\n",
       "           -1.3887e-01,  9.4900e-03],\n",
       "          [-6.5520e-02,  1.3703e-01,  1.5340e-02, ..., -3.5400e-02,\n",
       "            9.9130e-02,  1.0870e-01]]]], dtype=float32)]"
      ]
     },
     "execution_count": 601,
     "metadata": {},
     "output_type": "execute_result"
    }
   ],
   "source": [
    "wConv"
   ]
  },
  {
   "cell_type": "code",
   "execution_count": 321,
   "metadata": {},
   "outputs": [],
   "source": [
    "def assignFilters(wConv,wFc):\n",
    "    for wIdx in range(0,len(weightsConvMat)):\n",
    "        assign_op = weightsConvMat[wIdx].assign(wConv[wIdx])\n",
    "        session.run(assign_op)\n",
    "        \n",
    "    for wIdx in range(0,len(weightsFcMat)):\n",
    "        assign_op = weightsFcMat[wIdx].assign(wFc[wIdx])\n",
    "        session.run(assign_op)"
   ]
  },
  {
   "cell_type": "code",
   "execution_count": 602,
   "metadata": {},
   "outputs": [],
   "source": [
    "assignFilters(wConv, wFc)\n"
   ]
  },
  {
   "cell_type": "code",
   "execution_count": 404,
   "metadata": {},
   "outputs": [],
   "source": [
    "def calculateDiff(wConv, wFc, wOrigConv, wOrigFc):\n",
    "    for i in range(len(wConv)):\n",
    "        wDiffConv[i] = abs(wOrigConv[i] - wConv[i])\n",
    "        \n",
    "    \n",
    "            \n",
    "        \n",
    "    for i in range(len(wFc)):\n",
    "        wDiffFc[i] = abs(wOrigFc[i] - wFc[i])\n",
    "    \n",
    "    \n",
    "    "
   ]
  },
  {
   "cell_type": "code",
   "execution_count": 465,
   "metadata": {},
   "outputs": [],
   "source": [
    "def calculateDiffDynamic(wConv, wFc, wOrigConv, wOrigFc):\n",
    "    wConvSorted = [] + wConv\n",
    "    wConvOrigSorted = [] + wOrigConv\n",
    "    wFcSorted = [] + wFc\n",
    "    wFcOrigSorted = [] + wOrigFc\n",
    "    for i in range(len(wConv)):\n",
    "        wConvSorted[i] = np.sort(wConv[i])\n",
    "        wConvOrigSorted[i] = np.sort(wOrigConv[i])\n",
    "    for i in range(len(wFc)):\n",
    "        wFcSorted[i] = np.sort(wFc[i])\n",
    "        wFcOrigSorted[i] = np.sort(wOrigFc[i])\n",
    "   # wConvSorted= np.sort(wConv)\n",
    "    #wFcSorted = np.sort(wFc)\n",
    "    #wConvOrigSorted = np.sort(wOrigConv)\n",
    "    #wFcOrigSorted = np.sort(wOrigFc)\n",
    "    for i in range(len(wConv)):\n",
    "        wDiffConv[i] = np.absolute( wConvOrigSorted[i] - wConvSorted[i])\n",
    "    \n",
    "    for i in range(len(wFc)):\n",
    "        wDiffFc[i] = np.absolute( wFcOrigSorted[i] - wFcSorted[i])"
   ]
  },
  {
   "cell_type": "code",
   "execution_count": 603,
   "metadata": {},
   "outputs": [
    {
     "data": {
      "text/plain": [
       "array([[3.5539269e-06, 4.6342611e-06, 2.6449561e-06, ..., 4.5746565e-06,\n",
       "        4.8978254e-06, 3.2484531e-06],\n",
       "       [4.6044588e-06, 2.7567148e-06, 4.5895576e-06, ..., 2.1358428e-06,\n",
       "        1.4901161e-08, 4.1900203e-06],\n",
       "       [2.9886141e-06, 3.5166740e-06, 4.5131892e-06, ..., 2.9653311e-06,\n",
       "        1.3783574e-06, 4.6119094e-06],\n",
       "       ...,\n",
       "       [1.3709068e-06, 2.0414591e-06, 1.9557774e-06, ..., 4.0866435e-06,\n",
       "        3.0416995e-06, 3.9786100e-06],\n",
       "       [2.7269125e-06, 2.2053719e-06, 4.3138862e-06, ..., 3.7103891e-06,\n",
       "        1.2069941e-06, 3.8743019e-06],\n",
       "       [3.5334378e-06, 2.5611371e-07, 1.8924475e-06, ..., 4.5150518e-06,\n",
       "        6.4074993e-07, 2.7492642e-06]], dtype=float32)"
      ]
     },
     "execution_count": 603,
     "metadata": {},
     "output_type": "execute_result"
    }
   ],
   "source": [
    "calculateDiff(wConv, wFc, wOrigConv, wOrigFc)\n",
    "\n",
    "#calculateDiffDynamic(wConv, wFc, wOrigConv, wOrigFc)\n",
    "#wDiffConvSorted\n",
    "wDiffFc[0]"
   ]
  },
  {
   "cell_type": "code",
   "execution_count": 205,
   "metadata": {
    "scrolled": true
   },
   "outputs": [],
   "source": [
    "\n",
    "#def calculateConvME()\n",
    "\n"
   ]
  },
  {
   "cell_type": "code",
   "execution_count": 224,
   "metadata": {},
   "outputs": [],
   "source": [
    "#numImg = 5"
   ]
  },
  {
   "cell_type": "code",
   "execution_count": 225,
   "metadata": {},
   "outputs": [],
   "source": [
    "def calculateConvMEIntermediate(valuesMat):\n",
    "    for value in valuesMat:\n",
    "        average, averageSorted = calculateConvME(value)"
   ]
  },
  {
   "cell_type": "code",
   "execution_count": 297,
   "metadata": {},
   "outputs": [],
   "source": [
    "def calculateConvME(valuesMat):\n",
    "    shape = valuesMat.shape\n",
    "    valMat = valuesMat\n",
    "    numFilters = shape[3]\n",
    "    print(\"THE SIZE OF THE FILTERS IS \")\n",
    "    print(valuesMat.shape)\n",
    "    means = np.zeros(numFilters)\n",
    "    meanSum = np.zeros(numFilters)\n",
    "    \n",
    "    for nImg in range(0,numImg):\n",
    "        meanSum = meanSum + means\n",
    "        for i in range(0,numFilters):\n",
    "            result = valMat[nImg,:,:,i]\n",
    "            result_sum = np.sum(result)\n",
    "            means[i] = result_sum\n",
    "\n",
    "            \n",
    "    posME = []\n",
    "    for sort in meanSum:\n",
    "        if sort<0:\n",
    "            sort = sort * -1\n",
    "            posME.append(sort)\n",
    "        else :\n",
    "            posME.append(sort)\n",
    "            \n",
    "            \n",
    "\n",
    "            \n",
    "    average = [x / numImg for x in posME]\n",
    "    averageSorted = np.sort(average)\n",
    "    return average, averageSorted"
   ]
  },
  {
   "cell_type": "code",
   "execution_count": 298,
   "metadata": {},
   "outputs": [],
   "source": [
    "def calculateFCME(valuesMat):\n",
    "    shape = valuesMat.shape\n",
    "    valMat = valuesMat\n",
    "    numFilters = shape[1]\n",
    "    means = np.zeros(numFilters)\n",
    "    meanSum = np.zeros(numFilters)\n",
    "    \n",
    "    for nImg in range(0, numImg):\n",
    "        meanSum = meanSum + means\n",
    "        for i in range(0, numFilters):\n",
    "            result = valMat[nImg, i]\n",
    "            result_sum = np.sum(result)\n",
    "            means[i] = result_sum\n",
    "    \n",
    "    posME = []\n",
    "    for sort in meanSum:\n",
    "        if sort<0:\n",
    "            sort = sort * -1\n",
    "            posME.append(sort)\n",
    "        else :\n",
    "            posME.append(sort)\n",
    "    \n",
    "    \n",
    "    \n",
    "    average = [x/numImg for x in posME]\n",
    "    averageSorted = np.sort(average)\n",
    "    return average, averageSorted"
   ]
  },
  {
   "cell_type": "code",
   "execution_count": 469,
   "metadata": {},
   "outputs": [],
   "source": [
    "def calculateConvMEDynamic (valuesMat):\n",
    "    shape = valuesMat.shape\n",
    "    valMat = valuesMat\n",
    "    numFilters = shape[3]\n",
    "   ## print(\"we are in the calculateConvME function\")\n",
    "   ## print(valMat)\n",
    "    means = np.zeros(numFilters)\n",
    "    meanSum = np.zeros(numFilters)\n",
    "    \n",
    "    for nImg in range(0,numImg):\n",
    "        meanSum = meanSum + means\n",
    "        for i in range(0,numFilters):\n",
    "            result = valMat[nImg,:,:,i]\n",
    "            result_sum = np.sum(result)\n",
    "            means[i] = result_sum\n",
    "\n",
    "    ##sortedFirst = np.sort(meanSum)\n",
    "    positiveSortedFirst = [] \n",
    "    \n",
    "    for sort in meanSum:\n",
    "        if sort<0:\n",
    "            sort = sort*-1\n",
    "            positiveSortedFirst.append(sort)\n",
    "        else :\n",
    "            positiveSortedFirst.append(sort)\n",
    "        \n",
    "    \n",
    "        \n",
    "        \n",
    "        \n",
    "    #positiveSortedFirst = np.sort(positiveSortedFirst)\n",
    "    \n",
    "   \n",
    "        \n",
    "        \n",
    "    \n",
    "    average = [x / numImg for x in positiveSortedFirst]\n",
    "    print(numImg)\n",
    "    #print(average)\n",
    "    #averageSorted = np.sort(average)\n",
    "    return average"
   ]
  },
  {
   "cell_type": "code",
   "execution_count": 457,
   "metadata": {},
   "outputs": [],
   "source": [
    "def calculateFCMEDynamic (valuesMat):\n",
    "    shape = valuesMat.shape\n",
    "    valMat = valuesMat\n",
    "    numFilters = shape[1]\n",
    "    ##print(\"we are in the fully connected layer function\")\n",
    "    ##print(valMat)\n",
    "    means = np.zeros(numFilters)\n",
    "    meanSum = np.zeros(numFilters)\n",
    "\n",
    "    for nImg in range(0,numImg):\n",
    "        meanSum = meanSum + means\n",
    "        for i in range(0,numFilters):\n",
    "            result = valMat[nImg,i]\n",
    "            result_sum = np.sum(result)\n",
    "            means[i] = result_sum\n",
    "\n",
    "    positiveSortedFirst = []\n",
    "    for sort in meanSum:\n",
    "        if sort<0:\n",
    "            sort = sort*-1\n",
    "        positiveSortedFirst.append(sort)\n",
    "        \n",
    "    #positiveSortedFirst = np.sort(positiveSortedFirst)\n",
    "    average = [x / numImg for x in positiveSortedFirst]\n",
    "    #averageSorted = np.sort(average)\n",
    "    return average"
   ]
  },
  {
   "cell_type": "code",
   "execution_count": 229,
   "metadata": {},
   "outputs": [],
   "source": [
    "\n",
    "##calculateConvME(conv1)"
   ]
  },
  {
   "cell_type": "code",
   "execution_count": 230,
   "metadata": {},
   "outputs": [
    {
     "name": "stdout",
     "output_type": "stream",
     "text": [
      "(100, 32, 32, 1)\n"
     ]
    }
   ],
   "source": [
    "plc = tf.placeholder(tf.float32, shape=(100,32,32,1))\n",
    "#y = tf.matmul(plc, plc)\n",
    "x_image = tf.reshape(x, [-1, 32, 32, 1])\n",
    "y = X_test[0:100]\n",
    "print(y.shape)\n",
    "\n",
    "rand_array = np.random.rand(100, 32,32,1)\n",
    "#print(session.run(y, feed_dict={plc: x_image}))  # Will succeed."
   ]
  },
  {
   "cell_type": "code",
   "execution_count": 155,
   "metadata": {},
   "outputs": [
    {
     "data": {
      "text/plain": [
       "<tf.Tensor 'Relu_36:0' shape=(?, 28, 28, 6) dtype=float32>"
      ]
     },
     "execution_count": 155,
     "metadata": {},
     "output_type": "execute_result"
    }
   ],
   "source": [
    "conv1"
   ]
  },
  {
   "cell_type": "code",
   "execution_count": 231,
   "metadata": {},
   "outputs": [],
   "source": [
    "def loadValues(numImg):\n",
    "    images = X_test[0:numImg]\n",
    "    #print(images.shape)\n",
    "    feed_dict = {a: images}\n",
    "    values_conv1 = session.run(conv1, feed_dict=feed_dict)\n",
    "    values_conv2 = session.run(conv2, feed_dict = feed_dict)\n",
    "    values_fc1 = session.run(fc1, feed_dict = feed_dict)\n",
    "    values_fc2 = session.run(fc2, feed_dict = feed_dict)\n",
    "    values_fc3 = session.run(logits, feed_dict = feed_dict)\n",
    "    \n",
    "    valuesConvMat = [values_conv1, values_conv2]\n",
    "    valuesFcMat = [values_fc1, values_fc2, values_fc3]\n",
    "    \n",
    "    return valuesConvMat, valuesFcMat, numImg"
   ]
  },
  {
   "cell_type": "markdown",
   "metadata": {},
   "source": [
    "### the reason why some of these values can be negative despite the abs difference is that the filter is getting convolved with the input\n",
    "### image that may have negative individual values.\n",
    "\n",
    "### at this step, we need to ensure that all our ME values are positive"
   ]
  },
  {
   "cell_type": "code",
   "execution_count": 604,
   "metadata": {},
   "outputs": [
    {
     "name": "stdout",
     "output_type": "stream",
     "text": [
      "100\n",
      "100\n",
      "end of function\n"
     ]
    }
   ],
   "source": [
    "assignFilters(wConv,wFc)\n",
    "assign_op = weightsFcMat[0].assign(wDiffFc[0])\n",
    "session.run(assign_op)\n",
    "assign_op = weightsConvMat[0].assign(wDiffConv[0])\n",
    "session.run(assign_op)\n",
    "\n",
    "###### LAYER 1 ######\n",
    "valuesConvMat, valuesFcMat, numImg = loadValues(100)\n",
    "#MEConv1,MEConv1Sorted = calculateConvME(valuesConvMat[0])\n",
    "#MEFullyConnected1, MEFullyConnected1Sorted = calculateFCME(valuesFcMat[0])\n",
    "MEConv1 = calculateConvMEDynamic(valuesConvMat[0])\n",
    "MEFullyConnected1 = calculateFCMEDynamic(valuesFcMat[0])\n",
    "\n",
    "assignFilters(wConv,wFc)\n",
    "assign_op = weightsFcMat[1].assign(wDiffFc[1])\n",
    "session.run(assign_op)\n",
    "assign_op = weightsConvMat[1].assign(wDiffConv[1])\n",
    "session.run(assign_op)\n",
    "\n",
    "###### LAYER 2 ######\n",
    "valuesConvMat,valuesFcMat,numImg = loadValues(100)\n",
    "#MEConv2,MEConv2Sorted = calculateConvME(valuesConvMat[1])\n",
    "#MEFullyConnected2, MEFullyConnected2Sorted = calculateFCME(valuesFcMat[1])\n",
    "MEConv2 = calculateConvMEDynamic(valuesConvMat[1])\n",
    "MEFullyConnected2 = calculateFCMEDynamic(valuesFcMat[1])\n",
    "\n",
    "\n",
    "assign_op = weightsFcMat[2].assign(wDiffFc[2])\n",
    "session.run(assign_op)\n",
    "valuesConvMat,valuesFcMat,numImg = loadValues(100)\n",
    "#MEConv1 = calculateConvMEDynamic(valuesConvMat[0])\n",
    "MEFullyConnected3 = calculateFCMEDynamic(valuesFcMat[2])\n",
    "\n",
    "\n",
    "#MEConvMat = [MEConv1Sorted, MEConv2Sorted]\n",
    "#print(MEConv1Sorted)\n",
    "#MEFullyConnectedMat = [MEFullyConnected1Sorted, MEFullyConnected2Sorted, ]\n",
    "print(\"end of function\")"
   ]
  },
  {
   "cell_type": "code",
   "execution_count": 605,
   "metadata": {},
   "outputs": [
    {
     "data": {
      "text/plain": [
       "[0.004957038655411452,\n",
       " 0.005299283304484561,\n",
       " 0.006657063768943772,\n",
       " 0.006653333173599094,\n",
       " 0.0056635732948780056,\n",
       " 0.005658130797091872]"
      ]
     },
     "execution_count": 605,
     "metadata": {},
     "output_type": "execute_result"
    }
   ],
   "source": [
    "MEConv1"
   ]
  },
  {
   "cell_type": "code",
   "execution_count": 451,
   "metadata": {},
   "outputs": [],
   "source": [
    "def plotFCME(ME1, ME2, ME3):\n",
    "    import numpy as np\n",
    "    x1 = np.arange(len(ME1))\n",
    "    x2 = np.arange(len(ME2))\n",
    "    x3 = np.arange(len(ME3))\n",
    "    \n",
    "    plt.bar(x1, ME1, color = 'b', align = 'center')\n",
    "    d1=  len(ME1) + 1\n",
    "    plt.bar(x2+d1, ME2, color = 'g', align = 'center')\n",
    "    d2 = d1 + len(ME2) + 1\n",
    "    #location = x2 + len(ME1) \n",
    "    plt.bar(x3+d2, ME3, color = 'r', align = 'center')"
   ]
  },
  {
   "cell_type": "code",
   "execution_count": 452,
   "metadata": {},
   "outputs": [],
   "source": [
    "def plotConvME(ME1, ME2):\n",
    "    import numpy as np\n",
    "    x1 = np.arange(len(ME1))\n",
    "    y1 = np.arange(len(ME2))\n",
    "    plt.bar(x1, ME1, color = 'b', align = 'center')\n",
    "    plt.bar(y1+7, ME2,color = 'g', align = 'center')"
   ]
  },
  {
   "cell_type": "code",
   "execution_count": 606,
   "metadata": {},
   "outputs": [],
   "source": [
    "MEConv1Sorted = np.sort(MEConv1)\n",
    "MEConv2Sorted = np.sort(MEConv2)\n",
    "MEFullyConnected1Sorted = np.sort(MEFullyConnected1)\n",
    "MEFullyConnected2Sorted = np.sort(MEFullyConnected2)\n",
    "MEFullyConnected3Sorted = np.sort(MEFullyConnected3)\n"
   ]
  },
  {
   "cell_type": "code",
   "execution_count": 607,
   "metadata": {},
   "outputs": [
    {
     "data": {
      "image/png": "[encoded data removed]",
      "text/plain": [
       "<Figure size 432x288 with 1 Axes>"
      ]
     },
     "metadata": {
      "needs_background": "light"
     },
     "output_type": "display_data"
    }
   ],
   "source": [
    "plotConvME(MEConv1Sorted, MEConv2Sorted)"
   ]
  },
  {
   "cell_type": "code",
   "execution_count": 609,
   "metadata": {},
   "outputs": [
    {
     "data": {
      "text/plain": [
       "[1.8003101104075575e-12,\n",
       " 1.9090465113672656e-12,\n",
       " 1.8454811322784343e-12,\n",
       " 2.119676124076944e-12,\n",
       " 1.93743892131816e-12,\n",
       " 1.938718831198498e-12,\n",
       " 1.755311986257127e-12,\n",
       " 2.145820779094268e-12,\n",
       " 1.8337486791617646e-12,\n",
       " 1.835762972299433e-12]"
      ]
     },
     "execution_count": 609,
     "metadata": {},
     "output_type": "execute_result"
    }
   ],
   "source": [
    "MEFullyConnected3\n"
   ]
  },
  {
   "cell_type": "code",
   "execution_count": 608,
   "metadata": {},
   "outputs": [
    {
     "data": {
      "image/png": "[encoded data removed]",
      "text/plain": [
       "<Figure size 432x288 with 1 Axes>"
      ]
     },
     "metadata": {
      "needs_background": "light"
     },
     "output_type": "display_data"
    }
   ],
   "source": [
    "plotFCME(MEFullyConnected1Sorted,MEFullyConnected2Sorted,MEFullyConnected3Sorted)"
   ]
  },
  {
   "cell_type": "code",
   "execution_count": null,
   "metadata": {},
   "outputs": [],
   "source": []
  }
 ],
 "metadata": {
  "kernelspec": {
   "display_name": "Python 3",
   "language": "python",
   "name": "python3"
  },
  "language_info": {
   "codemirror_mode": {
    "name": "ipython",
    "version": 3
   },
   "file_extension": ".py",
   "mimetype": "text/x-python",
   "name": "python",
   "nbconvert_exporter": "python",
   "pygments_lexer": "ipython3",
   "version": "3.7.0"
  }
 },
 "nbformat": 4,
 "nbformat_minor": 2
}
