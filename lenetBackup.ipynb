{
 "cells": [
  {
   "cell_type": "code",
   "execution_count": 9,
   "metadata": {},
   "outputs": [
    {
     "name": "stdout",
     "output_type": "stream",
     "text": [
      "Extracting MNIST_data/train-images-idx3-ubyte.gz\n",
      "Extracting MNIST_data/train-labels-idx1-ubyte.gz\n",
      "Extracting MNIST_data/t10k-images-idx3-ubyte.gz\n",
      "Extracting MNIST_data/t10k-labels-idx1-ubyte.gz\n",
      "\n",
      "Image Shape: (28, 28, 1)\n",
      "\n",
      "Training Set:   55000 samples\n",
      "Validation Set: 5000 samples\n",
      "Test Set:       10000 samples\n"
     ]
    }
   ],
   "source": [
    "from tensorflow.examples.tutorials.mnist import input_data\n",
    "\n",
    "mnist = input_data.read_data_sets(\"MNIST_data/\", reshape=False)\n",
    "X_train, y_train           = mnist.train.images, mnist.train.labels\n",
    "X_validation, y_validation = mnist.validation.images, mnist.validation.labels\n",
    "X_test, y_test             = mnist.test.images, mnist.test.labels\n",
    "\n",
    "assert(len(X_train) == len(y_train))\n",
    "assert(len(X_validation) == len(y_validation))\n",
    "assert(len(X_test) == len(y_test))\n",
    "\n",
    "print()\n",
    "print(\"Image Shape: {}\".format(X_train[0].shape))\n",
    "print()\n",
    "print(\"Training Set:   {} samples\".format(len(X_train)))\n",
    "print(\"Validation Set: {} samples\".format(len(X_validation)))\n",
    "print(\"Test Set:       {} samples\".format(len(X_test)))"
   ]
  },
  {
   "cell_type": "code",
   "execution_count": 10,
   "metadata": {},
   "outputs": [
    {
     "name": "stdout",
     "output_type": "stream",
     "text": [
      "Updated Image Shape: (32, 32, 1)\n"
     ]
    }
   ],
   "source": [
    "import numpy as np\n",
    "\n",
    "# Pad images with 0s\n",
    "X_train      = np.pad(X_train, ((0,0),(2,2),(2,2),(0,0)), 'constant')\n",
    "X_validation = np.pad(X_validation, ((0,0),(2,2),(2,2),(0,0)), 'constant')\n",
    "X_test       = np.pad(X_test, ((0,0),(2,2),(2,2),(0,0)), 'constant')\n",
    "    \n",
    "print(\"Updated Image Shape: {}\".format(X_train[0].shape))"
   ]
  },
  {
   "cell_type": "code",
   "execution_count": 11,
   "metadata": {},
   "outputs": [
    {
     "name": "stdout",
     "output_type": "stream",
     "text": [
      "4\n"
     ]
    },
    {
     "data": {
      "image/png": "[encoded data removed]",
      "text/plain": [
       "<Figure size 72x72 with 1 Axes>"
      ]
     },
     "metadata": {
      "needs_background": "light"
     },
     "output_type": "display_data"
    }
   ],
   "source": [
    "import random\n",
    "import numpy as np\n",
    "import matplotlib.pyplot as plt\n",
    "%matplotlib inline\n",
    "\n",
    "index = random.randint(0, len(X_train))\n",
    "image = X_train[index].squeeze()\n",
    "\n",
    "plt.figure(figsize=(1,1))\n",
    "plt.imshow(image, cmap=\"gray\")\n",
    "print(y_train[index])"
   ]
  },
  {
   "cell_type": "code",
   "execution_count": 12,
   "metadata": {},
   "outputs": [],
   "source": [
    "from sklearn.utils import shuffle\n",
    "\n",
    "X_train, y_train = shuffle(X_train, y_train)"
   ]
  },
  {
   "cell_type": "code",
   "execution_count": 13,
   "metadata": {},
   "outputs": [],
   "source": [
    "import tensorflow as tf\n",
    "\n",
    "EPOCHS = 10\n",
    "BATCH_SIZE = 128"
   ]
  },
  {
   "cell_type": "code",
   "execution_count": 49,
   "metadata": {},
   "outputs": [
    {
     "name": "stdout",
     "output_type": "stream",
     "text": [
      "Trying to restore last checkpoint ...\n",
      "Failed to restore checkpoint. Initializing variables instead.\n"
     ]
    }
   ],
   "source": [
    "import os\n",
    "session = tf.Session()\n",
    "saver = tf.train.Saver()\n",
    "save_dir = 'checkpoints_lenetMinst/'\n",
    "if not os.path.exists(save_dir):\n",
    "    os.makedirs(save_dir)\n",
    "save_path = os.path.join(save_dir, 'best_validation')\n",
    "#session.run(tf.global_variables_initializer())\n",
    "init = tf.global_variables_initializer()\n",
    "session.run(init)\n",
    "try:\n",
    "    print(\"Trying to restore last checkpoint ...\")\n",
    "\n",
    "    # Use TensorFlow to find the latest checkpoint - if any.\n",
    "    last_chk_path = tf.train.latest_checkpoint(checkpoint_dir=save_dir)\n",
    "\n",
    "    # Try and load the data in the checkpoint.\n",
    "    saver.restore(session, save_path=last_chk_path)\n",
    "\n",
    "    # If we get to this point, the checkpoint was successfully loaded.\n",
    "    print(\"Restored checkpoint from:\", last_chk_path)\n",
    "except:\n",
    "    # If the above failed for some reason, simply\n",
    "    # initialize all the variables for the TensorFlow graph.\n",
    "    print(\"Failed to restore checkpoint. Initializing variables instead.\")\n",
    "    session.run(tf.global_variables_initializer())\n",
    "\n"
   ]
  },
  {
   "cell_type": "code",
   "execution_count": 185,
   "metadata": {},
   "outputs": [],
   "source": [
    "sigma = 0.1\n",
    "conv1_w = tf.Variable(tf.truncated_normal(shape = [5,5,1,6],mean = 0, stddev = 0.1))\n",
    "conv2_w = tf.Variable(tf.truncated_normal(shape = [5,5,6,16], mean = 0, stddev = 0.1))\n",
    "fc1_w = tf.Variable(tf.truncated_normal(shape = (400,120), mean = 0, stddev = sigma))\n",
    "fc2_w = tf.Variable(tf.truncated_normal(shape = (120,84), mean = 0, stddev = sigma))\n",
    "fc3_w = tf.Variable(tf.truncated_normal(shape = (84,10), mean = 0 , stddev = sigma))\n",
    "session.run(tf.global_variables_initializer())\n"
   ]
  },
  {
   "cell_type": "markdown",
   "metadata": {},
   "source": [
    "## store the original weights"
   ]
  },
  {
   "cell_type": "code",
   "execution_count": 61,
   "metadata": {},
   "outputs": [],
   "source": [
    "wConvOrig1 = session.run(conv1_w)\n",
    "wConvOrig2 = session.run(conv2_w)\n",
    "wFcOrig1 = session.run(fc1_w)\n",
    "wFcOrig2 = session.run(fc2_w)\n",
    "wFcOrig3 = session.run(fc3_w)"
   ]
  },
  {
   "cell_type": "code",
   "execution_count": 63,
   "metadata": {},
   "outputs": [],
   "source": [
    "wOrigConv = [wConvOrig1, wConvOrig2 ]\n",
    "wOrigFc = [wFcOrig1, wFcOrig2, wFcOrig3]"
   ]
  },
  {
   "cell_type": "code",
   "execution_count": 46,
   "metadata": {},
   "outputs": [],
   "source": [
    "from tensorflow.contrib.layers import flatten\n",
    "\n",
    "def LeNet(x):    \n",
    "    # Hyperparameters\n",
    "    mu = 0\n",
    "    sigma = 0.1\n",
    "    layer_depth = {\n",
    "        'layer_1' : 6,\n",
    "        'layer_2' : 16,\n",
    "        'layer_3' : 120,\n",
    "        'layer_f1' : 84\n",
    "    }\n",
    "\n",
    "    \n",
    "    # TODO: Layer 1: Convolutional. Input = 32x32x1. Output = 28x28x6.\n",
    "    \n",
    "    conv1_b = tf.Variable(tf.zeros(6))\n",
    "    conv1 = tf.nn.conv2d(x,conv1_w, strides = [1,1,1,1], padding = 'VALID') + conv1_b \n",
    "    # TODO: Activation.\n",
    "    conv1 = tf.nn.relu(conv1)\n",
    "\n",
    "    # TODO: Pooling. Input = 28x28x6. Output = 14x14x6.\n",
    "    pool_1 = tf.nn.max_pool(conv1,ksize = [1,2,2,1], strides = [1,2,2,1], padding = 'VALID')\n",
    "    \n",
    "    # TODO: Layer 2: Convolutional. Output = 10x10x16.\n",
    "    conv2_w = tf.Variable(tf.truncated_normal(shape = [5,5,6,16], mean = mu, stddev = sigma))\n",
    "    conv2_b = tf.Variable(tf.zeros(16))\n",
    "    conv2 = tf.nn.conv2d(pool_1, conv2_w, strides = [1,1,1,1], padding = 'VALID') + conv2_b\n",
    "    # TODO: Activation.\n",
    "    conv2 = tf.nn.relu(conv2)\n",
    "\n",
    "    # TODO: Pooling. Input = 10x10x16. Output = 5x5x16.\n",
    "    pool_2 = tf.nn.max_pool(conv2, ksize = [1,2,2,1], strides = [1,2,2,1], padding = 'VALID') \n",
    "    \n",
    "    # TODO: Flatten. Input = 5x5x16. Output = 400.\n",
    "    fc1 = flatten(pool_2)\n",
    "    \n",
    "    # TODO: Layer 3: Fully Connected. Input = 400. Output = 120.\n",
    "    fc1_w = tf.Variable(tf.truncated_normal(shape = (400,120), mean = mu, stddev = sigma))\n",
    "    fc1_b = tf.Variable(tf.zeros(120))\n",
    "    fc1 = tf.matmul(fc1,fc1_w) + fc1_b\n",
    "    \n",
    "    # TODO: Activation.\n",
    "    fc1 = tf.nn.relu(fc1)\n",
    "\n",
    "    # TODO: Layer 4: Fully Connected. Input = 120. Output = 84.\n",
    "    fc2_w = tf.Variable(tf.truncated_normal(shape = (120,84), mean = mu, stddev = sigma))\n",
    "    fc2_b = tf.Variable(tf.zeros(84))\n",
    "    fc2 = tf.matmul(fc1,fc2_w) + fc2_b\n",
    "    # TODO: Activation.\n",
    "    fc2 = tf.nn.relu(fc2)\n",
    "    \n",
    "    # TODO: Layer 5: Fully Connected. Input = 84. Output = 10.\n",
    "    fc3_w = tf.Variable(tf.truncated_normal(shape = (84,10), mean = mu , stddev = sigma))\n",
    "    fc3_b = tf.Variable(tf.zeros(10))\n",
    "    logits = tf.matmul(fc2, fc3_w) + fc3_b\n",
    "    return logits, conv1, conv2, fc1, fc2, conv2_w, fc1_w, fc2_w, fc3_w"
   ]
  },
  {
   "cell_type": "code",
   "execution_count": 182,
   "metadata": {},
   "outputs": [],
   "source": [
    "a = tf.placeholder(tf.float32, (100,32,32,1))\n",
    "x_image = tf.reshape(a, [-1, 32, 32, 1])\n",
    "\n",
    "x = tf.placeholder(tf.float32, (None, 32, 32, 1))\n",
    "y = tf.placeholder(tf.int32, (None))\n",
    "one_hot_y = tf.one_hot(y, 10)"
   ]
  },
  {
   "cell_type": "code",
   "execution_count": 183,
   "metadata": {},
   "outputs": [
    {
     "name": "stdout",
     "output_type": "stream",
     "text": [
      "Tensor(\"Relu_52:0\", shape=(100, 28, 28, 6), dtype=float32)\n"
     ]
    }
   ],
   "source": [
    "rate = 0.001\n",
    "\n",
    "logits, conv1, conv2, fc1, fc2, conv2_w, fc1_w, fc2_w, fc3_w = LeNet(x_image)\n",
    "\n",
    "cross_entropy = tf.nn.softmax_cross_entropy_with_logits(logits, one_hot_y)\n",
    "loss_operation = tf.reduce_mean(cross_entropy)\n",
    "optimizer = tf.train.AdamOptimizer(learning_rate = rate)\n",
    "training_operation = optimizer.minimize(loss_operation)\n",
    "\n",
    "\n",
    "print(conv1)"
   ]
  },
  {
   "cell_type": "markdown",
   "metadata": {},
   "source": [
    "## weightsConvMat and weightsFcMat"
   ]
  },
  {
   "cell_type": "code",
   "execution_count": 186,
   "metadata": {},
   "outputs": [],
   "source": [
    "weightsConvMat = [conv1_w, conv2_w]\n",
    "weightsFcMat = [fc1_w, fc2_w, fc3_w]\n",
    "\n",
    "\n",
    "wConv1 = session.run(conv1_w)\n",
    "wConv2 = session.run(conv2_w)\n",
    "wFc1 = session.run(fc1_w)\n",
    "wFc2 = session.run(fc2_w)\n",
    "wFc3 = session.run(fc3_w)\n",
    "\n",
    "wConv = [wConv1, wConv2]\n",
    "wFc = [wFc1, wFc2, wFc3]\n"
   ]
  },
  {
   "cell_type": "code",
   "execution_count": 126,
   "metadata": {},
   "outputs": [],
   "source": [
    "correct_prediction = tf.equal(tf.argmax(logits, 1), tf.argmax(one_hot_y, 1))\n",
    "accuracy_operation = tf.reduce_mean(tf.cast(correct_prediction, tf.float32))\n",
    "saver = tf.train.Saver()\n",
    "\n",
    "def evaluate(X_data, y_data):\n",
    "    num_examples = len(X_data)\n",
    "    total_accuracy = 0\n",
    "    sess = tf.get_default_session()\n",
    "    for offset in range(0, num_examples, BATCH_SIZE):\n",
    "        batch_x, batch_y = X_data[offset:offset+BATCH_SIZE], y_data[offset:offset+BATCH_SIZE]\n",
    "        accuracy = sess.run(accuracy_operation, feed_dict={x: batch_x, y: batch_y})\n",
    "        print(accuracy)\n",
    "        total_accuracy += (accuracy * len(batch_x))\n",
    "    return total_accuracy / num_examples"
   ]
  },
  {
   "cell_type": "code",
   "execution_count": null,
   "metadata": {},
   "outputs": [],
   "source": []
  },
  {
   "cell_type": "code",
   "execution_count": 19,
   "metadata": {},
   "outputs": [
    {
     "name": "stdout",
     "output_type": "stream",
     "text": [
      "Training...\n",
      "\n",
      "EPOCH 1 ...\n",
      "Validation Accuracy = 0.966\n",
      "\n",
      "EPOCH 2 ...\n",
      "Validation Accuracy = 0.979\n",
      "\n",
      "EPOCH 3 ...\n",
      "Validation Accuracy = 0.984\n",
      "\n",
      "EPOCH 4 ...\n",
      "Validation Accuracy = 0.986\n",
      "\n",
      "EPOCH 5 ...\n",
      "Validation Accuracy = 0.983\n",
      "\n",
      "EPOCH 6 ...\n",
      "Validation Accuracy = 0.986\n",
      "\n",
      "EPOCH 7 ...\n",
      "Validation Accuracy = 0.987\n",
      "\n",
      "EPOCH 8 ...\n",
      "Validation Accuracy = 0.987\n",
      "\n",
      "EPOCH 9 ...\n",
      "Validation Accuracy = 0.989\n",
      "\n",
      "EPOCH 10 ...\n",
      "Validation Accuracy = 0.986\n",
      "\n",
      "Model saved\n"
     ]
    }
   ],
   "source": [
    "with tf.Session() as sess:\n",
    "    sess.run(tf.global_variables_initializer())\n",
    "    num_examples = len(X_train)\n",
    "    \n",
    "    print(\"Training...\")\n",
    "    print()\n",
    "    for i in range(EPOCHS):\n",
    "        X_train, y_train = shuffle(X_train, y_train)\n",
    "        for offset in range(0, num_examples, BATCH_SIZE):\n",
    "            end = offset + BATCH_SIZE\n",
    "            batch_x, batch_y = X_train[offset:end], y_train[offset:end]\n",
    "            sess.run(training_operation, feed_dict={x: batch_x, y: batch_y})\n",
    "            \n",
    "        validation_accuracy = evaluate(X_validation, y_validation)\n",
    "        print(\"EPOCH {} ...\".format(i+1))\n",
    "        print(\"Validation Accuracy = {:.3f}\".format(validation_accuracy))\n",
    "        print()\n",
    "        \n",
    "    saver.save(sess, 'lenet')\n",
    "    print(\"Model saved\")"
   ]
  },
  {
   "cell_type": "code",
   "execution_count": 127,
   "metadata": {},
   "outputs": [
    {
     "ename": "FailedPreconditionError",
     "evalue": "Attempting to use uninitialized value Variable_102\n\t [[Node: Variable_102/read = Identity[T=DT_FLOAT, _class=[\"loc:@Variable_102\"], _device=\"/job:localhost/replica:0/task:0/cpu:0\"](Variable_102)]]\n\nCaused by op 'Variable_102/read', defined at:\n  File \"/Users/yaminigaur/anaconda3/lib/python3.7/runpy.py\", line 193, in _run_module_as_main\n    \"__main__\", mod_spec)\n  File \"/Users/yaminigaur/anaconda3/lib/python3.7/runpy.py\", line 85, in _run_code\n    exec(code, run_globals)\n  File \"/Users/yaminigaur/anaconda3/lib/python3.7/site-packages/ipykernel_launcher.py\", line 16, in <module>\n    app.launch_new_instance()\n  File \"/Users/yaminigaur/anaconda3/lib/python3.7/site-packages/traitlets/config/application.py\", line 658, in launch_instance\n    app.start()\n  File \"/Users/yaminigaur/anaconda3/lib/python3.7/site-packages/ipykernel/kernelapp.py\", line 497, in start\n    self.io_loop.start()\n  File \"/Users/yaminigaur/anaconda3/lib/python3.7/site-packages/tornado/platform/asyncio.py\", line 132, in start\n    self.asyncio_loop.run_forever()\n  File \"/Users/yaminigaur/anaconda3/lib/python3.7/asyncio/base_events.py\", line 523, in run_forever\n    self._run_once()\n  File \"/Users/yaminigaur/anaconda3/lib/python3.7/asyncio/base_events.py\", line 1758, in _run_once\n    handle._run()\n  File \"/Users/yaminigaur/anaconda3/lib/python3.7/asyncio/events.py\", line 88, in _run\n    self._context.run(self._callback, *self._args)\n  File \"/Users/yaminigaur/anaconda3/lib/python3.7/site-packages/tornado/platform/asyncio.py\", line 122, in _handle_events\n    handler_func(fileobj, events)\n  File \"/Users/yaminigaur/anaconda3/lib/python3.7/site-packages/tornado/stack_context.py\", line 300, in null_wrapper\n    return fn(*args, **kwargs)\n  File \"/Users/yaminigaur/anaconda3/lib/python3.7/site-packages/zmq/eventloop/zmqstream.py\", line 450, in _handle_events\n    self._handle_recv()\n  File \"/Users/yaminigaur/anaconda3/lib/python3.7/site-packages/zmq/eventloop/zmqstream.py\", line 480, in _handle_recv\n    self._run_callback(callback, msg)\n  File \"/Users/yaminigaur/anaconda3/lib/python3.7/site-packages/zmq/eventloop/zmqstream.py\", line 432, in _run_callback\n    callback(*args, **kwargs)\n  File \"/Users/yaminigaur/anaconda3/lib/python3.7/site-packages/tornado/stack_context.py\", line 300, in null_wrapper\n    return fn(*args, **kwargs)\n  File \"/Users/yaminigaur/anaconda3/lib/python3.7/site-packages/ipykernel/kernelbase.py\", line 283, in dispatcher\n    return self.dispatch_shell(stream, msg)\n  File \"/Users/yaminigaur/anaconda3/lib/python3.7/site-packages/ipykernel/kernelbase.py\", line 233, in dispatch_shell\n    handler(stream, idents, msg)\n  File \"/Users/yaminigaur/anaconda3/lib/python3.7/site-packages/ipykernel/kernelbase.py\", line 399, in execute_request\n    user_expressions, allow_stdin)\n  File \"/Users/yaminigaur/anaconda3/lib/python3.7/site-packages/ipykernel/ipkernel.py\", line 208, in do_execute\n    res = shell.run_cell(code, store_history=store_history, silent=silent)\n  File \"/Users/yaminigaur/anaconda3/lib/python3.7/site-packages/ipykernel/zmqshell.py\", line 537, in run_cell\n    return super(ZMQInteractiveShell, self).run_cell(*args, **kwargs)\n  File \"/Users/yaminigaur/anaconda3/lib/python3.7/site-packages/IPython/core/interactiveshell.py\", line 2662, in run_cell\n    raw_cell, store_history, silent, shell_futures)\n  File \"/Users/yaminigaur/anaconda3/lib/python3.7/site-packages/IPython/core/interactiveshell.py\", line 2785, in _run_cell\n    interactivity=interactivity, compiler=compiler, result=result)\n  File \"/Users/yaminigaur/anaconda3/lib/python3.7/site-packages/IPython/core/interactiveshell.py\", line 2901, in run_ast_nodes\n    if self.run_code(code, result):\n  File \"/Users/yaminigaur/anaconda3/lib/python3.7/site-packages/IPython/core/interactiveshell.py\", line 2961, in run_code\n    exec(code_obj, self.user_global_ns, self.user_ns)\n  File \"<ipython-input-59-15f267902d80>\", line 2, in <module>\n    conv1_w = tf.Variable(tf.truncated_normal(shape = [5,5,1,6],mean = 0, stddev = 0.1))\n  File \"/Users/yaminigaur/anaconda3/lib/python3.7/site-packages/tensorflow/python/ops/variables.py\", line 224, in __init__\n    expected_shape=expected_shape)\n  File \"/Users/yaminigaur/anaconda3/lib/python3.7/site-packages/tensorflow/python/ops/variables.py\", line 370, in _init_from_args\n    self._snapshot = array_ops.identity(self._variable, name=\"read\")\n  File \"/Users/yaminigaur/anaconda3/lib/python3.7/site-packages/tensorflow/python/ops/gen_array_ops.py\", line 1424, in identity\n    result = _op_def_lib.apply_op(\"Identity\", input=input, name=name)\n  File \"/Users/yaminigaur/anaconda3/lib/python3.7/site-packages/tensorflow/python/framework/op_def_library.py\", line 759, in apply_op\n    op_def=op_def)\n  File \"/Users/yaminigaur/anaconda3/lib/python3.7/site-packages/tensorflow/python/framework/ops.py\", line 2240, in create_op\n    original_op=self._default_original_op, op_def=op_def)\n  File \"/Users/yaminigaur/anaconda3/lib/python3.7/site-packages/tensorflow/python/framework/ops.py\", line 1128, in __init__\n    self._traceback = _extract_stack()\n\nFailedPreconditionError (see above for traceback): Attempting to use uninitialized value Variable_102\n\t [[Node: Variable_102/read = Identity[T=DT_FLOAT, _class=[\"loc:@Variable_102\"], _device=\"/job:localhost/replica:0/task:0/cpu:0\"](Variable_102)]]\n",
     "output_type": "error",
     "traceback": [
      "\u001b[0;31m---------------------------------------------------------------------------\u001b[0m",
      "\u001b[0;31mFailedPreconditionError\u001b[0m                   Traceback (most recent call last)",
      "\u001b[0;32m~/anaconda3/lib/python3.7/site-packages/tensorflow/python/client/session.py\u001b[0m in \u001b[0;36m_do_call\u001b[0;34m(self, fn, *args)\u001b[0m\n\u001b[1;32m   1020\u001b[0m     \u001b[0;32mtry\u001b[0m\u001b[0;34m:\u001b[0m\u001b[0;34m\u001b[0m\u001b[0m\n\u001b[0;32m-> 1021\u001b[0;31m       \u001b[0;32mreturn\u001b[0m \u001b[0mfn\u001b[0m\u001b[0;34m(\u001b[0m\u001b[0;34m*\u001b[0m\u001b[0margs\u001b[0m\u001b[0;34m)\u001b[0m\u001b[0;34m\u001b[0m\u001b[0m\n\u001b[0m\u001b[1;32m   1022\u001b[0m     \u001b[0;32mexcept\u001b[0m \u001b[0merrors\u001b[0m\u001b[0;34m.\u001b[0m\u001b[0mOpError\u001b[0m \u001b[0;32mas\u001b[0m \u001b[0me\u001b[0m\u001b[0;34m:\u001b[0m\u001b[0;34m\u001b[0m\u001b[0m\n",
      "\u001b[0;32m~/anaconda3/lib/python3.7/site-packages/tensorflow/python/client/session.py\u001b[0m in \u001b[0;36m_run_fn\u001b[0;34m(session, feed_dict, fetch_list, target_list, options, run_metadata)\u001b[0m\n\u001b[1;32m   1002\u001b[0m                                  \u001b[0mfeed_dict\u001b[0m\u001b[0;34m,\u001b[0m \u001b[0mfetch_list\u001b[0m\u001b[0;34m,\u001b[0m \u001b[0mtarget_list\u001b[0m\u001b[0;34m,\u001b[0m\u001b[0;34m\u001b[0m\u001b[0m\n\u001b[0;32m-> 1003\u001b[0;31m                                  status, run_metadata)\n\u001b[0m\u001b[1;32m   1004\u001b[0m \u001b[0;34m\u001b[0m\u001b[0m\n",
      "\u001b[0;32m~/anaconda3/lib/python3.7/contextlib.py\u001b[0m in \u001b[0;36m__exit__\u001b[0;34m(self, type, value, traceback)\u001b[0m\n\u001b[1;32m    118\u001b[0m             \u001b[0;32mtry\u001b[0m\u001b[0;34m:\u001b[0m\u001b[0;34m\u001b[0m\u001b[0m\n\u001b[0;32m--> 119\u001b[0;31m                 \u001b[0mnext\u001b[0m\u001b[0;34m(\u001b[0m\u001b[0mself\u001b[0m\u001b[0;34m.\u001b[0m\u001b[0mgen\u001b[0m\u001b[0;34m)\u001b[0m\u001b[0;34m\u001b[0m\u001b[0m\n\u001b[0m\u001b[1;32m    120\u001b[0m             \u001b[0;32mexcept\u001b[0m \u001b[0mStopIteration\u001b[0m\u001b[0;34m:\u001b[0m\u001b[0;34m\u001b[0m\u001b[0m\n",
      "\u001b[0;32m~/anaconda3/lib/python3.7/site-packages/tensorflow/python/framework/errors_impl.py\u001b[0m in \u001b[0;36mraise_exception_on_not_ok_status\u001b[0;34m()\u001b[0m\n\u001b[1;32m    468\u001b[0m           \u001b[0mcompat\u001b[0m\u001b[0;34m.\u001b[0m\u001b[0mas_text\u001b[0m\u001b[0;34m(\u001b[0m\u001b[0mpywrap_tensorflow\u001b[0m\u001b[0;34m.\u001b[0m\u001b[0mTF_Message\u001b[0m\u001b[0;34m(\u001b[0m\u001b[0mstatus\u001b[0m\u001b[0;34m)\u001b[0m\u001b[0;34m)\u001b[0m\u001b[0;34m,\u001b[0m\u001b[0;34m\u001b[0m\u001b[0m\n\u001b[0;32m--> 469\u001b[0;31m           pywrap_tensorflow.TF_GetCode(status))\n\u001b[0m\u001b[1;32m    470\u001b[0m   \u001b[0;32mfinally\u001b[0m\u001b[0;34m:\u001b[0m\u001b[0;34m\u001b[0m\u001b[0m\n",
      "\u001b[0;31mFailedPreconditionError\u001b[0m: Attempting to use uninitialized value Variable_102\n\t [[Node: Variable_102/read = Identity[T=DT_FLOAT, _class=[\"loc:@Variable_102\"], _device=\"/job:localhost/replica:0/task:0/cpu:0\"](Variable_102)]]",
      "\nDuring handling of the above exception, another exception occurred:\n",
      "\u001b[0;31mFailedPreconditionError\u001b[0m                   Traceback (most recent call last)",
      "\u001b[0;32m<ipython-input-127-636a1c90e10b>\u001b[0m in \u001b[0;36m<module>\u001b[0;34m()\u001b[0m\n\u001b[1;32m      2\u001b[0m     \u001b[0;31m#saver.restore(sess, tf.train.latest_checkpoint('.'))\u001b[0m\u001b[0;34m\u001b[0m\u001b[0;34m\u001b[0m\u001b[0m\n\u001b[1;32m      3\u001b[0m \u001b[0;34m\u001b[0m\u001b[0m\n\u001b[0;32m----> 4\u001b[0;31m     \u001b[0mtest_accuracy\u001b[0m \u001b[0;34m=\u001b[0m \u001b[0mevaluate\u001b[0m\u001b[0;34m(\u001b[0m\u001b[0mX_test\u001b[0m\u001b[0;34m,\u001b[0m \u001b[0my_test\u001b[0m\u001b[0;34m)\u001b[0m\u001b[0;34m\u001b[0m\u001b[0m\n\u001b[0m\u001b[1;32m      5\u001b[0m     \u001b[0mprint\u001b[0m\u001b[0;34m(\u001b[0m\u001b[0;34m\"Test Accuracy = {:.3f}\"\u001b[0m\u001b[0;34m.\u001b[0m\u001b[0mformat\u001b[0m\u001b[0;34m(\u001b[0m\u001b[0mtest_accuracy\u001b[0m\u001b[0;34m)\u001b[0m\u001b[0;34m)\u001b[0m\u001b[0;34m\u001b[0m\u001b[0m\n",
      "\u001b[0;32m<ipython-input-126-cdc6e041cd68>\u001b[0m in \u001b[0;36mevaluate\u001b[0;34m(X_data, y_data)\u001b[0m\n\u001b[1;32m      9\u001b[0m     \u001b[0;32mfor\u001b[0m \u001b[0moffset\u001b[0m \u001b[0;32min\u001b[0m \u001b[0mrange\u001b[0m\u001b[0;34m(\u001b[0m\u001b[0;36m0\u001b[0m\u001b[0;34m,\u001b[0m \u001b[0mnum_examples\u001b[0m\u001b[0;34m,\u001b[0m \u001b[0mBATCH_SIZE\u001b[0m\u001b[0;34m)\u001b[0m\u001b[0;34m:\u001b[0m\u001b[0;34m\u001b[0m\u001b[0m\n\u001b[1;32m     10\u001b[0m         \u001b[0mbatch_x\u001b[0m\u001b[0;34m,\u001b[0m \u001b[0mbatch_y\u001b[0m \u001b[0;34m=\u001b[0m \u001b[0mX_data\u001b[0m\u001b[0;34m[\u001b[0m\u001b[0moffset\u001b[0m\u001b[0;34m:\u001b[0m\u001b[0moffset\u001b[0m\u001b[0;34m+\u001b[0m\u001b[0mBATCH_SIZE\u001b[0m\u001b[0;34m]\u001b[0m\u001b[0;34m,\u001b[0m \u001b[0my_data\u001b[0m\u001b[0;34m[\u001b[0m\u001b[0moffset\u001b[0m\u001b[0;34m:\u001b[0m\u001b[0moffset\u001b[0m\u001b[0;34m+\u001b[0m\u001b[0mBATCH_SIZE\u001b[0m\u001b[0;34m]\u001b[0m\u001b[0;34m\u001b[0m\u001b[0m\n\u001b[0;32m---> 11\u001b[0;31m         \u001b[0maccuracy\u001b[0m \u001b[0;34m=\u001b[0m \u001b[0msess\u001b[0m\u001b[0;34m.\u001b[0m\u001b[0mrun\u001b[0m\u001b[0;34m(\u001b[0m\u001b[0maccuracy_operation\u001b[0m\u001b[0;34m,\u001b[0m \u001b[0mfeed_dict\u001b[0m\u001b[0;34m=\u001b[0m\u001b[0;34m{\u001b[0m\u001b[0mx\u001b[0m\u001b[0;34m:\u001b[0m \u001b[0mbatch_x\u001b[0m\u001b[0;34m,\u001b[0m \u001b[0my\u001b[0m\u001b[0;34m:\u001b[0m \u001b[0mbatch_y\u001b[0m\u001b[0;34m}\u001b[0m\u001b[0;34m)\u001b[0m\u001b[0;34m\u001b[0m\u001b[0m\n\u001b[0m\u001b[1;32m     12\u001b[0m         \u001b[0mprint\u001b[0m\u001b[0;34m(\u001b[0m\u001b[0maccuracy\u001b[0m\u001b[0;34m)\u001b[0m\u001b[0;34m\u001b[0m\u001b[0m\n\u001b[1;32m     13\u001b[0m         \u001b[0mtotal_accuracy\u001b[0m \u001b[0;34m+=\u001b[0m \u001b[0;34m(\u001b[0m\u001b[0maccuracy\u001b[0m \u001b[0;34m*\u001b[0m \u001b[0mlen\u001b[0m\u001b[0;34m(\u001b[0m\u001b[0mbatch_x\u001b[0m\u001b[0;34m)\u001b[0m\u001b[0;34m)\u001b[0m\u001b[0;34m\u001b[0m\u001b[0m\n",
      "\u001b[0;32m~/anaconda3/lib/python3.7/site-packages/tensorflow/python/client/session.py\u001b[0m in \u001b[0;36mrun\u001b[0;34m(self, fetches, feed_dict, options, run_metadata)\u001b[0m\n\u001b[1;32m    764\u001b[0m     \u001b[0;32mtry\u001b[0m\u001b[0;34m:\u001b[0m\u001b[0;34m\u001b[0m\u001b[0m\n\u001b[1;32m    765\u001b[0m       result = self._run(None, fetches, feed_dict, options_ptr,\n\u001b[0;32m--> 766\u001b[0;31m                          run_metadata_ptr)\n\u001b[0m\u001b[1;32m    767\u001b[0m       \u001b[0;32mif\u001b[0m \u001b[0mrun_metadata\u001b[0m\u001b[0;34m:\u001b[0m\u001b[0;34m\u001b[0m\u001b[0m\n\u001b[1;32m    768\u001b[0m         \u001b[0mproto_data\u001b[0m \u001b[0;34m=\u001b[0m \u001b[0mtf_session\u001b[0m\u001b[0;34m.\u001b[0m\u001b[0mTF_GetBuffer\u001b[0m\u001b[0;34m(\u001b[0m\u001b[0mrun_metadata_ptr\u001b[0m\u001b[0;34m)\u001b[0m\u001b[0;34m\u001b[0m\u001b[0m\n",
      "\u001b[0;32m~/anaconda3/lib/python3.7/site-packages/tensorflow/python/client/session.py\u001b[0m in \u001b[0;36m_run\u001b[0;34m(self, handle, fetches, feed_dict, options, run_metadata)\u001b[0m\n\u001b[1;32m    962\u001b[0m     \u001b[0;32mif\u001b[0m \u001b[0mfinal_fetches\u001b[0m \u001b[0;32mor\u001b[0m \u001b[0mfinal_targets\u001b[0m\u001b[0;34m:\u001b[0m\u001b[0;34m\u001b[0m\u001b[0m\n\u001b[1;32m    963\u001b[0m       results = self._do_run(handle, final_targets, final_fetches,\n\u001b[0;32m--> 964\u001b[0;31m                              feed_dict_string, options, run_metadata)\n\u001b[0m\u001b[1;32m    965\u001b[0m     \u001b[0;32melse\u001b[0m\u001b[0;34m:\u001b[0m\u001b[0;34m\u001b[0m\u001b[0m\n\u001b[1;32m    966\u001b[0m       \u001b[0mresults\u001b[0m \u001b[0;34m=\u001b[0m \u001b[0;34m[\u001b[0m\u001b[0;34m]\u001b[0m\u001b[0;34m\u001b[0m\u001b[0m\n",
      "\u001b[0;32m~/anaconda3/lib/python3.7/site-packages/tensorflow/python/client/session.py\u001b[0m in \u001b[0;36m_do_run\u001b[0;34m(self, handle, target_list, fetch_list, feed_dict, options, run_metadata)\u001b[0m\n\u001b[1;32m   1012\u001b[0m     \u001b[0;32mif\u001b[0m \u001b[0mhandle\u001b[0m \u001b[0;32mis\u001b[0m \u001b[0;32mNone\u001b[0m\u001b[0;34m:\u001b[0m\u001b[0;34m\u001b[0m\u001b[0m\n\u001b[1;32m   1013\u001b[0m       return self._do_call(_run_fn, self._session, feed_dict, fetch_list,\n\u001b[0;32m-> 1014\u001b[0;31m                            target_list, options, run_metadata)\n\u001b[0m\u001b[1;32m   1015\u001b[0m     \u001b[0;32melse\u001b[0m\u001b[0;34m:\u001b[0m\u001b[0;34m\u001b[0m\u001b[0m\n\u001b[1;32m   1016\u001b[0m       return self._do_call(_prun_fn, self._session, handle, feed_dict,\n",
      "\u001b[0;32m~/anaconda3/lib/python3.7/site-packages/tensorflow/python/client/session.py\u001b[0m in \u001b[0;36m_do_call\u001b[0;34m(self, fn, *args)\u001b[0m\n\u001b[1;32m   1032\u001b[0m         \u001b[0;32mexcept\u001b[0m \u001b[0mKeyError\u001b[0m\u001b[0;34m:\u001b[0m\u001b[0;34m\u001b[0m\u001b[0m\n\u001b[1;32m   1033\u001b[0m           \u001b[0;32mpass\u001b[0m\u001b[0;34m\u001b[0m\u001b[0m\n\u001b[0;32m-> 1034\u001b[0;31m       \u001b[0;32mraise\u001b[0m \u001b[0mtype\u001b[0m\u001b[0;34m(\u001b[0m\u001b[0me\u001b[0m\u001b[0;34m)\u001b[0m\u001b[0;34m(\u001b[0m\u001b[0mnode_def\u001b[0m\u001b[0;34m,\u001b[0m \u001b[0mop\u001b[0m\u001b[0;34m,\u001b[0m \u001b[0mmessage\u001b[0m\u001b[0;34m)\u001b[0m\u001b[0;34m\u001b[0m\u001b[0m\n\u001b[0m\u001b[1;32m   1035\u001b[0m \u001b[0;34m\u001b[0m\u001b[0m\n\u001b[1;32m   1036\u001b[0m   \u001b[0;32mdef\u001b[0m \u001b[0m_extend_graph\u001b[0m\u001b[0;34m(\u001b[0m\u001b[0mself\u001b[0m\u001b[0;34m)\u001b[0m\u001b[0;34m:\u001b[0m\u001b[0;34m\u001b[0m\u001b[0m\n",
      "\u001b[0;31mFailedPreconditionError\u001b[0m: Attempting to use uninitialized value Variable_102\n\t [[Node: Variable_102/read = Identity[T=DT_FLOAT, _class=[\"loc:@Variable_102\"], _device=\"/job:localhost/replica:0/task:0/cpu:0\"](Variable_102)]]\n\nCaused by op 'Variable_102/read', defined at:\n  File \"/Users/yaminigaur/anaconda3/lib/python3.7/runpy.py\", line 193, in _run_module_as_main\n    \"__main__\", mod_spec)\n  File \"/Users/yaminigaur/anaconda3/lib/python3.7/runpy.py\", line 85, in _run_code\n    exec(code, run_globals)\n  File \"/Users/yaminigaur/anaconda3/lib/python3.7/site-packages/ipykernel_launcher.py\", line 16, in <module>\n    app.launch_new_instance()\n  File \"/Users/yaminigaur/anaconda3/lib/python3.7/site-packages/traitlets/config/application.py\", line 658, in launch_instance\n    app.start()\n  File \"/Users/yaminigaur/anaconda3/lib/python3.7/site-packages/ipykernel/kernelapp.py\", line 497, in start\n    self.io_loop.start()\n  File \"/Users/yaminigaur/anaconda3/lib/python3.7/site-packages/tornado/platform/asyncio.py\", line 132, in start\n    self.asyncio_loop.run_forever()\n  File \"/Users/yaminigaur/anaconda3/lib/python3.7/asyncio/base_events.py\", line 523, in run_forever\n    self._run_once()\n  File \"/Users/yaminigaur/anaconda3/lib/python3.7/asyncio/base_events.py\", line 1758, in _run_once\n    handle._run()\n  File \"/Users/yaminigaur/anaconda3/lib/python3.7/asyncio/events.py\", line 88, in _run\n    self._context.run(self._callback, *self._args)\n  File \"/Users/yaminigaur/anaconda3/lib/python3.7/site-packages/tornado/platform/asyncio.py\", line 122, in _handle_events\n    handler_func(fileobj, events)\n  File \"/Users/yaminigaur/anaconda3/lib/python3.7/site-packages/tornado/stack_context.py\", line 300, in null_wrapper\n    return fn(*args, **kwargs)\n  File \"/Users/yaminigaur/anaconda3/lib/python3.7/site-packages/zmq/eventloop/zmqstream.py\", line 450, in _handle_events\n    self._handle_recv()\n  File \"/Users/yaminigaur/anaconda3/lib/python3.7/site-packages/zmq/eventloop/zmqstream.py\", line 480, in _handle_recv\n    self._run_callback(callback, msg)\n  File \"/Users/yaminigaur/anaconda3/lib/python3.7/site-packages/zmq/eventloop/zmqstream.py\", line 432, in _run_callback\n    callback(*args, **kwargs)\n  File \"/Users/yaminigaur/anaconda3/lib/python3.7/site-packages/tornado/stack_context.py\", line 300, in null_wrapper\n    return fn(*args, **kwargs)\n  File \"/Users/yaminigaur/anaconda3/lib/python3.7/site-packages/ipykernel/kernelbase.py\", line 283, in dispatcher\n    return self.dispatch_shell(stream, msg)\n  File \"/Users/yaminigaur/anaconda3/lib/python3.7/site-packages/ipykernel/kernelbase.py\", line 233, in dispatch_shell\n    handler(stream, idents, msg)\n  File \"/Users/yaminigaur/anaconda3/lib/python3.7/site-packages/ipykernel/kernelbase.py\", line 399, in execute_request\n    user_expressions, allow_stdin)\n  File \"/Users/yaminigaur/anaconda3/lib/python3.7/site-packages/ipykernel/ipkernel.py\", line 208, in do_execute\n    res = shell.run_cell(code, store_history=store_history, silent=silent)\n  File \"/Users/yaminigaur/anaconda3/lib/python3.7/site-packages/ipykernel/zmqshell.py\", line 537, in run_cell\n    return super(ZMQInteractiveShell, self).run_cell(*args, **kwargs)\n  File \"/Users/yaminigaur/anaconda3/lib/python3.7/site-packages/IPython/core/interactiveshell.py\", line 2662, in run_cell\n    raw_cell, store_history, silent, shell_futures)\n  File \"/Users/yaminigaur/anaconda3/lib/python3.7/site-packages/IPython/core/interactiveshell.py\", line 2785, in _run_cell\n    interactivity=interactivity, compiler=compiler, result=result)\n  File \"/Users/yaminigaur/anaconda3/lib/python3.7/site-packages/IPython/core/interactiveshell.py\", line 2901, in run_ast_nodes\n    if self.run_code(code, result):\n  File \"/Users/yaminigaur/anaconda3/lib/python3.7/site-packages/IPython/core/interactiveshell.py\", line 2961, in run_code\n    exec(code_obj, self.user_global_ns, self.user_ns)\n  File \"<ipython-input-59-15f267902d80>\", line 2, in <module>\n    conv1_w = tf.Variable(tf.truncated_normal(shape = [5,5,1,6],mean = 0, stddev = 0.1))\n  File \"/Users/yaminigaur/anaconda3/lib/python3.7/site-packages/tensorflow/python/ops/variables.py\", line 224, in __init__\n    expected_shape=expected_shape)\n  File \"/Users/yaminigaur/anaconda3/lib/python3.7/site-packages/tensorflow/python/ops/variables.py\", line 370, in _init_from_args\n    self._snapshot = array_ops.identity(self._variable, name=\"read\")\n  File \"/Users/yaminigaur/anaconda3/lib/python3.7/site-packages/tensorflow/python/ops/gen_array_ops.py\", line 1424, in identity\n    result = _op_def_lib.apply_op(\"Identity\", input=input, name=name)\n  File \"/Users/yaminigaur/anaconda3/lib/python3.7/site-packages/tensorflow/python/framework/op_def_library.py\", line 759, in apply_op\n    op_def=op_def)\n  File \"/Users/yaminigaur/anaconda3/lib/python3.7/site-packages/tensorflow/python/framework/ops.py\", line 2240, in create_op\n    original_op=self._default_original_op, op_def=op_def)\n  File \"/Users/yaminigaur/anaconda3/lib/python3.7/site-packages/tensorflow/python/framework/ops.py\", line 1128, in __init__\n    self._traceback = _extract_stack()\n\nFailedPreconditionError (see above for traceback): Attempting to use uninitialized value Variable_102\n\t [[Node: Variable_102/read = Identity[T=DT_FLOAT, _class=[\"loc:@Variable_102\"], _device=\"/job:localhost/replica:0/task:0/cpu:0\"](Variable_102)]]\n"
     ]
    }
   ],
   "source": [
    "with tf.Session() as sess:\n",
    "    saver.restore(sess, tf.train.latest_checkpoint('.'))\n",
    "\n",
    "    test_accuracy = evaluate(X_test, y_test)\n",
    "    print(\"Test Accuracy = {:.3f}\".format(test_accuracy))"
   ]
  },
  {
   "cell_type": "markdown",
   "metadata": {},
   "source": [
    "## create a list to hold the difference between the two filters"
   ]
  },
  {
   "cell_type": "code",
   "execution_count": 187,
   "metadata": {},
   "outputs": [],
   "source": [
    "wDiffConv = []+ wOrigConv\n",
    "wDiffFc = []+ wOrigFc\n"
   ]
  },
  {
   "cell_type": "markdown",
   "metadata": {},
   "source": [
    "## create alternative filters"
   ]
  },
  {
   "cell_type": "code",
   "execution_count": 69,
   "metadata": {},
   "outputs": [],
   "source": [
    "def roundToZeroFilter(wtListConv,wtListFc):\n",
    "    num = len(wtListConv)\n",
    "    \n",
    "    for wtMat in wtListConv:\n",
    "        shape = wtMat.shape\n",
    "        xlen = shape[0]\n",
    "        ylen = shape[1]\n",
    "        numChnls = shape[2]\n",
    "        numFilters = shape[3]\n",
    "\n",
    "        for c in range(0,numChnls):\n",
    "            for i in range(0,numFilters):\n",
    "                for j in range(0,xlen):\n",
    "                    for k in range(0,ylen):\n",
    "                        if wtMat[j,k,c,i] < 0:\n",
    "                            wtMat[j,k,c,i] = 0#float('%.5f'%(w[j,k,0,i]))\n",
    "                            \n",
    "    for wtMat in wtListFc:\n",
    "        shape = wtMat.shape\n",
    "        xlen = shape[0]\n",
    "        ylen = shape[1]\n",
    "        \n",
    "        for i in range(0,xlen):\n",
    "            j=0\n",
    "            while j<ylen:\n",
    "                if wtMat[i,j] < 0:\n",
    "                    wtMat[i,j] = 0\n",
    "                j=j+1;\n"
   ]
  },
  {
   "cell_type": "code",
   "execution_count": 188,
   "metadata": {},
   "outputs": [],
   "source": [
    "roundToZeroFilter(wConv, wFc)"
   ]
  },
  {
   "cell_type": "code",
   "execution_count": 189,
   "metadata": {},
   "outputs": [],
   "source": [
    "def assignFilters(wConv,wFc):\n",
    "    for wIdx in range(0,len(weightsConvMat)):\n",
    "        assign_op = weightsConvMat[wIdx].assign(wConv[wIdx])\n",
    "        session.run(assign_op)\n",
    "        \n",
    "    for wIdx in range(0,len(weightsFcMat)):\n",
    "        assign_op = weightsFcMat[wIdx].assign(wFc[wIdx])\n",
    "        session.run(assign_op)"
   ]
  },
  {
   "cell_type": "code",
   "execution_count": 190,
   "metadata": {},
   "outputs": [],
   "source": [
    "assignFilters(wConv, wFc)\n"
   ]
  },
  {
   "cell_type": "code",
   "execution_count": 191,
   "metadata": {},
   "outputs": [],
   "source": [
    "def calculateDiff(wConv, wFc, wOrigConv, wOrigFc):\n",
    "    for i in range(len(wConv)):\n",
    "        wDiffConv[i] = abs(wOrigConv[i] - wConv[i])\n",
    "        \n",
    "    \n",
    "            \n",
    "        \n",
    "    for i in range(len(wFc)):\n",
    "        wDiffFc[i] = abs(wOrigFc[i] - wFc[i])\n",
    "    \n",
    "    \n",
    "    "
   ]
  },
  {
   "cell_type": "code",
   "execution_count": 192,
   "metadata": {},
   "outputs": [
    {
     "data": {
      "text/plain": [
       "[array([[[[0.11901221, 0.17649537, 0.14901486, 0.06125855, 0.16325521,\n",
       "           0.01867301]],\n",
       " \n",
       "         [[0.1019667 , 0.        , 0.13017558, 0.06762074, 0.        ,\n",
       "           0.21091   ]],\n",
       " \n",
       "         [[0.13760117, 0.21680355, 0.        , 0.        , 0.10063673,\n",
       "           0.        ]],\n",
       " \n",
       "         [[0.02488051, 0.        , 0.08596452, 0.0277138 , 0.14184996,\n",
       "           0.11102046]],\n",
       " \n",
       "         [[0.04878148, 0.        , 0.05983479, 0.02318437, 0.19995129,\n",
       "           0.15812337]]],\n",
       " \n",
       " \n",
       "        [[[0.03432947, 0.05504634, 0.07050648, 0.1523194 , 0.00264934,\n",
       "           0.        ]],\n",
       " \n",
       "         [[0.24724796, 0.07615113, 0.0798961 , 0.05767376, 0.15144458,\n",
       "           0.09254966]],\n",
       " \n",
       "         [[0.        , 0.0700943 , 0.02569157, 0.        , 0.08150136,\n",
       "           0.        ]],\n",
       " \n",
       "         [[0.        , 0.12986498, 0.01112988, 0.03329432, 0.14448228,\n",
       "           0.        ]],\n",
       " \n",
       "         [[0.27490246, 0.03488301, 0.1254354 , 0.13989896, 0.09671538,\n",
       "           0.04375383]]],\n",
       " \n",
       " \n",
       "        [[[0.00966713, 0.        , 0.05728886, 0.13634576, 0.02679256,\n",
       "           0.15211765]],\n",
       " \n",
       "         [[0.0563044 , 0.        , 0.04199659, 0.        , 0.        ,\n",
       "           0.        ]],\n",
       " \n",
       "         [[0.        , 0.36662406, 0.07841549, 0.        , 0.1398311 ,\n",
       "           0.        ]],\n",
       " \n",
       "         [[0.        , 0.17046048, 0.        , 0.        , 0.170503  ,\n",
       "           0.        ]],\n",
       " \n",
       "         [[0.26322335, 0.        , 0.1018199 , 0.        , 0.11406647,\n",
       "           0.05640245]]],\n",
       " \n",
       " \n",
       "        [[[0.06126926, 0.06265043, 0.        , 0.        , 0.03997491,\n",
       "           0.05737381]],\n",
       " \n",
       "         [[0.04386366, 0.        , 0.        , 0.09469342, 0.04549794,\n",
       "           0.10867242]],\n",
       " \n",
       "         [[0.06581622, 0.        , 0.03798839, 0.        , 0.06224154,\n",
       "           0.12103337]],\n",
       " \n",
       "         [[0.02403325, 0.21672364, 0.10043703, 0.13198201, 0.01239657,\n",
       "           0.1328799 ]],\n",
       " \n",
       "         [[0.15970236, 0.        , 0.15098587, 0.16324422, 0.05418089,\n",
       "           0.04203562]]],\n",
       " \n",
       " \n",
       "        [[[0.        , 0.        , 0.06348784, 0.        , 0.        ,\n",
       "           0.01713701]],\n",
       " \n",
       "         [[0.04069798, 0.11559572, 0.15181462, 0.14444546, 0.01369069,\n",
       "           0.11803942]],\n",
       " \n",
       "         [[0.21365312, 0.        , 0.15130192, 0.01955385, 0.21006234,\n",
       "           0.01245372]],\n",
       " \n",
       "         [[0.01925184, 0.02696515, 0.        , 0.04575766, 0.16347177,\n",
       "           0.05712298]],\n",
       " \n",
       "         [[0.20176475, 0.        , 0.1467578 , 0.15461934, 0.18825111,\n",
       "           0.        ]]]], dtype=float32),\n",
       " array([[[[0.03255305, 0.        , 0.29437298, ..., 0.        ,\n",
       "           0.        , 0.1322488 ],\n",
       "          [0.04851311, 0.11749621, 0.1620423 , ..., 0.16591361,\n",
       "           0.01653572, 0.06160241],\n",
       "          [0.2646823 , 0.        , 0.11556073, ..., 0.01168376,\n",
       "           0.14815837, 0.00479824],\n",
       "          [0.17782184, 0.08575718, 0.05849301, ..., 0.18905452,\n",
       "           0.09539146, 0.29519778],\n",
       "          [0.06498586, 0.03163162, 0.2240414 , ..., 0.19560137,\n",
       "           0.05024523, 0.06336216],\n",
       "          [0.08096595, 0.10788002, 0.06266864, ..., 0.        ,\n",
       "           0.        , 0.00836816]],\n",
       " \n",
       "         [[0.15461186, 0.00515672, 0.        , ..., 0.0696151 ,\n",
       "           0.24720177, 0.        ],\n",
       "          [0.1448436 , 0.18236928, 0.        , ..., 0.        ,\n",
       "           0.2580658 , 0.08778127],\n",
       "          [0.12718236, 0.05565182, 0.07015749, ..., 0.18952361,\n",
       "           0.0047159 , 0.02233487],\n",
       "          [0.0093422 , 0.        , 0.07333135, ..., 0.        ,\n",
       "           0.08964356, 0.15570572],\n",
       "          [0.02780213, 0.1341074 , 0.14237997, ..., 0.03610386,\n",
       "           0.11186236, 0.03896319],\n",
       "          [0.13206384, 0.00977727, 0.07854139, ..., 0.07680744,\n",
       "           0.00495444, 0.00236068]],\n",
       " \n",
       "         [[0.        , 0.04185499, 0.        , ..., 0.04857452,\n",
       "           0.21135   , 0.        ],\n",
       "          [0.1025846 , 0.        , 0.07482345, ..., 0.03273974,\n",
       "           0.0207412 , 0.        ],\n",
       "          [0.        , 0.04366793, 0.05263844, ..., 0.06502551,\n",
       "           0.06071233, 0.01692641],\n",
       "          [0.        , 0.07923082, 0.08905029, ..., 0.05972368,\n",
       "           0.06989262, 0.10800583],\n",
       "          [0.14437202, 0.00101965, 0.        , ..., 0.        ,\n",
       "           0.1811521 , 0.0573683 ],\n",
       "          [0.15241642, 0.08427771, 0.        , ..., 0.12239879,\n",
       "           0.01081173, 0.13272063]],\n",
       " \n",
       "         [[0.0038656 , 0.10690033, 0.12683812, ..., 0.06829774,\n",
       "           0.08088957, 0.12072033],\n",
       "          [0.        , 0.05464665, 0.        , ..., 0.05385901,\n",
       "           0.06821024, 0.04233037],\n",
       "          [0.        , 0.01876735, 0.13274099, ..., 0.07848396,\n",
       "           0.        , 0.14657018],\n",
       "          [0.        , 0.14857157, 0.03278141, ..., 0.09036457,\n",
       "           0.01675533, 0.08791686],\n",
       "          [0.        , 0.        , 0.07641101, ..., 0.        ,\n",
       "           0.05004824, 0.04953749],\n",
       "          [0.        , 0.10405623, 0.        , ..., 0.        ,\n",
       "           0.05972033, 0.        ]],\n",
       " \n",
       "         [[0.08189444, 0.235855  , 0.09630233, ..., 0.        ,\n",
       "           0.03998565, 0.03514881],\n",
       "          [0.        , 0.16400933, 0.        , ..., 0.        ,\n",
       "           0.00640226, 0.31040245],\n",
       "          [0.1508792 , 0.08963211, 0.        , ..., 0.09985881,\n",
       "           0.01736431, 0.2469306 ],\n",
       "          [0.0168454 , 0.03782758, 0.07057723, ..., 0.15625812,\n",
       "           0.        , 0.05312711],\n",
       "          [0.06151457, 0.12058878, 0.        , ..., 0.        ,\n",
       "           0.00257714, 0.18372811],\n",
       "          [0.00955896, 0.        , 0.        , ..., 0.09388468,\n",
       "           0.02895769, 0.10627015]]],\n",
       " \n",
       " \n",
       "        [[[0.13041551, 0.        , 0.06412711, ..., 0.04118063,\n",
       "           0.        , 0.16641596],\n",
       "          [0.06074297, 0.07026311, 0.0602117 , ..., 0.08433567,\n",
       "           0.15353166, 0.        ],\n",
       "          [0.03793591, 0.0242279 , 0.01218133, ..., 0.02196611,\n",
       "           0.1991869 , 0.12953472],\n",
       "          [0.04860757, 0.        , 0.        , ..., 0.01526229,\n",
       "           0.11844554, 0.03056839],\n",
       "          [0.0219763 , 0.25901112, 0.06567383, ..., 0.        ,\n",
       "           0.16124253, 0.11432782],\n",
       "          [0.01054982, 0.08250719, 0.18738829, ..., 0.00107732,\n",
       "           0.05935458, 0.14425093]],\n",
       " \n",
       "         [[0.        , 0.00120741, 0.03095133, ..., 0.05699183,\n",
       "           0.14979023, 0.        ],\n",
       "          [0.12583189, 0.09951131, 0.17011067, ..., 0.13191912,\n",
       "           0.        , 0.1295666 ],\n",
       "          [0.18791723, 0.20097053, 0.00293382, ..., 0.09402309,\n",
       "           0.0421295 , 0.02775135],\n",
       "          [0.0277379 , 0.0238319 , 0.        , ..., 0.22141877,\n",
       "           0.12459049, 0.05331522],\n",
       "          [0.        , 0.2802578 , 0.08045855, ..., 0.22532052,\n",
       "           0.        , 0.11163168],\n",
       "          [0.1162646 , 0.00530203, 0.21602449, ..., 0.02560717,\n",
       "           0.15057419, 0.        ]],\n",
       " \n",
       "         [[0.06232769, 0.19113882, 0.        , ..., 0.01441459,\n",
       "           0.        , 0.16886038],\n",
       "          [0.        , 0.08291995, 0.15962608, ..., 0.08983609,\n",
       "           0.14091092, 0.        ],\n",
       "          [0.06396469, 0.14172265, 0.        , ..., 0.02867991,\n",
       "           0.        , 0.04403777],\n",
       "          [0.08704048, 0.08961245, 0.10640743, ..., 0.00726926,\n",
       "           0.05837315, 0.04352392],\n",
       "          [0.2384524 , 0.21343118, 0.03197756, ..., 0.0896731 ,\n",
       "           0.        , 0.01356975],\n",
       "          [0.11604771, 0.00348753, 0.06985676, ..., 0.06467646,\n",
       "           0.        , 0.        ]],\n",
       " \n",
       "         [[0.06952684, 0.02251942, 0.11587298, ..., 0.01135903,\n",
       "           0.        , 0.07986634],\n",
       "          [0.08346121, 0.13274999, 0.08652884, ..., 0.        ,\n",
       "           0.12439562, 0.27008525],\n",
       "          [0.16294965, 0.07638073, 0.04924678, ..., 0.3058809 ,\n",
       "           0.        , 0.06628616],\n",
       "          [0.        , 0.08265675, 0.02389078, ..., 0.12556909,\n",
       "           0.        , 0.        ],\n",
       "          [0.        , 0.05693882, 0.21593411, ..., 0.1297357 ,\n",
       "           0.08757407, 0.13920674],\n",
       "          [0.03754985, 0.03904291, 0.18849038, ..., 0.22230077,\n",
       "           0.03254299, 0.22344185]],\n",
       " \n",
       "         [[0.        , 0.1138823 , 0.08470424, ..., 0.        ,\n",
       "           0.15103732, 0.09054522],\n",
       "          [0.        , 0.        , 0.        , ..., 0.08791745,\n",
       "           0.2789423 , 0.07424597],\n",
       "          [0.10884117, 0.00729191, 0.        , ..., 0.10501419,\n",
       "           0.        , 0.1733593 ],\n",
       "          [0.12649453, 0.03455851, 0.1609997 , ..., 0.09736972,\n",
       "           0.09649992, 0.16576014],\n",
       "          [0.02629196, 0.08605512, 0.08806267, ..., 0.02612638,\n",
       "           0.        , 0.01965438],\n",
       "          [0.1970384 , 0.0331698 , 0.14661759, ..., 0.        ,\n",
       "           0.09697233, 0.        ]]],\n",
       " \n",
       " \n",
       "        [[[0.19363664, 0.        , 0.        , ..., 0.03656594,\n",
       "           0.00288457, 0.08173315],\n",
       "          [0.        , 0.00892883, 0.        , ..., 0.075505  ,\n",
       "           0.14671156, 0.13741189],\n",
       "          [0.        , 0.14499676, 0.        , ..., 0.02288719,\n",
       "           0.00939249, 0.        ],\n",
       "          [0.10612612, 0.01786611, 0.02973093, ..., 0.01576429,\n",
       "           0.05067201, 0.06257882],\n",
       "          [0.        , 0.        , 0.08611481, ..., 0.        ,\n",
       "           0.02931991, 0.        ],\n",
       "          [0.11308189, 0.        , 0.15560476, ..., 0.        ,\n",
       "           0.06102103, 0.13137326]],\n",
       " \n",
       "         [[0.        , 0.03302263, 0.05596791, ..., 0.14902878,\n",
       "           0.10238069, 0.        ],\n",
       "          [0.11632005, 0.02616567, 0.0748477 , ..., 0.08069009,\n",
       "           0.16341819, 0.11991338],\n",
       "          [0.13766174, 0.06197304, 0.01660762, ..., 0.085022  ,\n",
       "           0.24676022, 0.04953099],\n",
       "          [0.03254455, 0.09484483, 0.        , ..., 0.13956246,\n",
       "           0.10753119, 0.        ],\n",
       "          [0.00408593, 0.107715  , 0.02220812, ..., 0.12749353,\n",
       "           0.        , 0.03363515],\n",
       "          [0.24268308, 0.00642146, 0.00992832, ..., 0.02900259,\n",
       "           0.17895086, 0.        ]],\n",
       " \n",
       "         [[0.        , 0.14541426, 0.14376885, ..., 0.19618186,\n",
       "           0.11188549, 0.04136606],\n",
       "          [0.15020107, 0.02594207, 0.23203257, ..., 0.        ,\n",
       "           0.13566723, 0.00600607],\n",
       "          [0.        , 0.2308682 , 0.17643978, ..., 0.        ,\n",
       "           0.01157723, 0.        ],\n",
       "          [0.        , 0.08348604, 0.18811801, ..., 0.14169249,\n",
       "           0.03672073, 0.18918116],\n",
       "          [0.        , 0.01899778, 0.05786851, ..., 0.01234334,\n",
       "           0.06813651, 0.        ],\n",
       "          [0.03889715, 0.09463095, 0.        , ..., 0.        ,\n",
       "           0.25839487, 0.31402403]],\n",
       " \n",
       "         [[0.        , 0.08628276, 0.01076194, ..., 0.06145564,\n",
       "           0.2756297 , 0.0162276 ],\n",
       "          [0.        , 0.08998314, 0.12362538, ..., 0.        ,\n",
       "           0.17624629, 0.02419436],\n",
       "          [0.18136345, 0.        , 0.00506183, ..., 0.        ,\n",
       "           0.20141721, 0.1193866 ],\n",
       "          [0.02616096, 0.04963535, 0.07331394, ..., 0.06029902,\n",
       "           0.09385966, 0.0597208 ],\n",
       "          [0.15933836, 0.02953944, 0.07157193, ..., 0.05348677,\n",
       "           0.1954392 , 0.06670804],\n",
       "          [0.0951031 , 0.        , 0.13425823, ..., 0.19800346,\n",
       "           0.05722635, 0.04771588]],\n",
       " \n",
       "         [[0.00627787, 0.        , 0.06585132, ..., 0.05645751,\n",
       "           0.13884996, 0.12444168],\n",
       "          [0.        , 0.        , 0.03704946, ..., 0.00354286,\n",
       "           0.        , 0.09505714],\n",
       "          [0.04496159, 0.        , 0.01963131, ..., 0.0583301 ,\n",
       "           0.01188582, 0.10525825],\n",
       "          [0.13517833, 0.        , 0.01666834, ..., 0.15983313,\n",
       "           0.15223527, 0.13052474],\n",
       "          [0.05660741, 0.03152188, 0.09833204, ..., 0.00437846,\n",
       "           0.07794818, 0.01751575],\n",
       "          [0.08246335, 0.17204855, 0.15151577, ..., 0.15060407,\n",
       "           0.        , 0.08661419]]],\n",
       " \n",
       " \n",
       "        [[[0.07442304, 0.01526556, 0.01901754, ..., 0.        ,\n",
       "           0.        , 0.13697839],\n",
       "          [0.02736945, 0.3817767 , 0.        , ..., 0.11004525,\n",
       "           0.03853809, 0.107146  ],\n",
       "          [0.08418576, 0.14584671, 0.05783495, ..., 0.12394453,\n",
       "           0.03018035, 0.11737297],\n",
       "          [0.19283998, 0.0531162 , 0.        , ..., 0.24271955,\n",
       "           0.07217684, 0.22850424],\n",
       "          [0.07738384, 0.08415162, 0.08817721, ..., 0.        ,\n",
       "           0.13908069, 0.        ],\n",
       "          [0.24092665, 0.        , 0.0185298 , ..., 0.045667  ,\n",
       "           0.01764352, 0.15472138]],\n",
       " \n",
       "         [[0.        , 0.        , 0.14272386, ..., 0.06346373,\n",
       "           0.01434435, 0.02719836],\n",
       "          [0.06537802, 0.0388199 , 0.00597187, ..., 0.03330123,\n",
       "           0.05061723, 0.        ],\n",
       "          [0.        , 0.03252112, 0.09924735, ..., 0.        ,\n",
       "           0.19698153, 0.04649659],\n",
       "          [0.22309333, 0.03255218, 0.05531557, ..., 0.0865493 ,\n",
       "           0.04906382, 0.01383901],\n",
       "          [0.22888872, 0.1281941 , 0.00106861, ..., 0.1870838 ,\n",
       "           0.        , 0.13691138],\n",
       "          [0.11223664, 0.        , 0.10389381, ..., 0.21805772,\n",
       "           0.2799745 , 0.08547448]],\n",
       " \n",
       "         [[0.        , 0.12031218, 0.        , ..., 0.07757243,\n",
       "           0.11197807, 0.11078925],\n",
       "          [0.09060844, 0.02853833, 0.10234056, ..., 0.0749893 ,\n",
       "           0.05205988, 0.15576383],\n",
       "          [0.05979034, 0.0773971 , 0.11879435, ..., 0.02633008,\n",
       "           0.        , 0.0308468 ],\n",
       "          [0.08407395, 0.        , 0.06771681, ..., 0.07499211,\n",
       "           0.00231717, 0.10382149],\n",
       "          [0.14790505, 0.1678184 , 0.        , ..., 0.        ,\n",
       "           0.07367384, 0.01142403],\n",
       "          [0.        , 0.05846843, 0.        , ..., 0.20694244,\n",
       "           0.04971782, 0.        ]],\n",
       " \n",
       "         [[0.06120362, 0.        , 0.02416812, ..., 0.1008322 ,\n",
       "           0.02875857, 0.21238703],\n",
       "          [0.1955859 , 0.17631145, 0.01791229, ..., 0.11413798,\n",
       "           0.17499922, 0.        ],\n",
       "          [0.        , 0.        , 0.        , ..., 0.        ,\n",
       "           0.07972829, 0.17444357],\n",
       "          [0.        , 0.07418337, 0.07757639, ..., 0.13189386,\n",
       "           0.04510243, 0.18514702],\n",
       "          [0.07784866, 0.        , 0.09747081, ..., 0.00092354,\n",
       "           0.03910768, 0.1818669 ],\n",
       "          [0.11661258, 0.10222936, 0.12967433, ..., 0.        ,\n",
       "           0.16445759, 0.        ]],\n",
       " \n",
       "         [[0.15587123, 0.        , 0.24324688, ..., 0.        ,\n",
       "           0.        , 0.10133757],\n",
       "          [0.1633686 , 0.04364109, 0.09456222, ..., 0.08062921,\n",
       "           0.16210298, 0.03297369],\n",
       "          [0.20966277, 0.01150731, 0.02063844, ..., 0.07608247,\n",
       "           0.        , 0.03084085],\n",
       "          [0.0790754 , 0.10519057, 0.        , ..., 0.02898809,\n",
       "           0.14090638, 0.03715299],\n",
       "          [0.        , 0.03383404, 0.13031796, ..., 0.07818831,\n",
       "           0.10955129, 0.        ],\n",
       "          [0.03754791, 0.1920759 , 0.02791062, ..., 0.        ,\n",
       "           0.04045765, 0.12014782]]],\n",
       " \n",
       " \n",
       "        [[[0.04062858, 0.1205767 , 0.18105763, ..., 0.        ,\n",
       "           0.15257837, 0.        ],\n",
       "          [0.00185989, 0.16691706, 0.04557832, ..., 0.1431631 ,\n",
       "           0.035933  , 0.        ],\n",
       "          [0.06196679, 0.06509283, 0.14246736, ..., 0.00486598,\n",
       "           0.12071585, 0.02449073],\n",
       "          [0.09026029, 0.11928379, 0.11584133, ..., 0.15327726,\n",
       "           0.        , 0.10054441],\n",
       "          [0.0932208 , 0.17342348, 0.        , ..., 0.        ,\n",
       "           0.25208098, 0.06654166],\n",
       "          [0.11146525, 0.046763  , 0.04836884, ..., 0.        ,\n",
       "           0.20646766, 0.17782047]],\n",
       " \n",
       "         [[0.        , 0.02174657, 0.        , ..., 0.07548035,\n",
       "           0.06308354, 0.07651015],\n",
       "          [0.        , 0.03825925, 0.        , ..., 0.27216613,\n",
       "           0.05923597, 0.09666234],\n",
       "          [0.21828485, 0.01797242, 0.18953507, ..., 0.05398314,\n",
       "           0.        , 0.13042875],\n",
       "          [0.00553051, 0.07284677, 0.03178237, ..., 0.1495875 ,\n",
       "           0.09042806, 0.0066172 ],\n",
       "          [0.08722246, 0.05277907, 0.02954016, ..., 0.14753823,\n",
       "           0.        , 0.13280983],\n",
       "          [0.07315075, 0.06684774, 0.        , ..., 0.07620548,\n",
       "           0.02056357, 0.29284978]],\n",
       " \n",
       "         [[0.        , 0.14337812, 0.07440794, ..., 0.        ,\n",
       "           0.01164016, 0.        ],\n",
       "          [0.02713118, 0.17503595, 0.03922202, ..., 0.06521297,\n",
       "           0.00459519, 0.        ],\n",
       "          [0.03673677, 0.        , 0.18167792, ..., 0.        ,\n",
       "           0.16097127, 0.        ],\n",
       "          [0.00434724, 0.16082288, 0.20081994, ..., 0.09254321,\n",
       "           0.06082097, 0.        ],\n",
       "          [0.15594205, 0.        , 0.        , ..., 0.10030587,\n",
       "           0.13989766, 0.14393988],\n",
       "          [0.        , 0.02051969, 0.20695877, ..., 0.069715  ,\n",
       "           0.01616706, 0.02261792]],\n",
       " \n",
       "         [[0.08579309, 0.0819315 , 0.        , ..., 0.        ,\n",
       "           0.1651405 , 0.11486214],\n",
       "          [0.11443544, 0.14567398, 0.00792196, ..., 0.        ,\n",
       "           0.12816206, 0.        ],\n",
       "          [0.        , 0.06812759, 0.06577377, ..., 0.16283178,\n",
       "           0.0027827 , 0.11728033],\n",
       "          [0.        , 0.03756894, 0.06502899, ..., 0.15749216,\n",
       "           0.09708184, 0.04809928],\n",
       "          [0.16677356, 0.18896155, 0.        , ..., 0.        ,\n",
       "           0.05806554, 0.02276056],\n",
       "          [0.08653368, 0.05843351, 0.09979319, ..., 0.02765541,\n",
       "           0.17525303, 0.02067138]],\n",
       " \n",
       "         [[0.06776459, 0.09826427, 0.        , ..., 0.        ,\n",
       "           0.        , 0.03158731],\n",
       "          [0.        , 0.01754814, 0.196519  , ..., 0.15722978,\n",
       "           0.        , 0.06484936],\n",
       "          [0.09990162, 0.1148432 , 0.        , ..., 0.16850409,\n",
       "           0.08814932, 0.        ],\n",
       "          [0.06593   , 0.2732396 , 0.        , ..., 0.        ,\n",
       "           0.13669445, 0.11995178],\n",
       "          [0.        , 0.07902543, 0.1608293 , ..., 0.        ,\n",
       "           0.12656002, 0.        ],\n",
       "          [0.1538557 , 0.        , 0.        , ..., 0.        ,\n",
       "           0.07992823, 0.10107598]]]], dtype=float32)]"
      ]
     },
     "execution_count": 192,
     "metadata": {},
     "output_type": "execute_result"
    }
   ],
   "source": [
    "calculateDiff(wConv, wFc, wOrigConv, wOrigFc)\n",
    "wDiffConv\n"
   ]
  },
  {
   "cell_type": "code",
   "execution_count": 205,
   "metadata": {
    "scrolled": true
   },
   "outputs": [],
   "source": [
    "\n",
    "#def calculateConvME()\n",
    "\n"
   ]
  },
  {
   "cell_type": "code",
   "execution_count": 224,
   "metadata": {},
   "outputs": [],
   "source": [
    "#numImg = 5"
   ]
  },
  {
   "cell_type": "code",
   "execution_count": 225,
   "metadata": {},
   "outputs": [],
   "source": [
    "def calculateConvMEIntermediate(valuesMat):\n",
    "    for value in valuesMat:\n",
    "        average, averageSorted = calculateConvME(value)"
   ]
  },
  {
   "cell_type": "code",
   "execution_count": 226,
   "metadata": {},
   "outputs": [],
   "source": [
    "def calculateConvME(valuesMat):\n",
    "    shape = valuesMat.shape\n",
    "    valMat = valuesMat\n",
    "    numFilters = shape[3]\n",
    "    print(\"THE SIZE OF THE FILTERS IS \")\n",
    "    print(valuesMat.shape)\n",
    "    means = np.zeros(numFilters)\n",
    "    meanSum = np.zeros(numFilters)\n",
    "    \n",
    "    for nImg in range(0,numImg):\n",
    "        meanSum = meanSum + means\n",
    "        for i in range(0,numFilters):\n",
    "            result = valMat[nImg,:,:,i]\n",
    "            result_sum = np.sum(result)\n",
    "            means[i] = result_sum\n",
    "\n",
    "    average = [x / numImg for x in meanSum]\n",
    "    averageSorted = np.sort(average)\n",
    "    return average, averageSorted"
   ]
  },
  {
   "cell_type": "code",
   "execution_count": 241,
   "metadata": {},
   "outputs": [],
   "source": [
    "def calculateFCME(valuesMat):\n",
    "    shape = valuesMat.shape\n",
    "    valMat = valuesMat\n",
    "    numFilters = shape[1]\n",
    "    means = np.zeros(numFilters)\n",
    "    meanSum = np.zeros(numFilters)\n",
    "    \n",
    "    for nImg in range(0, numImg):\n",
    "        meanSum = meanSum + means\n",
    "        for i in range(0, numFilters):\n",
    "            result = valMat[nImg, i]\n",
    "            result_sum = np.sum(result)\n",
    "            means[i] = result_sum\n",
    "            \n",
    "    average = [x/numImg for x in meanSum]\n",
    "    averageSorted = np.sort(average)\n",
    "    return average, averageSorted"
   ]
  },
  {
   "cell_type": "code",
   "execution_count": 229,
   "metadata": {},
   "outputs": [],
   "source": [
    "\n",
    "##calculateConvME(conv1)"
   ]
  },
  {
   "cell_type": "code",
   "execution_count": 230,
   "metadata": {},
   "outputs": [
    {
     "name": "stdout",
     "output_type": "stream",
     "text": [
      "(100, 32, 32, 1)\n"
     ]
    }
   ],
   "source": [
    "plc = tf.placeholder(tf.float32, shape=(100,32,32,1))\n",
    "#y = tf.matmul(plc, plc)\n",
    "x_image = tf.reshape(x, [-1, 32, 32, 1])\n",
    "y = X_test[0:100]\n",
    "print(y.shape)\n",
    "\n",
    "rand_array = np.random.rand(100, 32,32,1)\n",
    "#print(session.run(y, feed_dict={plc: x_image}))  # Will succeed."
   ]
  },
  {
   "cell_type": "code",
   "execution_count": 155,
   "metadata": {},
   "outputs": [
    {
     "data": {
      "text/plain": [
       "<tf.Tensor 'Relu_36:0' shape=(?, 28, 28, 6) dtype=float32>"
      ]
     },
     "execution_count": 155,
     "metadata": {},
     "output_type": "execute_result"
    }
   ],
   "source": [
    "conv1"
   ]
  },
  {
   "cell_type": "code",
   "execution_count": 231,
   "metadata": {},
   "outputs": [],
   "source": [
    "def loadValues(numImg):\n",
    "    images = X_test[0:numImg]\n",
    "    #print(images.shape)\n",
    "    feed_dict = {a: images}\n",
    "    values_conv1 = session.run(conv1, feed_dict=feed_dict)\n",
    "    values_conv2 = session.run(conv2, feed_dict = feed_dict)\n",
    "    values_fc1 = session.run(fc1, feed_dict = feed_dict)\n",
    "    values_fc2 = session.run(fc2, feed_dict = feed_dict)\n",
    "    values_fc3 = session.run(logits, feed_dict = feed_dict)\n",
    "    \n",
    "    valuesConvMat = [values_conv1, values_conv2]\n",
    "    valuesFcMat = [values_fc1, values_fc2, values_fc3]\n",
    "    \n",
    "    return valuesConvMat, valuesFcMat, numImg"
   ]
  },
  {
   "cell_type": "markdown",
   "metadata": {},
   "source": [
    "### the reason why some of these values can be negative despite the abs difference is that the filter is getting convolved with the input\n",
    "### image that may have negative individual values.\n",
    "\n",
    "### at this step, we need to ensure that all our ME values are positive"
   ]
  },
  {
   "cell_type": "code",
   "execution_count": 255,
   "metadata": {},
   "outputs": [
    {
     "name": "stdout",
     "output_type": "stream",
     "text": [
      "THE SIZE OF THE FILTERS IS \n",
      "(100, 28, 28, 6)\n",
      "THE SIZE OF THE FILTERS IS \n",
      "(100, 10, 10, 16)\n",
      "end of function\n"
     ]
    }
   ],
   "source": [
    "assignFilters(wConv,wFc)\n",
    "assign_op = weightsFcMat[0].assign(wDiffFc[0])\n",
    "session.run(assign_op)\n",
    "assign_op = weightsConvMat[0].assign(wDiffConv[0])\n",
    "session.run(assign_op)\n",
    "\n",
    "###### LAYER 1 ######\n",
    "valuesConvMat, valuesFcMat, numImg = loadValues(100)\n",
    "MEConv1,MEConv1Sorted = calculateConvME(valuesConvMat[0])\n",
    "MEFullyConnected1, MEFullyConnected1Sorted = calculateFCME(valuesFcMat[0])\n",
    "\n",
    "\n",
    "assignFilters(wConv,wFc)\n",
    "assign_op = weightsFcMat[1].assign(wDiffFc[1])\n",
    "session.run(assign_op)\n",
    "assign_op = weightsConvMat[1].assign(wDiffConv[1])\n",
    "session.run(assign_op)\n",
    "\n",
    "###### LAYER 2 ######\n",
    "valuesConvMat,valuesFcMat,numImg = loadValues(100)\n",
    "MEConv2,MEConv2Sorted = calculateConvME(valuesConvMat[1])\n",
    "MEFullyConnected2, MEFullyConnected2Sorted = calculateFCME(valuesFcMat[1])\n",
    "\n",
    "assign_op = weightsFcMat[2].assign(wDiffFc[2])\n",
    "session.run(assign_op)\n",
    "valuesConvMat,valuesFcMat,numImg = loadValues(100)\n",
    "MEFullyConnected3, MEFullyConnected3Sorted = calculateFCME(valuesFcMat[2])\n",
    "\n",
    "\n",
    "#MEConvMat = [MEConv1Sorted, MEConv2Sorted]\n",
    "#print(MEConv1Sorted)\n",
    "#MEFullyConnectedMat = [MEFullyConnected1Sorted, MEFullyConnected2Sorted, ]\n",
    "print(\"end of function\")"
   ]
  },
  {
   "cell_type": "code",
   "execution_count": 257,
   "metadata": {},
   "outputs": [
    {
     "data": {
      "text/plain": [
       "[4.432142291069031,\n",
       " 3.312230508327484,\n",
       " 0.6281358251348138,\n",
       " 12.49908395767212,\n",
       " 2.0987892973423006,\n",
       " 0.07514176176395267,\n",
       " 3.0432707297801973,\n",
       " 4.202534377574921,\n",
       " 12.635461831092835,\n",
       " 11.883553409576416,\n",
       " 21.06974052429199,\n",
       " 5.856409554481506,\n",
       " 5.026970236301422,\n",
       " 12.018123908042908,\n",
       " 0.5041962166130542,\n",
       " 5.630631861686706]"
      ]
     },
     "execution_count": 257,
     "metadata": {},
     "output_type": "execute_result"
    }
   ],
   "source": [
    "MEConv2"
   ]
  },
  {
   "cell_type": "code",
   "execution_count": null,
   "metadata": {},
   "outputs": [],
   "source": []
  },
  {
   "cell_type": "code",
   "execution_count": null,
   "metadata": {},
   "outputs": [],
   "source": []
  },
  {
   "cell_type": "code",
   "execution_count": 263,
   "metadata": {},
   "outputs": [],
   "source": [
    "def plotConvME(ME1, ME2):\n",
    "    import numpy as np\n",
    "    x1 = np.arange(len(ME1))\n",
    "    y1 = np.arange(len(ME2))\n",
    "    plt.bar(x1, ME1, color = 'b', align = 'center')\n",
    "    plt.bar(y1+7, ME2,color = 'g', align = 'center')"
   ]
  },
  {
   "cell_type": "code",
   "execution_count": 265,
   "metadata": {},
   "outputs": [
    {
     "data": {
      "image/png": "[encoded data removed]",
      "text/plain": [
       "<Figure size 432x288 with 1 Axes>"
      ]
     },
     "metadata": {
      "needs_background": "light"
     },
     "output_type": "display_data"
    }
   ],
   "source": [
    "plotConvME(MEConv1Sorted, MEConv2Sorted)"
   ]
  },
  {
   "cell_type": "code",
   "execution_count": null,
   "metadata": {},
   "outputs": [],
   "source": []
  }
 ],
 "metadata": {
  "kernelspec": {
   "display_name": "Python 3",
   "language": "python",
   "name": "python3"
  },
  "language_info": {
   "codemirror_mode": {
    "name": "ipython",
    "version": 3
   },
   "file_extension": ".py",
   "mimetype": "text/x-python",
   "name": "python",
   "nbconvert_exporter": "python",
   "pygments_lexer": "ipython3",
   "version": "3.7.0"
  }
 },
 "nbformat": 4,
 "nbformat_minor": 2
}
